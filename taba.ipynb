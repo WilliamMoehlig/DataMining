{
 "cells": [
  {
   "cell_type": "code",
   "execution_count": 1,
   "metadata": {
    "collapsed": true
   },
   "outputs": [],
   "source": [
    "import findspark, pyspark\n",
    "from pyspark.sql import SQLContext, SparkSession\n",
    "from pyspark.sql.types import *\n",
    "from datetime import datetime\n",
    "from functools import reduce\n",
    "from pyspark.sql.functions import col\n",
    "\n",
    "sc = pyspark.SparkContext.getOrCreate()\n",
    "sqlContext = SQLContext(sc)\n",
    "\n",
    "file_attack = 'gtd_14to17_0718dist'\n",
    "file_airport = 'airports-extended'\n",
    "file_largest_airport = 'largest-global-airports-passenger-traffic'\n",
    "file_passengers = 'avia_par_be'"
   ]
  },
  {
   "cell_type": "markdown",
   "metadata": {},
   "source": [
    "# Fetch Data"
   ]
  },
  {
   "cell_type": "code",
   "execution_count": 2,
   "metadata": {
    "collapsed": true
   },
   "outputs": [],
   "source": [
    "data_path = 'D:/DataMining/taba/'\n",
    "#data_path = '../data/Datasets/'\n",
    "\n",
    "attack_data = sc.textFile(data_path + 'gtd-data/' + file_attack + '.csv')\n",
    "airport_data = sc.textFile(data_path + file_airport + '.csv')\n",
    "passenger_data_brussels = sc.textFile(data_path + file_passengers + '.csv')"
   ]
  },
  {
   "cell_type": "markdown",
   "metadata": {},
   "source": [
    "# Prepare Attack Data"
   ]
  },
  {
   "cell_type": "code",
   "execution_count": 5,
   "metadata": {},
   "outputs": [],
   "source": [
    "# Define columns for dataframe\n",
    "new_columns = attack_data.first()\n",
    "new_columns = new_columns.split(\";\")\n",
    "attack_data = attack_data.filter(lambda l: l != new_columns)\n",
    "df_terror_data = attack_data.map(lambda x: x.split(';')).toDF()\n",
    "old_columns = df_terror_data.schema.names"
   ]
  },
  {
   "cell_type": "code",
   "execution_count": 6,
   "metadata": {
    "collapsed": true
   },
   "outputs": [],
   "source": [
    "# apply new column names\n",
    "df_terror_data = reduce(lambda data, idx: data.withColumnRenamed(old_columns[idx], new_columns[idx]), range(len(old_columns)), df_terror_data)"
   ]
  },
  {
   "cell_type": "markdown",
   "metadata": {},
   "source": [
    "# Query Attack Data"
   ]
  },
  {
   "cell_type": "code",
   "execution_count": 7,
   "metadata": {
    "collapsed": true
   },
   "outputs": [],
   "source": [
    "#query_result = df_terror_data.filter(col(\"country_txt\") == \"Belgium\").select('iyear', 'imonth', 'iday','country_txt', 'summary')\n",
    "query_result = df_terror_data.filter(col(\"country_txt\") == \"Belgium\").select('iyear', 'imonth', 'iday','country_txt', 'summary', 'city', 'nkill')\n"
   ]
  },
  {
   "cell_type": "markdown",
   "metadata": {},
   "source": [
    "## Data waar enkel data instaat die impact zou hebben op reizigers 2016"
   ]
  },
  {
   "cell_type": "code",
   "execution_count": 8,
   "metadata": {},
   "outputs": [
    {
     "name": "stdout",
     "output_type": "stream",
     "text": [
      "+-----+------+----+-----------+--------------------+---------+-----+\n",
      "|iyear|imonth|iday|country_txt|             summary|     city|nkill|\n",
      "+-----+------+----+-----------+--------------------+---------+-----+\n",
      "| 2016|     3|  22|    Belgium|03/22/2016: Two s...| Zaventem|   18|\n",
      "| 2016|     3|  22|    Belgium|03/22/2016: A sui...| Brussels|   17|\n",
      "| 2016|     8|   6|    Belgium|08/06/2016: An as...|Charleroi|    1|\n",
      "+-----+------+----+-----------+--------------------+---------+-----+\n",
      "\n"
     ]
    }
   ],
   "source": [
    "query_brussel= query_result.filter(col(\"iyear\") == \"2016\").select('iyear', 'imonth', 'iday','country_txt', 'summary', 'city', 'nkill')\n",
    "query_brussel = query_brussel.filter(col(\"nkill\") > 0)\n",
    "query_brussel.show()"
   ]
  },
  {
   "cell_type": "markdown",
   "metadata": {},
   "source": [
    "# Prepare airport data"
   ]
  },
  {
   "cell_type": "code",
   "execution_count": 9,
   "metadata": {
    "collapsed": true
   },
   "outputs": [],
   "source": [
    "fields = []\n",
    "fields.append(StructField('airport_id', IntegerType(), True)) \n",
    "fields.append(StructField('airport_name', StringType(), True))\n",
    "fields.append(StructField('city', StringType(), True))\n",
    "fields.append(StructField('country', StringType(), True))\n",
    "fields.append(StructField('IATA', StringType(), True)) # kind of airport identifier\n",
    "fields.append(StructField('ICAO', StringType(), True)) # different kind of airport identifier\n",
    "fields.append(StructField('latitude', FloatType(), True))\n",
    "fields.append(StructField('longitude', FloatType(), True))\n",
    "fields.append(StructField('unknown1', IntegerType(), True))\n",
    "fields.append(StructField('unknown2', StringType(), True))\n",
    "fields.append(StructField('unknown3', StringType(), True))\n",
    "fields.append(StructField('continent_city', StringType(), True))\n",
    "fields.append(StructField('idk_column', StringType(), True))\n",
    "fields.append(StructField('source', StringType(), True))\n",
    "schema = StructType(fields)\n",
    "\n",
    "clean_data = (airport_data\n",
    "              .map(lambda line: line.split(';'))\n",
    "              .map(lambda line: [int(line[0]),line[1],line[2],line[3],line[4],line[5],float(line[6]),float(line[7]),int(line[8]),line[9],line[10],line[11],line[12],line[13]])\n",
    "             )\n",
    "df_airport_data = sqlContext.createDataFrame(clean_data, schema)"
   ]
  },
  {
   "cell_type": "markdown",
   "metadata": {},
   "source": [
    "## Verwijderen van stations en andere uit airports dataset en van luchthavens zonder ICAO"
   ]
  },
  {
   "cell_type": "code",
   "execution_count": 10,
   "metadata": {},
   "outputs": [],
   "source": [
    "df_airport_data = df_airport_data.filter((col(\"idk_column\") == \"airport\"))\n",
    "df_airport_data = df_airport_data.filter((col(\"ICAO\") != \"\\\\N\"))\n"
   ]
  },
  {
   "cell_type": "markdown",
   "metadata": {},
   "source": [
    "# Query airport data"
   ]
  },
  {
   "cell_type": "code",
   "execution_count": 11,
   "metadata": {},
   "outputs": [
    {
     "name": "stdout",
     "output_type": "stream",
     "text": [
      "+--------------------------------------+-----------------+---------------+\n",
      "|airport_name                          |city             |continent_city |\n",
      "+--------------------------------------+-----------------+---------------+\n",
      "|Antwerp International Airport (Deurne)|Antwerp          |Europe/Brussels|\n",
      "|Beauvechain Air Base                  |Beauvechain      |Europe/Brussels|\n",
      "|Kleine Brogel Air Base                |Kleine Brogel    |Europe/Brussels|\n",
      "|Brussels Airport                      |Brussels         |Europe/Brussels|\n",
      "|Jehonville Air Base                   |Bertrix          |Europe/Brussels|\n",
      "|Brussels South Charleroi Airport      |Charleroi        |Europe/Brussels|\n",
      "|Chièvres Air Base                     |Chievres         |Europe/Brussels|\n",
      "|Koksijde Air Base                     |Koksijde         |Europe/Brussels|\n",
      "|Florennes Air Base                    |Florennes        |Europe/Brussels|\n",
      "|Wevelgem Airport                      |Kortrijk-vevelgem|Europe/Brussels|\n",
      "|Liège Airport                         |Liege            |Europe/Brussels|\n",
      "|Ostend-Bruges International Airport   |Ostend           |Europe/Brussels|\n",
      "|Zutendaal Air Base                    |Zutendaal        |Europe/Brussels|\n",
      "|Limburg Regional Airport              |Sint-truiden     |Europe/Brussels|\n",
      "|Saint Hubert Air Base                 |St.-hubert       |Europe/Brussels|\n",
      "|Ursel Air Base                        |Ursel            |Europe/Brussels|\n",
      "|Weelde Air Base                       |Weelde           |Europe/Brussels|\n",
      "|Oostmalle Air Base                    |Zoersel          |Europe/Brussels|\n",
      "|Engels heliport                       |Ebenhofen        |Europe/Brussels|\n",
      "|Westkapelle heliport                  |Knokke           |Europe/Brussels|\n",
      "|Goetsenhoven Air Base                 |GOETSENHOVEN     |Europe/Brussels|\n",
      "|Spa (la Sauvenière) Airport           |Spa              |Europe/Brussels|\n",
      "|Suarlée Airport                       |Namur            |Europe/Brussels|\n",
      "|Kiewit Airfield Hasselt               |Hasselt          |Europe/Brussels|\n",
      "+--------------------------------------+-----------------+---------------+\n",
      "\n"
     ]
    }
   ],
   "source": [
    "(df_airport_data\n",
    " .select(df_airport_data.airport_name, df_airport_data.city,df_airport_data.continent_city)\n",
    " .filter(df_airport_data.continent_city == 'Europe/Brussels')\n",
    " .show(df_airport_data.count(),False))"
   ]
  },
  {
   "cell_type": "markdown",
   "metadata": {},
   "source": [
    "# Prepare passenger data"
   ]
  },
  {
   "cell_type": "markdown",
   "metadata": {},
   "source": [
    "## Cleaning"
   ]
  },
  {
   "cell_type": "code",
   "execution_count": 12,
   "metadata": {},
   "outputs": [
    {
     "name": "stdout",
     "output_type": "stream",
     "text": [
      "[['1', 'London Heathrow Airport', 'Hillingdon, Greater London, United Kingdom', '66689466', '4%', 'LHR', 'EGLL'], ['2', 'Dubai International Airport', 'Garhoud, Dubai, United Arab Emirates', '65872250', '15%', 'DXB', 'OMDB']]\n"
     ]
    }
   ],
   "source": [
    "international_passengers_file =  'international-passengers-'\n",
    "international_passengers_2013 = sc.textFile(data_path + international_passengers_file + '2013' + '.csv')\n",
    "international_passengers_2014 = sc.textFile(data_path + international_passengers_file + '2014' + '.csv')\n",
    "\n",
    "total_passengers_file = 'total-passengers-'\n",
    "total_passengers_2013 = sc.textFile(data_path + total_passengers_file + '2013' + '.csv')\n",
    "total_passengers_2014 = sc.textFile(data_path + total_passengers_file + '2014' + '.csv')\n",
    "\n",
    "all_passenger_datasets_except2015 = [international_passengers_2013,international_passengers_2014,total_passengers_2013, total_passengers_2014]\n",
    "\n",
    "counter = sc.accumulator(0)\n",
    "def clean_passenger_data(rdd):\n",
    "    global counter\n",
    "    \n",
    "    header = rdd.first()\n",
    "    rdd = rdd.filter(lambda l: l != header)\n",
    "    rdd = rdd.map(lambda l: l.split(\";\"))\n",
    "\n",
    "    new_columns = rdd.map(lambda l: l[3].split(\"/\"))\n",
    "\n",
    "    rdd = rdd.map(lambda l: l[0:3] + l[4:])\n",
    "\n",
    "    rdd = rdd.zip(new_columns)\n",
    "\n",
    "    rdd = rdd.map(lambda l: l[0] + l[1])\n",
    "    \n",
    "    all_passenger_datasets_except2015[counter.value] = rdd\n",
    "    \n",
    "    counter +=  1\n",
    "    \n",
    "for dataset in all_passenger_datasets_except2015:\n",
    "    clean_passenger_data(dataset)\n",
    "    \n",
    "print(all_passenger_datasets_except2015[0].take(2))"
   ]
  },
  {
   "cell_type": "markdown",
   "metadata": {},
   "source": [
    "## creating dataframe"
   ]
  },
  {
   "cell_type": "markdown",
   "metadata": {},
   "source": [
    "### make the dataframes for the other datasets"
   ]
  },
  {
   "cell_type": "code",
   "execution_count": 13,
   "metadata": {},
   "outputs": [
    {
     "name": "stdout",
     "output_type": "stream",
     "text": [
      "+----+--------------------+--------------------+----------------+------+----+----+\n",
      "|rank|        airport_name|            location|total_passengers|change|IATA|ICAO|\n",
      "+----+--------------------+--------------------+----------------+------+----+----+\n",
      "|   1|London Heathrow A...|Hillingdon, Great...|        66689466|    4%| LHR|EGLL|\n",
      "|   2|Dubai Internation...|Garhoud, Dubai, U...|        65872250|   15%| DXB|OMDB|\n",
      "+----+--------------------+--------------------+----------------+------+----+----+\n",
      "only showing top 2 rows\n",
      "\n",
      "+++++++++++++++++++++++++++++++++\n",
      "\n",
      "+----+--------------------+--------------------+----------------+------+----+----+\n",
      "|rank|        airport_name|            location|total_passengers|change|IATA|ICAO|\n",
      "+----+--------------------+--------------------+----------------+------+----+----+\n",
      "|   1|Dubai Internation...|Garhoud, Dubai, U...|        69954392|  6.2%| DXB|OMDB|\n",
      "|   2|London Heathrow A...|Hillingdon, Great...|        68091095|  1.9%| LHR|EGLL|\n",
      "+----+--------------------+--------------------+----------------+------+----+----+\n",
      "only showing top 2 rows\n",
      "\n",
      "+++++++++++++++++++++++++++++++++\n",
      "\n",
      "+----+--------------------+--------------------+----------------+------+----+----+\n",
      "|rank|        airport_name|            location|total_passengers|change|IATA|ICAO|\n",
      "+----+--------------------+--------------------+----------------+------+----+----+\n",
      "|   1|Hartsfield–Jackso...|Atlanta, Georgia,...|        94430785|    1%| ATL|KATL|\n",
      "|   2|Beijing Capital I...|Chaoyang, Beijing...|        83712355|    2%| PEK|ZBAA|\n",
      "+----+--------------------+--------------------+----------------+------+----+----+\n",
      "only showing top 2 rows\n",
      "\n",
      "+++++++++++++++++++++++++++++++++\n",
      "\n",
      "+----+--------------------+--------------------+----------------+--------+----+-------------+\n",
      "|rank|        airport_name|            location|total_passengers|  change|IATA|         ICAO|\n",
      "+----+--------------------+--------------------+----------------+--------+----+-------------+\n",
      "|   1|Hartsfield–Jackso...|    Atlanta, Georgia|        ATL/KATL|96178899|1.9%|United States|\n",
      "|   2|Beijing Capital I...|Chaoyang-Shunyi, ...|        PEK/ZBAA|86130390|2.9%|        China|\n",
      "+----+--------------------+--------------------+----------------+--------+----+-------------+\n",
      "only showing top 2 rows\n",
      "\n",
      "+++++++++++++++++++++++++++++++++\n",
      "\n"
     ]
    }
   ],
   "source": [
    "fields = []\n",
    "fields.append(StructField('rank', StringType(), True))\n",
    "fields.append(StructField('airport_name', StringType(), True))\n",
    "fields.append(StructField('location', StringType(), True))\n",
    "fields.append(StructField('total_passengers', StringType(), True))\n",
    "fields.append(StructField('change', StringType(), True))\n",
    "fields.append(StructField('IATA', StringType(), True))\n",
    "fields.append(StructField('ICAO', StringType(), True))\n",
    "schema_passengers_data = StructType(fields)\n",
    "\n",
    "\n",
    "df_international_passengers_2013 = sqlContext.createDataFrame(all_passenger_datasets_except2015[0], schema_passengers_data)\n",
    "df_international_passengers_2014 = sqlContext.createDataFrame(all_passenger_datasets_except2015[1], schema_passengers_data)\n",
    "df_total_passengers_2013 = sqlContext.createDataFrame(all_passenger_datasets_except2015[2], schema_passengers_data)\n",
    "df_total_passengers_2014 = sqlContext.createDataFrame(all_passenger_datasets_except2015[3], schema_passengers_data)\n",
    "\n",
    "datasets = [df_international_passengers_2013,df_international_passengers_2014,df_total_passengers_2013,df_total_passengers_2014]\n",
    "for df in datasets:\n",
    "    df.show(2)\n",
    "    print(\"+++++++++++++++++++++++++++++++++\")\n",
    "    print()"
   ]
  },
  {
   "cell_type": "markdown",
   "metadata": {},
   "source": [
    "### fix the data from 2015 missing ICAO column"
   ]
  },
  {
   "cell_type": "code",
   "execution_count": 14,
   "metadata": {
    "collapsed": true
   },
   "outputs": [],
   "source": [
    "fields = []\n",
    "fields.append(StructField('rank', StringType(), True))\n",
    "fields.append(StructField('airport_name', StringType(), True))\n",
    "fields.append(StructField('location', StringType(), True))\n",
    "fields.append(StructField('country', StringType(), True))\n",
    "fields.append(StructField('total_passengers', StringType(), True))\n",
    "fields.append(StructField('change', StringType(), True))\n",
    "fields.append(StructField('IATA', StringType(), True))\n",
    "schema_total_passengers_2015 = StructType(fields)\n",
    "\n",
    "fields = []\n",
    "fields.append(StructField('rank', StringType(), True))\n",
    "fields.append(StructField('airport_name', StringType(), True))\n",
    "fields.append(StructField('location', StringType(), True))\n",
    "fields.append(StructField('total_passengers', StringType(), True))\n",
    "fields.append(StructField('change', StringType(), True))\n",
    "fields.append(StructField('IATA', StringType(), True))\n",
    "schema_international_passengers_2015 = StructType(fields)"
   ]
  },
  {
   "cell_type": "code",
   "execution_count": 15,
   "metadata": {},
   "outputs": [
    {
     "name": "stdout",
     "output_type": "stream",
     "text": [
      "total passenger data 2015\n",
      "+----+----+--------------------+---------+-------+----------------+------+----+\n",
      "|IATA|rank|        airport_name| location|country|total_passengers|change|ICAO|\n",
      "+----+----+--------------------+---------+-------+----------------+------+----+\n",
      "| FRA|  12|Flughafen Frankfu...|Frankfurt|Germany|        61032022|   2.5|EDDF|\n",
      "| IST|  11|Atatürk Internati...| Istanbul| Turkey|        61346229|   8.2|LTBA|\n",
      "+----+----+--------------------+---------+-------+----------------+------+----+\n",
      "only showing top 2 rows\n",
      "\n",
      "\n",
      "++++++++++++++++++++++++++++++\n",
      "\n",
      "international passenger data 2015\n",
      "+----+----+--------------------+-----------------+----------------+------+----+\n",
      "|IATA|rank|        airport_name|         location|total_passengers|change|ICAO|\n",
      "+----+----+--------------------+-----------------+----------------+------+----+\n",
      "| PMI|  36|Aeropuerto de Pal...|Palma De Mallorca|        18107070|   0.6|LEPA|\n",
      "| HEL|  48|Helsinki-Vantaa A...|         Helsinki|        13826868|   2.9|EFHK|\n",
      "+----+----+--------------------+-----------------+----------------+------+----+\n",
      "only showing top 2 rows\n",
      "\n"
     ]
    }
   ],
   "source": [
    "total_passengers_2015 = sc.textFile(data_path + total_passengers_file + '2015' + '.csv')\n",
    "international_passengers_2015 = sc.textFile(data_path + international_passengers_file + '2015' + '.csv')\n",
    "\n",
    "\n",
    "# remove header\n",
    "header = total_passengers_2015.first()\n",
    "total_passengers_2015 = total_passengers_2015.filter(lambda l: l != header)\n",
    "# create dataframe\n",
    "df_total_passengers_2015 = sqlContext.createDataFrame(total_passengers_2015.map(lambda l: l.split(\";\")),schema_total_passengers_2015)\n",
    "# add missing column by join using previous data (df_airport_data)\n",
    "df_total_passengers_2015 = df_total_passengers_2015.join(df_airport_data.select(df_airport_data.IATA, df_airport_data.ICAO),\"IATA\")\n",
    "\n",
    "# repeat for second dataset from 2015\n",
    "international_passengers_2015 = sc.textFile(data_path + international_passengers_file + '2015' + '.csv')\n",
    "header = international_passengers_2015.first()\n",
    "international_passengers_2015 = international_passengers_2015.filter(lambda l: l != header)\n",
    "temp = international_passengers_2015.map(lambda l: l.split(\";\"))\n",
    "df_international_passengers_2015 = sqlContext.createDataFrame(international_passengers_2015.map(lambda l: l.split(\";\")),schema_international_passengers_2015)\n",
    "df_international_passengers_2015 = df_international_passengers_2015.join(df_airport_data.select(df_airport_data.IATA, df_airport_data.ICAO),\"IATA\")\n",
    "\n",
    "# print results\n",
    "print(\"total passenger data 2015\")\n",
    "df_total_passengers_2015.show(2)\n",
    "print()\n",
    "print(\"++++++++++++++++++++++++++++++\")\n",
    "print()\n",
    "print(\"international passenger data 2015\")\n",
    "df_international_passengers_2015.show(2)"
   ]
  },
  {
   "cell_type": "markdown",
   "metadata": {},
   "source": [
    "# Prepare passenger data Brussels Airport"
   ]
  },
  {
   "cell_type": "code",
   "execution_count": 16,
   "metadata": {},
   "outputs": [
    {
     "name": "stdout",
     "output_type": "stream",
     "text": [
      "+----------------+-------+-------+-------+-------+-------+-------+-------+-------+-------+-------+-------+-------+-------+-------+-------+-------+-------+-------+-------+-------+-------+-------+-------+-------+-------+-------+-------+-------+-------+-------+\n",
      "|destination ICAO|2004M03|2004M04|2005M03|2005M04|2006M03|2006M04|2007M03|2007M04|2008M03|2008M04|2009M03|2009M04|2010M03|2010M04|2011M03|2011M04|2012M03|2012M04|2013M03|2013M04|2014M03|2014M04|2015M03|2015M04|2016M03|2016M04|2017M03|2017M04|2018M03|2018M04|\n",
      "+----------------+-------+-------+-------+-------+-------+-------+-------+-------+-------+-------+-------+-------+-------+-------+-------+-------+-------+-------+-------+-------+-------+-------+-------+-------+-------+-------+-------+-------+-------+-------+\n",
      "|            LOWW|  29916|  31346|  27747|  29958|  32884|  31902|  35712|  40232|  43480|  42864|  37655|  37727|  32659|  26410|  35922|  34845|  35000|  34440|  33190|  35530|  35638|  41863|  34789|  39449|  24226|  23667|  35897|  40901|  42131|  47875|\n",
      "|            LSGG|  30095|  24975|  31498|  26380|  33297|  25938|  34815|  26141|  45937|  41149|  42818|  38047|  47694|  30482|  53313|  42769|  51512|  47054|  55627|  47128|  56207|  51004|  56695|  50443|  43760|  32612|  61271|  49433|  62195|  54601|\n",
      "|            EDDF|  38955|  35909|  36727|  40171|  38703|  38485|  43385|  40410|  39721|  44866|  37908|  38718|  39610|  30217|  39904|  39941|  37098|  41623|  36606|  40579|  37155|  38209|  39730|  48836|  28646|  27860|  44091|  50428|  47555|  53228|\n",
      "|            EDDM|  24856|  22599|  22819|  26152|  26699|  29370|  33008|  31623|  31343|  33501|  31057|  29201|  31965|  21393|  32429|  31743|  33591|  27812|  33071|  31695|  33395|  28131|  30855|  29698|  24157|  15642|  34679|  31698|  36192|  33775|\n",
      "|            EKCH|  37115|  33198|  30886|  37328|  34858|  34079|  36554|  32937|  36457|  43283|  32972|  33123|  34605|  24796|  37479|  37446|  45079|  44789|  38419|  42391|  39797|  44080|  43637|  41942|  26949|  25219|  41326|  40005|  40803|  41383|\n",
      "|            LEBL|  41710|  49232|  50457|  55467|  50544|  59551|  45389|  51765|  43670|  47232|  35233|  44463|  34687|  31996|  39884|  45956|  41208|  50546|  39167|  47103|  64598|  80869|  71853|  79889|  46356|  52897|  73800|  87060|  76564|  85906|\n",
      "|            LEMD|  54936|  62827|  52426|  54946|  56799|  64330|  56377|  61100|  60995|  63229|  51926|  65549|  49673|  43350|  49393|  56912|  45763|  49223|  52479|  60407|  57687|  67294|  71619|  73660|  47532|  39611|  91650|  83687|  85250|  89228|\n",
      "|            LEMG|  20671|  32503|  19848|  29290|  20583|  36621|  20357|  32031|  24289|  27690|  17062|  26952|  17171|  19609|  20147|  28580|  20817|  27911|  20147|  26864|  26146|  42695|  30490|  46261|  20845|  27841|  41195|  53374|  40892|  53234|\n",
      "|            LFMN|  19233|  24741|  19248|  20298|  17006|  22283|  17703|  22389|  26471|  26201|  22595|  30017|  20598|  24305|  24947|  32035|  24851|  30204|  22429|  29488|  23669|  31759|  25841|  31659|  15634|  15619|  23838|  31847|  26873|  32262|\n",
      "|            LIRF|  40407|  50232|  42178|  41348|  38205|  43027|  39611|  45985|  40520|  45433|  37726|  47180|  35159|  34951|  44332|  50197|  38877|  47230|  36265|  47910|  56916|  69788|  63128|  77276|  41610|  50261|  63358|  70473|  59634|  71953|\n",
      "|            LPPT|  24948|  35429|  31816|  34725|  31384|  41629|  36572|  45651|  37515|  38880|  29248|  40816|  29276|  29266|  29443|  38510|  30739|  33249|  30551|  34376|  48755|  59493|  54413|  64791|  35463|  37954|  58836|  69833|  53991|  70407|\n",
      "|            LTAI|  11009|  27831|  17868|  34299|  15728|  33405|  17312|  40614|  26043|  36678|  14353|  41345|  14240|  32261|  17477|  53719|  17285|  41616|  24496|  51292|  17621|  52341|  14758|  43521|   7088|   7036|   5356|  19152|      0|      0|\n",
      "|            LTBA|  12159|  16819|  16760|  17416|  14148|  18152|  15771|  16591|  19626|  21960|  21249|  23924|  20475|  20650|  22627|  27195|  25605|  31750|  32832|  36136|  34218|  39641|  30837|  34980|  19860|  15711|  28678|  34314|  34662|  39687|\n",
      "|            EGLL|  74402|  72405|  66946|  70356|  66600|  63640|  64050|  58411|  52717|  51046|  48606|  45563|  42185|  31390|  44252|  40606|  45682|  46759|  49349|  49606|  47174|  50106|  46758|  53150|  33412|  27384|  52987|  58391|  55357|  57970|\n",
      "|            LHBP|      0|      0|   5413|   5844|   6084|   6584|   6653|   6487|   8204|   8016|   9064|   8870|   8938|   7214|   9590|  10383|  21674|  28886|  23596|  26699|  26160|  27129|  24719|  24855|  24336|  24661|  28711|  30788|  29298|  32506|\n",
      "+----------------+-------+-------+-------+-------+-------+-------+-------+-------+-------+-------+-------+-------+-------+-------+-------+-------+-------+-------+-------+-------+-------+-------+-------+-------+-------+-------+-------+-------+-------+-------+\n",
      "\n"
     ]
    }
   ],
   "source": [
    "passenger_data_brussel = passenger_data_brussels.map(lambda l: l.split(\";\"))\n",
    "header = passenger_data_brussel.first()\n",
    "passenger_data_brussel = passenger_data_brussel.filter(lambda l: l != header)\n",
    "df_passenger_data_brussels = passenger_data_brussel.toDF(header)\n",
    "\n",
    "df_passenger_data_brussels.show()"
   ]
  },
  {
   "cell_type": "markdown",
   "metadata": {},
   "source": [
    "## Airport gegevens koppelen aan bestemmingen"
   ]
  },
  {
   "cell_type": "code",
   "execution_count": 17,
   "metadata": {},
   "outputs": [],
   "source": [
    "df_passenger_data_brussels = df_passenger_data_brussels.withColumnRenamed(\"destination ICAO\",\"ICAO\")\n",
    "df_passenger_data_brussels_with_airport = df_passenger_data_brussels.join(df_airport_data.select(df_airport_data.airport_name, df_airport_data.longitude, df_airport_data.latitude, df_airport_data.ICAO),on=['ICAO'],how='inner')"
   ]
  },
  {
   "cell_type": "code",
   "execution_count": 115,
   "metadata": {},
   "outputs": [],
   "source": [
    "df_passenger_data_brussels_with_airport.select(df_passenger_data_brussels.columns[1:])\n",
    "\n",
    "from functools import reduce\n",
    "\n",
    "def superSum(*cols):\n",
    "    return reduce(lambda a, b: a + b, cols)\n",
    "\n",
    "df_total = df_passenger_data_brussels_with_airport.select(df_passenger_data_brussels.columns[1:])\n",
    "df_passenger_data_brussels_with_airport = df_passenger_data_brussels_with_airport.withColumn('total_passengers', superSum(*[df_total[x] for x in df_total.columns]))\n",
    "\n",
    "\n"
   ]
  },
  {
   "cell_type": "markdown",
   "metadata": {},
   "source": [
    "## Populairste bestemmingen maart/april 2004-2018 aangeduid op kaart vanuit Zaventem"
   ]
  },
  {
   "cell_type": "code",
   "execution_count": 130,
   "metadata": {
    "scrolled": true
   },
   "outputs": [
    {
     "data": {
      "text/html": [
       "<div style=\"width:100%;\"><div style=\"position:relative;width:100%;height:0;padding-bottom:60%;\"><iframe src=\"data:text/html;charset=utf-8;base64,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\" style=\"position:absolute;width:100%;height:100%;left:0;top:0;border:none !important;\" allowfullscreen webkitallowfullscreen mozallowfullscreen></iframe></div></div>"
      ],
      "text/plain": [
       "<folium.folium.Map at 0x1e98431b978>"
      ]
     },
     "execution_count": 130,
     "metadata": {},
     "output_type": "execute_result"
    }
   ],
   "source": [
    "import folium\n",
    "#basis map maken\n",
    "df_brussels_airport = df_airport_data.filter(col(\"airport_name\") == \"Brussels Airport\")\n",
    "ba_lat = df_brussels_airport.select(\"latitude\").collect()[0][0]\n",
    "ba_lon = df_brussels_airport.select(\"longitude\").collect()[0][0]\n",
    "ba_loc = [ba_lat, ba_lon]\n",
    "ba_name = df_brussels_airport.select(\"airport_name\").collect()[0][0]\n",
    "first_map = folium.Map(location=[ba_lat, ba_lon], zoom_start=2)\n",
    "#folium.Marker( location=[ ba_lat, ba_lon ], popup=ba_name, icon=folium.Icon(color='red',icon='plane') ).add_to( first_map )\n",
    "sum_zaventem = 0\n",
    "avg_destination = df_passenger_data_brussels_with_airport.agg({\"total_passengers\": \"avg\"}).collect()[0][0]\n",
    "\n",
    "#labels toevoegen\n",
    "for dest in df_passenger_data_brussels_with_airport.rdd.collect():\n",
    "    try:\n",
    "        if(int(dest['total_passengers']) > int(avg_destination)):\n",
    "            c='orange'\n",
    "        else:\n",
    "            c='blue'\n",
    "        p = dest['airport_name'] + \" passengers: \" + f\"{int(dest['total_passengers']) - 1:,}\".replace(',','.')\n",
    "        loc = [ dest['latitude'], dest['longitude'] ]\n",
    "        #parse_html is belangrijk door vreemde tekens in namen\n",
    "        folium.Marker( location=[ dest['latitude'], dest['longitude'] ], popup=folium.Popup(p,parse_html=True), icon=folium.Icon(color=c,icon='plane') ).add_to( first_map )\n",
    "        folium.PolyLine(locations=[ba_loc,loc], color=c).add_to(first_map)\n",
    "        sum_zaventem += dest['total_passengers']\n",
    "        \n",
    "    except:\n",
    "        pass\n",
    "\n",
    "ba_name = ba_name + \" passengers: \"  + f\"{int(sum_zaventem) - 1:,}\".replace(',','.')\n",
    "folium.Marker( location=[ ba_lat, ba_lon ], popup=ba_name, icon=folium.Icon(color='red',icon='plane') ).add_to( first_map )\n",
    "\n",
    "#weergeven map\n",
    "first_map"
   ]
  },
  {
   "cell_type": "markdown",
   "metadata": {},
   "source": [
    "## Data cleanen om grafiek te tonen"
   ]
  },
  {
   "cell_type": "code",
   "execution_count": 19,
   "metadata": {
    "collapsed": true
   },
   "outputs": [],
   "source": [
    "from pyspark.sql.functions import collect_list\n",
    "from pyspark.sql.types import IntegerType\n",
    "from pyspark.sql import functions as F\n",
    "query_result = query_result.withColumn(\"nkill\", query_result[\"nkill\"].cast(IntegerType()))\n",
    "grouped_query = query_result.groupby('iyear').agg(F.sum('nkill').alias(\"nkill\"))"
   ]
  },
  {
   "cell_type": "markdown",
   "metadata": {},
   "source": [
    "## People killed in Belgium by terrorist attacks 2014-2018"
   ]
  },
  {
   "cell_type": "code",
   "execution_count": 20,
   "metadata": {},
   "outputs": [
    {
     "data": {
      "image/png": "[encoded data removed]",
      "text/plain": [
       "<matplotlib.figure.Figure at 0x1e9820a49b0>"
      ]
     },
     "metadata": {},
     "output_type": "display_data"
    }
   ],
   "source": [
    "%matplotlib inline\n",
    "import matplotlib.pyplot as plt\n",
    "import matplotlib.dates as plt_dates\n",
    "from datetime import datetime\n",
    "\n",
    "y_axis = []\n",
    "x_axis = []\n",
    "\n",
    "for row in grouped_query.rdd.collect():\n",
    "     #Toekennen aan x as\n",
    "    x_axis.append(int(row.iyear))\n",
    "    #Toekennen aan y as\n",
    "    y_axis.append(int(row.nkill))\n",
    "    \n",
    "#Maken grafiek\n",
    "fig1 = plt.figure(figsize=(7, 7))\n",
    "fig1.suptitle('People killed in Belgium by terrorist attacks 2014-2018', fontsize=14)\n",
    "ax = fig1.add_subplot(111)\n",
    "ax.set_xlabel('year')\n",
    "ax.set_ylabel('deaths')\n",
    "ax.bar(x_axis, y_axis, fc='red', align='center')\n",
    "ax.xaxis.set_major_locator(plt.MaxNLocator(5))\n",
    "ax.yaxis.set_major_locator(plt.MaxNLocator(5))\n",
    "plt.show()"
   ]
  },
  {
   "cell_type": "code",
   "execution_count": null,
   "metadata": {
    "collapsed": true
   },
   "outputs": [],
   "source": []
  },
  {
   "cell_type": "code",
   "execution_count": null,
   "metadata": {
    "collapsed": true
   },
   "outputs": [],
   "source": []
  }
 ],
 "metadata": {
  "kernelspec": {
   "display_name": "Python 3",
   "language": "python",
   "name": "python3"
  },
  "language_info": {
   "codemirror_mode": {
    "name": "ipython",
    "version": 3
   },
   "file_extension": ".py",
   "mimetype": "text/x-python",
   "name": "python",
   "nbconvert_exporter": "python",
   "pygments_lexer": "ipython3",
   "version": "3.6.1"
  }
 },
 "nbformat": 4,
 "nbformat_minor": 2
}
