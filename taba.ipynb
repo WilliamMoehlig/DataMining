{
 "cells": [
  {
   "cell_type": "code",
   "execution_count": 1,
   "metadata": {
    "collapsed": true
   },
   "outputs": [],
   "source": [
    "import findspark, pyspark\n",
    "from pyspark.sql import SQLContext, SparkSession\n",
    "from pyspark.sql.types import *\n",
    "from datetime import datetime\n",
    "from functools import reduce\n",
    "from pyspark.sql.functions import col\n",
    "\n",
    "sc = pyspark.SparkContext.getOrCreate()\n",
    "sqlContext = SQLContext(sc)\n",
    "\n",
    "file_attack = 'gtd_14to17_0718dist'\n",
    "file_airport = 'airports-extended'\n",
    "file_largest_airport = 'largest-global-airports-passenger-traffic'\n",
    "file_passengers = 'avia_par_be'"
   ]
  },
  {
   "cell_type": "markdown",
   "metadata": {},
   "source": [
    "# Fetch Data"
   ]
  },
  {
   "cell_type": "code",
   "execution_count": 2,
   "metadata": {
    "collapsed": true
   },
   "outputs": [],
   "source": [
    "data_path = 'D:/DataMining/taba/'\n",
    "#data_path = '../data/Datasets/'\n",
    "\n",
    "attack_data = sc.textFile(data_path + 'gtd-data/' + file_attack + '.csv')\n",
    "airport_data = sc.textFile(data_path + file_airport + '.csv')\n",
    "passenger_data_brussels = sc.textFile(data_path + file_passengers + '.csv')"
   ]
  },
  {
   "cell_type": "markdown",
   "metadata": {},
   "source": [
    "# Prepare Attack Data"
   ]
  },
  {
   "cell_type": "code",
   "execution_count": 3,
   "metadata": {
    "collapsed": true
   },
   "outputs": [],
   "source": [
    "# Define columns for dataframe\n",
    "new_columns = attack_data.first()\n",
    "new_columns = new_columns.split(\";\")\n",
    "attack_data = attack_data.filter(lambda l: l != new_columns)\n",
    "df_terror_data = attack_data.map(lambda x: x.split(';')).toDF()\n",
    "old_columns = df_terror_data.schema.names"
   ]
  },
  {
   "cell_type": "code",
   "execution_count": 4,
   "metadata": {
    "collapsed": true
   },
   "outputs": [],
   "source": [
    "# apply new column names\n",
    "df_terror_data = reduce(lambda data, idx: data.withColumnRenamed(old_columns[idx], new_columns[idx]), range(len(old_columns)), df_terror_data)"
   ]
  },
  {
   "cell_type": "markdown",
   "metadata": {},
   "source": [
    "# Query Attack Data"
   ]
  },
  {
   "cell_type": "code",
   "execution_count": 5,
   "metadata": {
    "collapsed": true
   },
   "outputs": [],
   "source": [
    "#query_result = df_terror_data.filter(col(\"country_txt\") == \"Belgium\").select('iyear', 'imonth', 'iday','country_txt', 'summary')\n",
    "query_result = df_terror_data.filter(col(\"country_txt\") == \"Belgium\").select('iyear', 'imonth', 'iday','country_txt', 'summary', 'city', 'nkill')\n"
   ]
  },
  {
   "cell_type": "markdown",
   "metadata": {},
   "source": [
    "## Data waar enkel data instaat die impact zou hebben op reizigers 2016"
   ]
  },
  {
   "cell_type": "code",
   "execution_count": 6,
   "metadata": {},
   "outputs": [
    {
     "name": "stdout",
     "output_type": "stream",
     "text": [
      "+-----+------+----+-----------+--------------------+---------+-----+\n",
      "|iyear|imonth|iday|country_txt|             summary|     city|nkill|\n",
      "+-----+------+----+-----------+--------------------+---------+-----+\n",
      "| 2016|     3|  22|    Belgium|03/22/2016: Two s...| Zaventem|   18|\n",
      "| 2016|     3|  22|    Belgium|03/22/2016: A sui...| Brussels|   17|\n",
      "| 2016|     8|   6|    Belgium|08/06/2016: An as...|Charleroi|    1|\n",
      "+-----+------+----+-----------+--------------------+---------+-----+\n",
      "\n"
     ]
    }
   ],
   "source": [
    "query_brussel= query_result.filter(col(\"iyear\") == \"2016\").select('iyear', 'imonth', 'iday','country_txt', 'summary', 'city', 'nkill')\n",
    "query_brussel = query_brussel.filter(col(\"nkill\") > 0)\n",
    "query_brussel.show()"
   ]
  },
  {
   "cell_type": "markdown",
   "metadata": {},
   "source": [
    "# Prepare airport data"
   ]
  },
  {
   "cell_type": "code",
   "execution_count": 7,
   "metadata": {
    "collapsed": true
   },
   "outputs": [],
   "source": [
    "fields = []\n",
    "fields.append(StructField('airport_id', IntegerType(), True)) \n",
    "fields.append(StructField('airport_name', StringType(), True))\n",
    "fields.append(StructField('city', StringType(), True))\n",
    "fields.append(StructField('country', StringType(), True))\n",
    "fields.append(StructField('IATA', StringType(), True)) # kind of airport identifier\n",
    "fields.append(StructField('ICAO', StringType(), True)) # different kind of airport identifier\n",
    "fields.append(StructField('latitude', FloatType(), True))\n",
    "fields.append(StructField('longitude', FloatType(), True))\n",
    "fields.append(StructField('unknown1', IntegerType(), True))\n",
    "fields.append(StructField('unknown2', StringType(), True))\n",
    "fields.append(StructField('unknown3', StringType(), True))\n",
    "fields.append(StructField('continent_city', StringType(), True))\n",
    "fields.append(StructField('idk_column', StringType(), True))\n",
    "fields.append(StructField('source', StringType(), True))\n",
    "schema = StructType(fields)\n",
    "\n",
    "clean_data = (airport_data\n",
    "              .map(lambda line: line.split(';'))\n",
    "              .map(lambda line: [int(line[0]),line[1],line[2],line[3],line[4],line[5],float(line[6]),float(line[7]),int(line[8]),line[9],line[10],line[11],line[12],line[13]])\n",
    "             )\n",
    "df_airport_data = sqlContext.createDataFrame(clean_data, schema)"
   ]
  },
  {
   "cell_type": "markdown",
   "metadata": {},
   "source": [
    "## Verwijderen van stations en andere uit airports dataset"
   ]
  },
  {
   "cell_type": "code",
   "execution_count": 8,
   "metadata": {},
   "outputs": [],
   "source": [
    "df_airport_data = df_airport_data.filter((col(\"idk_column\") == \"airport\"))"
   ]
  },
  {
   "cell_type": "markdown",
   "metadata": {},
   "source": [
    "# Query airport data"
   ]
  },
  {
   "cell_type": "code",
   "execution_count": 9,
   "metadata": {},
   "outputs": [
    {
     "name": "stdout",
     "output_type": "stream",
     "text": [
      "+--------------------------------------+-----------------+---------------+\n",
      "|airport_name                          |city             |continent_city |\n",
      "+--------------------------------------+-----------------+---------------+\n",
      "|Antwerp International Airport (Deurne)|Antwerp          |Europe/Brussels|\n",
      "|Beauvechain Air Base                  |Beauvechain      |Europe/Brussels|\n",
      "|Kleine Brogel Air Base                |Kleine Brogel    |Europe/Brussels|\n",
      "|Brussels Airport                      |Brussels         |Europe/Brussels|\n",
      "|Jehonville Air Base                   |Bertrix          |Europe/Brussels|\n",
      "|Brussels South Charleroi Airport      |Charleroi        |Europe/Brussels|\n",
      "|Chièvres Air Base                     |Chievres         |Europe/Brussels|\n",
      "|Koksijde Air Base                     |Koksijde         |Europe/Brussels|\n",
      "|Florennes Air Base                    |Florennes        |Europe/Brussels|\n",
      "|Wevelgem Airport                      |Kortrijk-vevelgem|Europe/Brussels|\n",
      "|Liège Airport                         |Liege            |Europe/Brussels|\n",
      "|Ostend-Bruges International Airport   |Ostend           |Europe/Brussels|\n",
      "|Zutendaal Air Base                    |Zutendaal        |Europe/Brussels|\n",
      "|Limburg Regional Airport              |Sint-truiden     |Europe/Brussels|\n",
      "|Saint Hubert Air Base                 |St.-hubert       |Europe/Brussels|\n",
      "|Ursel Air Base                        |Ursel            |Europe/Brussels|\n",
      "|Weelde Air Base                       |Weelde           |Europe/Brussels|\n",
      "|Oostmalle Air Base                    |Zoersel          |Europe/Brussels|\n",
      "|Engels heliport                       |Ebenhofen        |Europe/Brussels|\n",
      "|Westkapelle heliport                  |Knokke           |Europe/Brussels|\n",
      "|Goetsenhoven Air Base                 |GOETSENHOVEN     |Europe/Brussels|\n",
      "|Spa (la Sauvenière) Airport           |Spa              |Europe/Brussels|\n",
      "|Suarlée Airport                       |Namur            |Europe/Brussels|\n",
      "|Kiewit Airfield Hasselt               |Hasselt          |Europe/Brussels|\n",
      "+--------------------------------------+-----------------+---------------+\n",
      "\n"
     ]
    }
   ],
   "source": [
    "(df_airport_data\n",
    " .select(df_airport_data.airport_name, df_airport_data.city,df_airport_data.continent_city)\n",
    " .filter(df_airport_data.continent_city == 'Europe/Brussels')\n",
    " .show(df_airport_data.count(),False))"
   ]
  },
  {
   "cell_type": "markdown",
   "metadata": {},
   "source": [
    "# Prepare passenger data"
   ]
  },
  {
   "cell_type": "markdown",
   "metadata": {},
   "source": [
    "## Cleaning"
   ]
  },
  {
   "cell_type": "code",
   "execution_count": 10,
   "metadata": {},
   "outputs": [
    {
     "name": "stdout",
     "output_type": "stream",
     "text": [
      "[['1', 'London Heathrow Airport', 'Hillingdon, Greater London, United Kingdom', '66689466', '4%', 'LHR', 'EGLL'], ['2', 'Dubai International Airport', 'Garhoud, Dubai, United Arab Emirates', '65872250', '15%', 'DXB', 'OMDB']]\n"
     ]
    }
   ],
   "source": [
    "international_passengers_file =  'international-passengers-'\n",
    "international_passengers_2013 = sc.textFile(data_path + international_passengers_file + '2013' + '.csv')\n",
    "international_passengers_2014 = sc.textFile(data_path + international_passengers_file + '2014' + '.csv')\n",
    "\n",
    "total_passengers_file = 'total-passengers-'\n",
    "total_passengers_2013 = sc.textFile(data_path + total_passengers_file + '2013' + '.csv')\n",
    "total_passengers_2014 = sc.textFile(data_path + total_passengers_file + '2014' + '.csv')\n",
    "\n",
    "all_passenger_datasets_except2015 = [international_passengers_2013,international_passengers_2014,total_passengers_2013, total_passengers_2014]\n",
    "\n",
    "counter = sc.accumulator(0)\n",
    "def clean_passenger_data(rdd):\n",
    "    global counter\n",
    "    \n",
    "    header = rdd.first()\n",
    "    rdd = rdd.filter(lambda l: l != header)\n",
    "    rdd = rdd.map(lambda l: l.split(\";\"))\n",
    "\n",
    "    new_columns = rdd.map(lambda l: l[3].split(\"/\"))\n",
    "\n",
    "    rdd = rdd.map(lambda l: l[0:3] + l[4:])\n",
    "\n",
    "    rdd = rdd.zip(new_columns)\n",
    "\n",
    "    rdd = rdd.map(lambda l: l[0] + l[1])\n",
    "    \n",
    "    all_passenger_datasets_except2015[counter.value] = rdd\n",
    "    \n",
    "    counter +=  1\n",
    "    \n",
    "for dataset in all_passenger_datasets_except2015:\n",
    "    clean_passenger_data(dataset)\n",
    "    \n",
    "print(all_passenger_datasets_except2015[0].take(2))"
   ]
  },
  {
   "cell_type": "markdown",
   "metadata": {},
   "source": [
    "## creating dataframe"
   ]
  },
  {
   "cell_type": "markdown",
   "metadata": {},
   "source": [
    "### make the dataframes for the other datasets"
   ]
  },
  {
   "cell_type": "code",
   "execution_count": 11,
   "metadata": {},
   "outputs": [
    {
     "name": "stdout",
     "output_type": "stream",
     "text": [
      "+----+--------------------+--------------------+----------------+------+----+----+\n",
      "|rank|        airport_name|            location|total_passengers|change|IATA|ICAO|\n",
      "+----+--------------------+--------------------+----------------+------+----+----+\n",
      "|   1|London Heathrow A...|Hillingdon, Great...|        66689466|    4%| LHR|EGLL|\n",
      "|   2|Dubai Internation...|Garhoud, Dubai, U...|        65872250|   15%| DXB|OMDB|\n",
      "+----+--------------------+--------------------+----------------+------+----+----+\n",
      "only showing top 2 rows\n",
      "\n",
      "+++++++++++++++++++++++++++++++++\n",
      "\n",
      "+----+--------------------+--------------------+----------------+------+----+----+\n",
      "|rank|        airport_name|            location|total_passengers|change|IATA|ICAO|\n",
      "+----+--------------------+--------------------+----------------+------+----+----+\n",
      "|   1|Dubai Internation...|Garhoud, Dubai, U...|        69954392|  6.2%| DXB|OMDB|\n",
      "|   2|London Heathrow A...|Hillingdon, Great...|        68091095|  1.9%| LHR|EGLL|\n",
      "+----+--------------------+--------------------+----------------+------+----+----+\n",
      "only showing top 2 rows\n",
      "\n",
      "+++++++++++++++++++++++++++++++++\n",
      "\n",
      "+----+--------------------+--------------------+----------------+------+----+----+\n",
      "|rank|        airport_name|            location|total_passengers|change|IATA|ICAO|\n",
      "+----+--------------------+--------------------+----------------+------+----+----+\n",
      "|   1|Hartsfield–Jackso...|Atlanta, Georgia,...|        94430785|    1%| ATL|KATL|\n",
      "|   2|Beijing Capital I...|Chaoyang, Beijing...|        83712355|    2%| PEK|ZBAA|\n",
      "+----+--------------------+--------------------+----------------+------+----+----+\n",
      "only showing top 2 rows\n",
      "\n",
      "+++++++++++++++++++++++++++++++++\n",
      "\n",
      "+----+--------------------+--------------------+----------------+--------+----+-------------+\n",
      "|rank|        airport_name|            location|total_passengers|  change|IATA|         ICAO|\n",
      "+----+--------------------+--------------------+----------------+--------+----+-------------+\n",
      "|   1|Hartsfield–Jackso...|    Atlanta, Georgia|        ATL/KATL|96178899|1.9%|United States|\n",
      "|   2|Beijing Capital I...|Chaoyang-Shunyi, ...|        PEK/ZBAA|86130390|2.9%|        China|\n",
      "+----+--------------------+--------------------+----------------+--------+----+-------------+\n",
      "only showing top 2 rows\n",
      "\n",
      "+++++++++++++++++++++++++++++++++\n",
      "\n"
     ]
    }
   ],
   "source": [
    "fields = []\n",
    "fields.append(StructField('rank', StringType(), True))\n",
    "fields.append(StructField('airport_name', StringType(), True))\n",
    "fields.append(StructField('location', StringType(), True))\n",
    "fields.append(StructField('total_passengers', StringType(), True))\n",
    "fields.append(StructField('change', StringType(), True))\n",
    "fields.append(StructField('IATA', StringType(), True))\n",
    "fields.append(StructField('ICAO', StringType(), True))\n",
    "schema_passengers_data = StructType(fields)\n",
    "\n",
    "\n",
    "df_international_passengers_2013 = sqlContext.createDataFrame(all_passenger_datasets_except2015[0], schema_passengers_data)\n",
    "df_international_passengers_2014 = sqlContext.createDataFrame(all_passenger_datasets_except2015[1], schema_passengers_data)\n",
    "df_total_passengers_2013 = sqlContext.createDataFrame(all_passenger_datasets_except2015[2], schema_passengers_data)\n",
    "df_total_passengers_2014 = sqlContext.createDataFrame(all_passenger_datasets_except2015[3], schema_passengers_data)\n",
    "\n",
    "datasets = [df_international_passengers_2013,df_international_passengers_2014,df_total_passengers_2013,df_total_passengers_2014]\n",
    "for df in datasets:\n",
    "    df.show(2)\n",
    "    print(\"+++++++++++++++++++++++++++++++++\")\n",
    "    print()"
   ]
  },
  {
   "cell_type": "markdown",
   "metadata": {},
   "source": [
    "### fix the data from 2015 missing ICAO column"
   ]
  },
  {
   "cell_type": "code",
   "execution_count": 12,
   "metadata": {
    "collapsed": true
   },
   "outputs": [],
   "source": [
    "fields = []\n",
    "fields.append(StructField('rank', StringType(), True))\n",
    "fields.append(StructField('airport_name', StringType(), True))\n",
    "fields.append(StructField('location', StringType(), True))\n",
    "fields.append(StructField('country', StringType(), True))\n",
    "fields.append(StructField('total_passengers', StringType(), True))\n",
    "fields.append(StructField('change', StringType(), True))\n",
    "fields.append(StructField('IATA', StringType(), True))\n",
    "schema_total_passengers_2015 = StructType(fields)\n",
    "\n",
    "fields = []\n",
    "fields.append(StructField('rank', StringType(), True))\n",
    "fields.append(StructField('airport_name', StringType(), True))\n",
    "fields.append(StructField('location', StringType(), True))\n",
    "fields.append(StructField('total_passengers', StringType(), True))\n",
    "fields.append(StructField('change', StringType(), True))\n",
    "fields.append(StructField('IATA', StringType(), True))\n",
    "schema_international_passengers_2015 = StructType(fields)"
   ]
  },
  {
   "cell_type": "code",
   "execution_count": 13,
   "metadata": {},
   "outputs": [
    {
     "name": "stdout",
     "output_type": "stream",
     "text": [
      "total passenger data 2015\n",
      "+----+----+--------------------+---------+-------+----------------+------+----+\n",
      "|IATA|rank|        airport_name| location|country|total_passengers|change|ICAO|\n",
      "+----+----+--------------------+---------+-------+----------------+------+----+\n",
      "| FRA|  12|Flughafen Frankfu...|Frankfurt|Germany|        61032022|   2.5|EDDF|\n",
      "| IST|  11|Atatürk Internati...| Istanbul| Turkey|        61346229|   8.2|LTBA|\n",
      "+----+----+--------------------+---------+-------+----------------+------+----+\n",
      "only showing top 2 rows\n",
      "\n",
      "\n",
      "++++++++++++++++++++++++++++++\n",
      "\n",
      "international passenger data 2015\n",
      "+----+----+--------------------+-----------------+----------------+------+----+\n",
      "|IATA|rank|        airport_name|         location|total_passengers|change|ICAO|\n",
      "+----+----+--------------------+-----------------+----------------+------+----+\n",
      "| PMI|  36|Aeropuerto de Pal...|Palma De Mallorca|        18107070|   0.6|LEPA|\n",
      "| HEL|  48|Helsinki-Vantaa A...|         Helsinki|        13826868|   2.9|EFHK|\n",
      "+----+----+--------------------+-----------------+----------------+------+----+\n",
      "only showing top 2 rows\n",
      "\n"
     ]
    }
   ],
   "source": [
    "total_passengers_2015 = sc.textFile(data_path + total_passengers_file + '2015' + '.csv')\n",
    "international_passengers_2015 = sc.textFile(data_path + international_passengers_file + '2015' + '.csv')\n",
    "\n",
    "\n",
    "# remove header\n",
    "header = total_passengers_2015.first()\n",
    "total_passengers_2015 = total_passengers_2015.filter(lambda l: l != header)\n",
    "# create dataframe\n",
    "df_total_passengers_2015 = sqlContext.createDataFrame(total_passengers_2015.map(lambda l: l.split(\";\")),schema_total_passengers_2015)\n",
    "# add missing column by join using previous data (df_airport_data)\n",
    "df_total_passengers_2015 = df_total_passengers_2015.join(df_airport_data.select(df_airport_data.IATA, df_airport_data.ICAO),\"IATA\")\n",
    "\n",
    "# repeat for second dataset from 2015\n",
    "international_passengers_2015 = sc.textFile(data_path + international_passengers_file + '2015' + '.csv')\n",
    "header = international_passengers_2015.first()\n",
    "international_passengers_2015 = international_passengers_2015.filter(lambda l: l != header)\n",
    "temp = international_passengers_2015.map(lambda l: l.split(\";\"))\n",
    "df_international_passengers_2015 = sqlContext.createDataFrame(international_passengers_2015.map(lambda l: l.split(\";\")),schema_international_passengers_2015)\n",
    "df_international_passengers_2015 = df_international_passengers_2015.join(df_airport_data.select(df_airport_data.IATA, df_airport_data.ICAO),\"IATA\")\n",
    "\n",
    "# print results\n",
    "print(\"total passenger data 2015\")\n",
    "df_total_passengers_2015.show(2)\n",
    "print()\n",
    "print(\"++++++++++++++++++++++++++++++\")\n",
    "print()\n",
    "print(\"international passenger data 2015\")\n",
    "df_international_passengers_2015.show(2)"
   ]
  },
  {
   "cell_type": "markdown",
   "metadata": {},
   "source": [
    "# Prepare passenger data Brussels Airport"
   ]
  },
  {
   "cell_type": "code",
   "execution_count": 14,
   "metadata": {},
   "outputs": [
    {
     "name": "stdout",
     "output_type": "stream",
     "text": [
      "+----------------+-------+-------+-------+-------+-------+-------+-------+-------+-------+-------+-------+-------+-------+-------+-------+-------+-------+-------+-------+-------+-------+-------+-------+-------+-------+-------+-------+-------+-------+-------+\n",
      "|destination ICAO|2004M03|2004M04|2005M03|2005M04|2006M03|2006M04|2007M03|2007M04|2008M03|2008M04|2009M03|2009M04|2010M03|2010M04|2011M03|2011M04|2012M03|2012M04|2013M03|2013M04|2014M03|2014M04|2015M03|2015M04|2016M03|2016M04|2017M03|2017M04|2018M03|2018M04|\n",
      "+----------------+-------+-------+-------+-------+-------+-------+-------+-------+-------+-------+-------+-------+-------+-------+-------+-------+-------+-------+-------+-------+-------+-------+-------+-------+-------+-------+-------+-------+-------+-------+\n",
      "|            LOWW|  29916|  31346|  27747|  29958|  32884|  31902|  35712|  40232|  43480|  42864|  37655|  37727|  32659|  26410|  35922|  34845|  35000|  34440|  33190|  35530|  35638|  41863|  34789|  39449|  24226|  23667|  35897|  40901|  42131|  47875|\n",
      "|            LSGG|  30095|  24975|  31498|  26380|  33297|  25938|  34815|  26141|  45937|  41149|  42818|  38047|  47694|  30482|  53313|  42769|  51512|  47054|  55627|  47128|  56207|  51004|  56695|  50443|  43760|  32612|  61271|  49433|  62195|  54601|\n",
      "|            EDDF|  38955|  35909|  36727|  40171|  38703|  38485|  43385|  40410|  39721|  44866|  37908|  38718|  39610|  30217|  39904|  39941|  37098|  41623|  36606|  40579|  37155|  38209|  39730|  48836|  28646|  27860|  44091|  50428|  47555|  53228|\n",
      "|            EDDM|  24856|  22599|  22819|  26152|  26699|  29370|  33008|  31623|  31343|  33501|  31057|  29201|  31965|  21393|  32429|  31743|  33591|  27812|  33071|  31695|  33395|  28131|  30855|  29698|  24157|  15642|  34679|  31698|  36192|  33775|\n",
      "|            EKCH|  37115|  33198|  30886|  37328|  34858|  34079|  36554|  32937|  36457|  43283|  32972|  33123|  34605|  24796|  37479|  37446|  45079|  44789|  38419|  42391|  39797|  44080|  43637|  41942|  26949|  25219|  41326|  40005|  40803|  41383|\n",
      "|            LEBL|  41710|  49232|  50457|  55467|  50544|  59551|  45389|  51765|  43670|  47232|  35233|  44463|  34687|  31996|  39884|  45956|  41208|  50546|  39167|  47103|  64598|  80869|  71853|  79889|  46356|  52897|  73800|  87060|  76564|  85906|\n",
      "|            LEMD|  54936|  62827|  52426|  54946|  56799|  64330|  56377|  61100|  60995|  63229|  51926|  65549|  49673|  43350|  49393|  56912|  45763|  49223|  52479|  60407|  57687|  67294|  71619|  73660|  47532|  39611|  91650|  83687|  85250|  89228|\n",
      "|            LEMG|  20671|  32503|  19848|  29290|  20583|  36621|  20357|  32031|  24289|  27690|  17062|  26952|  17171|  19609|  20147|  28580|  20817|  27911|  20147|  26864|  26146|  42695|  30490|  46261|  20845|  27841|  41195|  53374|  40892|  53234|\n",
      "|            LFMN|  19233|  24741|  19248|  20298|  17006|  22283|  17703|  22389|  26471|  26201|  22595|  30017|  20598|  24305|  24947|  32035|  24851|  30204|  22429|  29488|  23669|  31759|  25841|  31659|  15634|  15619|  23838|  31847|  26873|  32262|\n",
      "|            LIRF|  40407|  50232|  42178|  41348|  38205|  43027|  39611|  45985|  40520|  45433|  37726|  47180|  35159|  34951|  44332|  50197|  38877|  47230|  36265|  47910|  56916|  69788|  63128|  77276|  41610|  50261|  63358|  70473|  59634|  71953|\n",
      "|            LPPT|  24948|  35429|  31816|  34725|  31384|  41629|  36572|  45651|  37515|  38880|  29248|  40816|  29276|  29266|  29443|  38510|  30739|  33249|  30551|  34376|  48755|  59493|  54413|  64791|  35463|  37954|  58836|  69833|  53991|  70407|\n",
      "|            LTAI|  11009|  27831|  17868|  34299|  15728|  33405|  17312|  40614|  26043|  36678|  14353|  41345|  14240|  32261|  17477|  53719|  17285|  41616|  24496|  51292|  17621|  52341|  14758|  43521|   7088|   7036|   5356|  19152|      0|      0|\n",
      "|            LTBA|  12159|  16819|  16760|  17416|  14148|  18152|  15771|  16591|  19626|  21960|  21249|  23924|  20475|  20650|  22627|  27195|  25605|  31750|  32832|  36136|  34218|  39641|  30837|  34980|  19860|  15711|  28678|  34314|  34662|  39687|\n",
      "|            EGLL|  74402|  72405|  66946|  70356|  66600|  63640|  64050|  58411|  52717|  51046|  48606|  45563|  42185|  31390|  44252|  40606|  45682|  46759|  49349|  49606|  47174|  50106|  46758|  53150|  33412|  27384|  52987|  58391|  55357|  57970|\n",
      "|            LHBP|      0|      0|   5413|   5844|   6084|   6584|   6653|   6487|   8204|   8016|   9064|   8870|   8938|   7214|   9590|  10383|  21674|  28886|  23596|  26699|  26160|  27129|  24719|  24855|  24336|  24661|  28711|  30788|  29298|  32506|\n",
      "+----------------+-------+-------+-------+-------+-------+-------+-------+-------+-------+-------+-------+-------+-------+-------+-------+-------+-------+-------+-------+-------+-------+-------+-------+-------+-------+-------+-------+-------+-------+-------+\n",
      "\n"
     ]
    }
   ],
   "source": [
    "passenger_data_brussel = passenger_data_brussels.map(lambda l: l.split(\";\"))\n",
    "header = passenger_data_brussel.first()\n",
    "passenger_data_brussel = passenger_data_brussel.filter(lambda l: l != header)\n",
    "df_passenger_data_brussels = passenger_data_brussel.toDF(header)\n",
    "\n",
    "df_passenger_data_brussels.show()"
   ]
  },
  {
   "cell_type": "markdown",
   "metadata": {},
   "source": [
    "## Data cleanen om grafiek te tonen"
   ]
  },
  {
   "cell_type": "code",
   "execution_count": 15,
   "metadata": {
    "collapsed": true
   },
   "outputs": [],
   "source": [
    "from pyspark.sql.functions import collect_list\n",
    "from pyspark.sql.types import IntegerType\n",
    "from pyspark.sql import functions as F\n",
    "query_result = query_result.withColumn(\"nkill\", query_result[\"nkill\"].cast(IntegerType()))\n",
    "grouped_query = query_result.groupby('iyear').agg(F.sum('nkill').alias(\"nkill\"))"
   ]
  },
  {
   "cell_type": "markdown",
   "metadata": {},
   "source": [
    "## People killed in Belgium by terrorist attacks 2014-2018"
   ]
  },
  {
   "cell_type": "code",
   "execution_count": 16,
   "metadata": {},
   "outputs": [
    {
     "data": {
      "image/png": "[encoded data removed]",
      "text/plain": [
       "<matplotlib.figure.Figure at 0x2a8cd0b44e0>"
      ]
     },
     "metadata": {},
     "output_type": "display_data"
    }
   ],
   "source": [
    "%matplotlib inline\n",
    "import matplotlib.pyplot as plt\n",
    "import matplotlib.dates as plt_dates\n",
    "from datetime import datetime\n",
    "\n",
    "y_axis = []\n",
    "x_axis = []\n",
    "\n",
    "for row in grouped_query.rdd.collect():\n",
    "     #Toekennen aan x as\n",
    "    x_axis.append(int(row.iyear))\n",
    "    #Toekennen aan y as\n",
    "    y_axis.append(int(row.nkill))\n",
    "    \n",
    "#Maken grafiek\n",
    "fig1 = plt.figure(figsize=(7, 7))\n",
    "fig1.suptitle('People killed in Belgium by terrorist attacks 2014-2018', fontsize=14)\n",
    "ax = fig1.add_subplot(111)\n",
    "ax.set_xlabel('year')\n",
    "ax.set_ylabel('deaths')\n",
    "ax.bar(x_axis, y_axis, fc='red', align='center')\n",
    "ax.xaxis.set_major_locator(plt.MaxNLocator(5))\n",
    "ax.yaxis.set_major_locator(plt.MaxNLocator(5))\n",
    "plt.show()"
   ]
  },
  {
   "cell_type": "code",
   "execution_count": null,
   "metadata": {
    "collapsed": true
   },
   "outputs": [],
   "source": []
  }
 ],
 "metadata": {
  "kernelspec": {
   "display_name": "Python 3",
   "language": "python",
   "name": "python3"
  },
  "language_info": {
   "codemirror_mode": {
    "name": "ipython",
    "version": 3
   },
   "file_extension": ".py",
   "mimetype": "text/x-python",
   "name": "python",
   "nbconvert_exporter": "python",
   "pygments_lexer": "ipython3",
   "version": "3.6.1"
  }
 },
 "nbformat": 4,
 "nbformat_minor": 2
}
