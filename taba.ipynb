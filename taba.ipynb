{
 "cells": [
  {
   "cell_type": "code",
   "execution_count": 28,
   "metadata": {},
   "outputs": [],
   "source": [
    "#import findspark, pyspark\n",
    "from pyspark.sql import SQLContext, SparkSession\n",
    "from pyspark.sql.types import *\n",
    "from datetime import datetime\n",
    "from functools import reduce\n",
    "from pyspark.sql.functions import col\n",
    "\n",
    "#sc = pyspark.SparkContext.getOrCreate()\n",
    "sqlContext = SQLContext(sc)\n",
    "\n",
    "file_attack = 'gtd_14to17_0718dist'\n",
    "file_airport = 'airports-extended'\n",
    "file_largest_airport = 'largest-global-airports-passenger-traffic'\n",
    "file_passengers = 'avia_par_be'"
   ]
  },
  {
   "cell_type": "markdown",
   "metadata": {},
   "source": [
    "# Fetch Data"
   ]
  },
  {
   "cell_type": "code",
   "execution_count": 29,
   "metadata": {},
   "outputs": [],
   "source": [
    "#data_path = 'D:/DataMining/taba/'\n",
    "data_path = '../data/Datasets/'\n",
    "\n",
    "attack_data = sc.textFile(data_path + 'gtd-data/' + file_attack + '.csv')\n",
    "airport_data = sc.textFile(data_path + file_airport + '.csv')\n",
    "largest_airport_data = sc.textFile(data_path + file_largest_airport + '.xlsx')\n",
    "passenger_data = sc.textFile(data_path + file_passengers + '.xls')"
   ]
  },
  {
   "cell_type": "code",
   "execution_count": 30,
   "metadata": {},
   "outputs": [],
   "source": [
    "# ALT WAY DOES NOT WORK YET\n",
    "# df2 = sqlContext.read.format('com.databricks.spark.csv').options(header='true').load(data_path + 'gtd-data/' + file_attack + '.csv')\n",
    "# df2.select('iyear').show(1) does not work\n",
    "# https://www.analyticsvidhya.com/blog/2016/10/spark-dataframe-and-operations/\n",
    "# => fill null values in dataframe -> fillna()"
   ]
  },
  {
   "cell_type": "markdown",
   "metadata": {},
   "source": [
    "# Prepare Attack Data"
   ]
  },
  {
   "cell_type": "code",
   "execution_count": 31,
   "metadata": {},
   "outputs": [],
   "source": [
    "# Define columns for dataframe\n",
    "new_columns = attack_data.first()\n",
    "new_columns = new_columns.split(\";\")\n",
    "attack_data = attack_data.filter(lambda l: l != new_columns)\n",
    "df_terror_data = attack_data.map(lambda x: x.split(';')).toDF()\n",
    "old_columns = df_terror_data.schema.names"
   ]
  },
  {
   "cell_type": "code",
   "execution_count": 32,
   "metadata": {},
   "outputs": [],
   "source": [
    "# apply new column names\n",
    "df_terror_data = reduce(lambda data, idx: data.withColumnRenamed(old_columns[idx], new_columns[idx]), range(len(old_columns)), df_terror_data)"
   ]
  },
  {
   "cell_type": "markdown",
   "metadata": {},
   "source": [
    "# Query Attack Data"
   ]
  },
  {
   "cell_type": "code",
   "execution_count": 39,
   "metadata": {},
   "outputs": [],
   "source": [
    "query_result = df_terror_data.filter(col(\"country_txt\") == \"Belgium\").select('iyear', 'imonth', 'iday','country_txt', 'summary')"
   ]
  },
  {
   "cell_type": "code",
   "execution_count": null,
   "metadata": {},
   "outputs": [],
   "source": [
    "query_result.show(10)"
   ]
  },
  {
   "cell_type": "code",
   "execution_count": null,
   "metadata": {},
   "outputs": [],
   "source": [
    "query_result.select('summary').show(10, False)"
   ]
  }
 ],
 "metadata": {
  "kernelspec": {
   "display_name": "Python 3",
   "language": "python",
   "name": "python3"
  },
  "language_info": {
   "codemirror_mode": {
    "name": "ipython",
    "version": 3
   },
   "file_extension": ".py",
   "mimetype": "text/x-python",
   "name": "python",
   "nbconvert_exporter": "python",
   "pygments_lexer": "ipython3",
   "version": "3.6.6"
  }
 },
 "nbformat": 4,
 "nbformat_minor": 2
}
