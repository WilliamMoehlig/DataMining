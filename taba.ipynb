{
 "cells": [
  {
   "cell_type": "code",
   "execution_count": 3,
   "metadata": {},
   "outputs": [],
   "source": [
    "#import findspark, pyspark\n",
    "from pyspark.sql import SQLContext, SparkSession\n",
    "from pyspark.sql.types import *\n",
    "from datetime import datetime\n",
    "from functools import reduce\n",
    "from pyspark.sql.functions import col\n",
    "\n",
    "#sc = pyspark.SparkContext.getOrCreate()\n",
    "sqlContext = SQLContext(sc)\n",
    "\n",
    "file_attack = 'gtd_14to17_0718dist'\n",
    "file_airport = 'airports-extended'\n",
    "file_largest_airport = 'largest-global-airports-passenger-traffic'\n",
    "file_passengers = 'avia_par_be'"
   ]
  },
  {
   "cell_type": "markdown",
   "metadata": {},
   "source": [
    "# Fetch Data"
   ]
  },
  {
   "cell_type": "code",
   "execution_count": 4,
   "metadata": {},
   "outputs": [],
   "source": [
    "#data_path = 'D:/DataMining/taba/'\n",
    "data_path = '../Datasets/'\n",
    "\n",
    "attack_data = sc.textFile(data_path + 'gtd-data/' + file_attack + '.csv')\n",
    "airport_data = sc.textFile(data_path + file_airport + '.csv')\n",
    "passenger_data_brussels = sc.textFile(data_path + file_passengers + '.csv')"
   ]
  },
  {
   "cell_type": "markdown",
   "metadata": {},
   "source": [
    "# Prepare Attack Data"
   ]
  },
  {
   "cell_type": "code",
   "execution_count": 5,
   "metadata": {},
   "outputs": [],
   "source": [
    "# Define columns for dataframe\n",
    "new_columns = attack_data.first()\n",
    "new_columns = new_columns.split(\";\")\n",
    "attack_data = attack_data.filter(lambda l: l != new_columns)\n",
    "df_terror_data = attack_data.map(lambda x: x.split(';')).toDF()\n",
    "old_columns = df_terror_data.schema.names"
   ]
  },
  {
   "cell_type": "code",
   "execution_count": 6,
   "metadata": {},
   "outputs": [],
   "source": [
    "# apply new column names\n",
    "df_terror_data = reduce(lambda data, idx: data.withColumnRenamed(old_columns[idx], new_columns[idx]), range(len(old_columns)), df_terror_data)"
   ]
  },
  {
   "cell_type": "markdown",
   "metadata": {},
   "source": [
    "# Query Attack Data"
   ]
  },
  {
   "cell_type": "code",
   "execution_count": 7,
   "metadata": {},
   "outputs": [],
   "source": [
    "#query_result = df_terror_data.filter(col(\"country_txt\") == \"Belgium\").select('iyear', 'imonth', 'iday','country_txt', 'summary')\n",
    "query_result = df_terror_data.filter(col(\"country_txt\") == \"Belgium\").select('iyear', 'imonth', 'iday','country_txt', 'summary', 'city', 'nkill')\n"
   ]
  },
  {
   "cell_type": "markdown",
   "metadata": {},
   "source": [
    "## Data waar enkel data instaat die impact zou hebben op reizigers 2016"
   ]
  },
  {
   "cell_type": "code",
   "execution_count": 8,
   "metadata": {},
   "outputs": [
    {
     "name": "stdout",
     "output_type": "stream",
     "text": [
      "+-----+------+----+-----------+--------------------+---------+-----+\n",
      "|iyear|imonth|iday|country_txt|             summary|     city|nkill|\n",
      "+-----+------+----+-----------+--------------------+---------+-----+\n",
      "| 2016|     3|  22|    Belgium|03/22/2016: Two s...| Zaventem|   18|\n",
      "| 2016|     3|  22|    Belgium|03/22/2016: A sui...| Brussels|   17|\n",
      "| 2016|     8|   6|    Belgium|08/06/2016: An as...|Charleroi|    1|\n",
      "+-----+------+----+-----------+--------------------+---------+-----+\n",
      "\n"
     ]
    }
   ],
   "source": [
    "query_brussel= query_result.filter(col(\"iyear\") == \"2016\").select('iyear', 'imonth', 'iday','country_txt', 'summary', 'city', 'nkill')\n",
    "query_brussel = query_brussel.filter(col(\"nkill\") > 0)\n",
    "query_brussel.show()"
   ]
  },
  {
   "cell_type": "markdown",
   "metadata": {},
   "source": [
    "# Prepare airport data"
   ]
  },
  {
   "cell_type": "code",
   "execution_count": 9,
   "metadata": {},
   "outputs": [],
   "source": [
    "fields = []\n",
    "fields.append(StructField('airport_id', IntegerType(), True)) \n",
    "fields.append(StructField('airport_name', StringType(), True))\n",
    "fields.append(StructField('city', StringType(), True))\n",
    "fields.append(StructField('country', StringType(), True))\n",
    "fields.append(StructField('IATA', StringType(), True)) # kind of airport identifier\n",
    "fields.append(StructField('ICAO', StringType(), True)) # different kind of airport identifier\n",
    "fields.append(StructField('latitude', FloatType(), True))\n",
    "fields.append(StructField('longitude', FloatType(), True))\n",
    "fields.append(StructField('unknown1', IntegerType(), True))\n",
    "fields.append(StructField('unknown2', StringType(), True))\n",
    "fields.append(StructField('unknown3', StringType(), True))\n",
    "fields.append(StructField('continent_city', StringType(), True))\n",
    "fields.append(StructField('idk_column', StringType(), True))\n",
    "fields.append(StructField('source', StringType(), True))\n",
    "schema = StructType(fields)\n",
    "\n",
    "clean_data = (airport_data\n",
    "              .map(lambda line: line.split(';'))\n",
    "              .map(lambda line: [int(line[0]),line[1],line[2],line[3],line[4],line[5],float(line[6]),float(line[7]),int(line[8]),line[9],line[10],line[11],line[12],line[13]])\n",
    "             )\n",
    "df_airport_data = sqlContext.createDataFrame(clean_data, schema)"
   ]
  },
  {
   "cell_type": "markdown",
   "metadata": {},
   "source": [
    "# Query airport data"
   ]
  },
  {
   "cell_type": "code",
   "execution_count": 10,
   "metadata": {},
   "outputs": [
    {
     "name": "stdout",
     "output_type": "stream",
     "text": [
      "+--------------------------------------+-----------------+---------------+\n",
      "|airport_name                          |city             |continent_city |\n",
      "+--------------------------------------+-----------------+---------------+\n",
      "|Antwerp International Airport (Deurne)|Antwerp          |Europe/Brussels|\n",
      "|Beauvechain Air Base                  |Beauvechain      |Europe/Brussels|\n",
      "|Kleine Brogel Air Base                |Kleine Brogel    |Europe/Brussels|\n",
      "|Brussels Airport                      |Brussels         |Europe/Brussels|\n",
      "|Jehonville Air Base                   |Bertrix          |Europe/Brussels|\n",
      "|Brussels South Charleroi Airport      |Charleroi        |Europe/Brussels|\n",
      "|Chièvres Air Base                     |Chievres         |Europe/Brussels|\n",
      "|Koksijde Air Base                     |Koksijde         |Europe/Brussels|\n",
      "|Florennes Air Base                    |Florennes        |Europe/Brussels|\n",
      "|Wevelgem Airport                      |Kortrijk-vevelgem|Europe/Brussels|\n",
      "|Liège Airport                         |Liege            |Europe/Brussels|\n",
      "|Ostend-Bruges International Airport   |Ostend           |Europe/Brussels|\n",
      "|Zutendaal Air Base                    |Zutendaal        |Europe/Brussels|\n",
      "|Limburg Regional Airport              |Sint-truiden     |Europe/Brussels|\n",
      "|Saint Hubert Air Base                 |St.-hubert       |Europe/Brussels|\n",
      "|Ursel Air Base                        |Ursel            |Europe/Brussels|\n",
      "|Weelde Air Base                       |Weelde           |Europe/Brussels|\n",
      "|Oostmalle Air Base                    |Zoersel          |Europe/Brussels|\n",
      "|Brussels Gare du Midi                 |Brussels         |Europe/Brussels|\n",
      "|Engels heliport                       |Ebenhofen        |Europe/Brussels|\n",
      "|Westkapelle heliport                  |Knokke           |Europe/Brussels|\n",
      "|Gent Sint-Pieters                     |Gent             |Europe/Brussels|\n",
      "|Brugge                                |Bruges           |Europe/Brussels|\n",
      "|Brugge                                |Bruges           |Europe/Brussels|\n",
      "|Schaffen Diest                        |Schaffen         |Europe/Brussels|\n",
      "|HOEVENEN                              |HOEVENEN         |Europe/Brussels|\n",
      "|Centraal                              |Antwerp          |Europe/Brussels|\n",
      "|Liege-Guillemins Railway Station      |Liege            |Europe/Brussels|\n",
      "|Bruxelles-Central                     |Brussels         |Europe/Brussels|\n",
      "|Goetsenhoven Air Base                 |GOETSENHOVEN     |Europe/Brussels|\n",
      "|Spa (la Sauvenière) Airport           |Spa              |Europe/Brussels|\n",
      "|Suarlée Airport                       |Namur            |Europe/Brussels|\n",
      "|Kiewit Airfield Hasselt               |Hasselt          |Europe/Brussels|\n",
      "|Brussels Gare Centrale                |Brussels         |Europe/Brussels|\n",
      "|Eupen - Rail                          |Eupen            |Europe/Brussels|\n",
      "|Brussels Nord                         |Brussels         |Europe/Brussels|\n",
      "|Brugge Railway Station                |Bruges           |Europe/Brussels|\n",
      "|Gare de Coo                           |Coo              |Europe/Brussels|\n",
      "|Knokke Station                        |Knokke           |Europe/Brussels|\n",
      "|Kortrijk Station                      |Kortrijk         |Europe/Brussels|\n",
      "|Ieper Station                         |Ypres            |Europe/Brussels|\n",
      "|Gare de Dinant                        |Dinant           |Europe/Brussels|\n",
      "|Waterloo Station                      |Waterloo         |Europe/Brussels|\n",
      "+--------------------------------------+-----------------+---------------+\n",
      "\n"
     ]
    }
   ],
   "source": [
    "(df_airport_data\n",
    " .select(df_airport_data.airport_name, df_airport_data.city,df_airport_data.continent_city)\n",
    " .filter(df_airport_data.continent_city == 'Europe/Brussels')\n",
    " .show(df_airport_data.count(),False))"
   ]
  },
  {
   "cell_type": "markdown",
   "metadata": {},
   "source": [
    "# Prepare passenger data"
   ]
  },
  {
   "cell_type": "markdown",
   "metadata": {},
   "source": [
    "## Cleaning"
   ]
  },
  {
   "cell_type": "code",
   "execution_count": 11,
   "metadata": {},
   "outputs": [
    {
     "name": "stdout",
     "output_type": "stream",
     "text": [
      "[['1', 'London Heathrow Airport', 'Hillingdon, Greater London, United Kingdom', '66689466', '4%', 'LHR', 'EGLL'], ['2', 'Dubai International Airport', 'Garhoud, Dubai, United Arab Emirates', '65872250', '15%', 'DXB', 'OMDB']]\n"
     ]
    }
   ],
   "source": [
    "international_passengers_file =  'international-passengers-'\n",
    "international_passengers_2013 = sc.textFile(data_path + international_passengers_file + '2013' + '.csv')\n",
    "international_passengers_2014 = sc.textFile(data_path + international_passengers_file + '2014' + '.csv')\n",
    "\n",
    "total_passengers_file = 'total-passengers-'\n",
    "total_passengers_2013 = sc.textFile(data_path + total_passengers_file + '2013' + '.csv')\n",
    "total_passengers_2014 = sc.textFile(data_path + total_passengers_file + '2014' + '.csv')\n",
    "\n",
    "all_passenger_datasets_except2015 = [international_passengers_2013,international_passengers_2014,total_passengers_2013, total_passengers_2014]\n",
    "\n",
    "counter = sc.accumulator(0)\n",
    "def clean_passenger_data(rdd):\n",
    "    global counter\n",
    "    \n",
    "    header = rdd.first()\n",
    "    rdd = rdd.filter(lambda l: l != header)\n",
    "    rdd = rdd.map(lambda l: l.split(\";\"))\n",
    "\n",
    "    new_columns = rdd.map(lambda l: l[3].split(\"/\"))\n",
    "\n",
    "    rdd = rdd.map(lambda l: l[0:3] + l[4:])\n",
    "\n",
    "    rdd = rdd.zip(new_columns)\n",
    "\n",
    "    rdd = rdd.map(lambda l: l[0] + l[1])\n",
    "    \n",
    "    all_passenger_datasets_except2015[counter.value] = rdd\n",
    "    \n",
    "    counter +=  1\n",
    "    \n",
    "for dataset in all_passenger_datasets_except2015:\n",
    "    clean_passenger_data(dataset)\n",
    "    \n",
    "print(all_passenger_datasets_except2015[0].take(2))"
   ]
  },
  {
   "cell_type": "markdown",
   "metadata": {},
   "source": [
    "## creating dataframe"
   ]
  },
  {
   "cell_type": "markdown",
   "metadata": {},
   "source": [
    "### make the dataframes for the other datasets"
   ]
  },
  {
   "cell_type": "code",
   "execution_count": 12,
   "metadata": {},
   "outputs": [
    {
     "name": "stdout",
     "output_type": "stream",
     "text": [
      "+----+--------------------+--------------------+----------------+------+----+----+\n",
      "|rank|        airport_name|            location|total_passengers|change|IATA|ICAO|\n",
      "+----+--------------------+--------------------+----------------+------+----+----+\n",
      "|   1|London Heathrow A...|Hillingdon, Great...|        66689466|    4%| LHR|EGLL|\n",
      "|   2|Dubai Internation...|Garhoud, Dubai, U...|        65872250|   15%| DXB|OMDB|\n",
      "+----+--------------------+--------------------+----------------+------+----+----+\n",
      "only showing top 2 rows\n",
      "\n",
      "+++++++++++++++++++++++++++++++++\n",
      "\n",
      "+----+--------------------+--------------------+----------------+------+----+----+\n",
      "|rank|        airport_name|            location|total_passengers|change|IATA|ICAO|\n",
      "+----+--------------------+--------------------+----------------+------+----+----+\n",
      "|   1|Dubai Internation...|Garhoud, Dubai, U...|        69954392|  6.2%| DXB|OMDB|\n",
      "|   2|London Heathrow A...|Hillingdon, Great...|        68091095|  1.9%| LHR|EGLL|\n",
      "+----+--------------------+--------------------+----------------+------+----+----+\n",
      "only showing top 2 rows\n",
      "\n",
      "+++++++++++++++++++++++++++++++++\n",
      "\n",
      "+----+--------------------+--------------------+----------------+------+----+----+\n",
      "|rank|        airport_name|            location|total_passengers|change|IATA|ICAO|\n",
      "+----+--------------------+--------------------+----------------+------+----+----+\n",
      "|   1|Hartsfield–Jackso...|Atlanta, Georgia,...|        94430785|    1%| ATL|KATL|\n",
      "|   2|Beijing Capital I...|Chaoyang, Beijing...|        83712355|    2%| PEK|ZBAA|\n",
      "+----+--------------------+--------------------+----------------+------+----+----+\n",
      "only showing top 2 rows\n",
      "\n",
      "+++++++++++++++++++++++++++++++++\n",
      "\n",
      "+----+--------------------+--------------------+----------------+------+----+----+\n",
      "|rank|        airport_name|            location|total_passengers|change|IATA|ICAO|\n",
      "+----+--------------------+--------------------+----------------+------+----+----+\n",
      "|   1|Hartsfield–Jackso...|    Atlanta, Georgia|        96178899|  1.9%| ATL|KATL|\n",
      "|   2|Beijing Capital I...|Chaoyang-Shunyi, ...|        86130390|  2.9%| PEK|ZBAA|\n",
      "+----+--------------------+--------------------+----------------+------+----+----+\n",
      "only showing top 2 rows\n",
      "\n",
      "+++++++++++++++++++++++++++++++++\n",
      "\n"
     ]
    }
   ],
   "source": [
    "fields = []\n",
    "fields.append(StructField('rank', StringType(), True))\n",
    "fields.append(StructField('airport_name', StringType(), True))\n",
    "fields.append(StructField('location', StringType(), True))\n",
    "fields.append(StructField('total_passengers', StringType(), True))\n",
    "fields.append(StructField('change', StringType(), True))\n",
    "fields.append(StructField('IATA', StringType(), True))\n",
    "fields.append(StructField('ICAO', StringType(), True))\n",
    "schema_passengers_data = StructType(fields)\n",
    "\n",
    "\n",
    "df_international_passengers_2013 = sqlContext.createDataFrame(all_passenger_datasets_except2015[0], schema_passengers_data)\n",
    "df_international_passengers_2014 = sqlContext.createDataFrame(all_passenger_datasets_except2015[1], schema_passengers_data)\n",
    "df_total_passengers_2013 = sqlContext.createDataFrame(all_passenger_datasets_except2015[2], schema_passengers_data)\n",
    "df_total_passengers_2014 = sqlContext.createDataFrame(all_passenger_datasets_except2015[3], schema_passengers_data)\n",
    "\n",
    "datasets = [df_international_passengers_2013,df_international_passengers_2014,df_total_passengers_2013,df_total_passengers_2014]\n",
    "for df in datasets:\n",
    "    df.show(2)\n",
    "    print(\"+++++++++++++++++++++++++++++++++\")\n",
    "    print()"
   ]
  },
  {
   "cell_type": "markdown",
   "metadata": {},
   "source": [
    "### fix the data from 2015 missing ICAO column"
   ]
  },
  {
   "cell_type": "code",
   "execution_count": 13,
   "metadata": {},
   "outputs": [],
   "source": [
    "fields = []\n",
    "fields.append(StructField('rank', StringType(), True))\n",
    "fields.append(StructField('airport_name', StringType(), True))\n",
    "fields.append(StructField('location', StringType(), True))\n",
    "fields.append(StructField('country', StringType(), True))\n",
    "fields.append(StructField('total_passengers', StringType(), True))\n",
    "fields.append(StructField('change', StringType(), True))\n",
    "fields.append(StructField('IATA', StringType(), True))\n",
    "schema_total_passengers_2015 = StructType(fields)\n",
    "\n",
    "fields = []\n",
    "fields.append(StructField('rank', StringType(), True))\n",
    "fields.append(StructField('airport_name', StringType(), True))\n",
    "fields.append(StructField('location', StringType(), True))\n",
    "fields.append(StructField('total_passengers', StringType(), True))\n",
    "fields.append(StructField('change', StringType(), True))\n",
    "fields.append(StructField('IATA', StringType(), True))\n",
    "schema_international_passengers_2015 = StructType(fields)"
   ]
  },
  {
   "cell_type": "code",
   "execution_count": 14,
   "metadata": {
    "scrolled": false
   },
   "outputs": [
    {
     "name": "stdout",
     "output_type": "stream",
     "text": [
      "total passenger data 2015\n",
      "+----+----+--------------------+---------+-------+----------------+------+----+\n",
      "|IATA|rank|        airport_name| location|country|total_passengers|change|ICAO|\n",
      "+----+----+--------------------+---------+-------+----------------+------+----+\n",
      "| FRA|  12|Flughafen Frankfu...|Frankfurt|Germany|        61032022|   2.5|EDDF|\n",
      "| IST|  11|Atatürk Internati...| Istanbul| Turkey|        61346229|   8.2|LTBA|\n",
      "+----+----+--------------------+---------+-------+----------------+------+----+\n",
      "only showing top 2 rows\n",
      "\n",
      "\n",
      "++++++++++++++++++++++++++++++\n",
      "\n",
      "international passenger data 2015\n",
      "+----+----+--------------------+-----------------+----------------+------+----+\n",
      "|IATA|rank|        airport_name|         location|total_passengers|change|ICAO|\n",
      "+----+----+--------------------+-----------------+----------------+------+----+\n",
      "| PMI|  36|Aeropuerto de Pal...|Palma De Mallorca|        18107070|   0.6|LEPA|\n",
      "| HEL|  48|Helsinki-Vantaa A...|         Helsinki|        13826868|   2.9|EFHK|\n",
      "+----+----+--------------------+-----------------+----------------+------+----+\n",
      "only showing top 2 rows\n",
      "\n"
     ]
    }
   ],
   "source": [
    "total_passengers_2015 = sc.textFile(data_path + total_passengers_file + '2015' + '.csv')\n",
    "international_passengers_2015 = sc.textFile(data_path + international_passengers_file + '2015' + '.csv')\n",
    "\n",
    "\n",
    "# remove header\n",
    "header = total_passengers_2015.first()\n",
    "total_passengers_2015 = total_passengers_2015.filter(lambda l: l != header)\n",
    "# create dataframe\n",
    "df_total_passengers_2015 = sqlContext.createDataFrame(total_passengers_2015.map(lambda l: l.split(\";\")),schema_total_passengers_2015)\n",
    "# add missing column by join using previous data (df_airport_data)\n",
    "df_total_passengers_2015 = df_total_passengers_2015.join(df_airport_data.select(df_airport_data.IATA, df_airport_data.ICAO),\"IATA\")\n",
    "\n",
    "# repeat for second dataset from 2015\n",
    "international_passengers_2015 = sc.textFile(data_path + international_passengers_file + '2015' + '.csv')\n",
    "header = international_passengers_2015.first()\n",
    "international_passengers_2015 = international_passengers_2015.filter(lambda l: l != header)\n",
    "temp = international_passengers_2015.map(lambda l: l.split(\";\"))\n",
    "df_international_passengers_2015 = sqlContext.createDataFrame(international_passengers_2015.map(lambda l: l.split(\";\")),schema_international_passengers_2015)\n",
    "df_international_passengers_2015 = df_international_passengers_2015.join(df_airport_data.select(df_airport_data.IATA, df_airport_data.ICAO),\"IATA\")\n",
    "\n",
    "# print results\n",
    "print(\"total passenger data 2015\")\n",
    "df_total_passengers_2015.show(2)\n",
    "print()\n",
    "print(\"++++++++++++++++++++++++++++++\")\n",
    "print()\n",
    "print(\"international passenger data 2015\")\n",
    "df_international_passengers_2015.show(2)"
   ]
  },
  {
   "cell_type": "markdown",
   "metadata": {},
   "source": [
    "# Prepare passenger data Brussels Airport"
   ]
  },
  {
   "cell_type": "code",
   "execution_count": 15,
   "metadata": {
    "scrolled": true
   },
   "outputs": [
    {
     "name": "stdout",
     "output_type": "stream",
     "text": [
      "+----------------+-------+-------+-------+-------+-------+-------+-------+-------+-------+-------+-------+-------+-------+-------+-------+-------+-------+-------+-------+-------+-------+-------+-------+-------+-------+-------+-------+-------+-------+-------+\n",
      "|destination ICAO|2004M03|2004M04|2005M03|2005M04|2006M03|2006M04|2007M03|2007M04|2008M03|2008M04|2009M03|2009M04|2010M03|2010M04|2011M03|2011M04|2012M03|2012M04|2013M03|2013M04|2014M03|2014M04|2015M03|2015M04|2016M03|2016M04|2017M03|2017M04|2018M03|2018M04|\n",
      "+----------------+-------+-------+-------+-------+-------+-------+-------+-------+-------+-------+-------+-------+-------+-------+-------+-------+-------+-------+-------+-------+-------+-------+-------+-------+-------+-------+-------+-------+-------+-------+\n",
      "|            LOWW|  29916|  31346|  27747|  29958|  32884|  31902|  35712|  40232|  43480|  42864|  37655|  37727|  32659|  26410|  35922|  34845|  35000|  34440|  33190|  35530|  35638|  41863|  34789|  39449|  24226|  23667|  35897|  40901|  42131|  47875|\n",
      "|            LSGG|  30095|  24975|  31498|  26380|  33297|  25938|  34815|  26141|  45937|  41149|  42818|  38047|  47694|  30482|  53313|  42769|  51512|  47054|  55627|  47128|  56207|  51004|  56695|  50443|  43760|  32612|  61271|  49433|  62195|  54601|\n",
      "+----------------+-------+-------+-------+-------+-------+-------+-------+-------+-------+-------+-------+-------+-------+-------+-------+-------+-------+-------+-------+-------+-------+-------+-------+-------+-------+-------+-------+-------+-------+-------+\n",
      "only showing top 2 rows\n",
      "\n"
     ]
    }
   ],
   "source": [
    "passenger_data_brussels = passenger_data_brussels.map(lambda l: l.split(\";\"))\n",
    "\n",
    "header = passenger_data_brussels.first()\n",
    "passenger_data_brussels = passenger_data_brussels.filter(lambda l: l != header)\n",
    "df_passenger_data_brussels = passenger_data_brussels.toDF(header)\n",
    "\n",
    "df_passenger_data_brussels.show(2)"
   ]
  },
  {
   "cell_type": "markdown",
   "metadata": {},
   "source": [
    "## Data cleanen om grafiek te tonen"
   ]
  },
  {
   "cell_type": "code",
   "execution_count": 16,
   "metadata": {},
   "outputs": [],
   "source": [
    "from pyspark.sql.functions import collect_list\n",
    "from pyspark.sql.types import IntegerType\n",
    "from pyspark.sql import functions as F\n",
    "query_result = query_result.withColumn(\"nkill\", query_result[\"nkill\"].cast(IntegerType()))\n",
    "grouped_query = query_result.groupby('iyear').agg(F.sum('nkill').alias(\"nkill\"))"
   ]
  },
  {
   "cell_type": "code",
   "execution_count": null,
   "metadata": {},
   "outputs": [],
   "source": []
  },
  {
   "cell_type": "markdown",
   "metadata": {},
   "source": [
    "## People killed in Belgium by terrorist attacks 2014-2018"
   ]
  },
  {
   "cell_type": "code",
   "execution_count": 17,
   "metadata": {
    "scrolled": false
   },
   "outputs": [
    {
     "data": {
      "image/png": "[encoded data removed]",
      "text/plain": [
       "<Figure size 504x504 with 1 Axes>"
      ]
     },
     "metadata": {},
     "output_type": "display_data"
    }
   ],
   "source": [
    "%matplotlib inline\n",
    "import matplotlib.pyplot as plt\n",
    "import matplotlib.dates as plt_dates\n",
    "from datetime import datetime\n",
    "\n",
    "y_axis = []\n",
    "x_axis = []\n",
    "\n",
    "for row in grouped_query.rdd.collect():\n",
    "     #Toekennen aan x as\n",
    "    x_axis.append(int(row.iyear))\n",
    "    #Toekennen aan y as\n",
    "    y_axis.append(int(row.nkill))\n",
    "    \n",
    "#Maken grafiek\n",
    "fig1 = plt.figure(figsize=(7, 7))\n",
    "fig1.suptitle('People killed in Belgium by terrorist attacks 2014-2018', fontsize=14)\n",
    "ax = fig1.add_subplot(111)\n",
    "ax.set_xlabel('year')\n",
    "ax.set_ylabel('deaths')\n",
    "ax.bar(x_axis, y_axis, fc='red', align='center')\n",
    "ax.xaxis.set_major_locator(plt.MaxNLocator(5))\n",
    "ax.yaxis.set_major_locator(plt.MaxNLocator(5))\n",
    "plt.show()"
   ]
  },
  {
   "cell_type": "code",
   "execution_count": 18,
   "metadata": {
    "scrolled": true
   },
   "outputs": [],
   "source": [
    "#Drop redundant data\n",
    "df_passenger_data_brussels = df_passenger_data_brussels.drop('destination ICAO')\n",
    "\n",
    "#Parse all data to int\n",
    "df_passenger_data_brussels = df_passenger_data_brussels.withColumn(\"2004M03\", df_passenger_data_brussels[\"2004M03\"].cast(IntegerType()))\n",
    "df_passenger_data_brussels = df_passenger_data_brussels.withColumn(\"2004M04\", df_passenger_data_brussels[\"2004M04\"].cast(IntegerType()))\n",
    "df_passenger_data_brussels = df_passenger_data_brussels.withColumn(\"2005M03\", df_passenger_data_brussels[\"2005M03\"].cast(IntegerType()))\n",
    "df_passenger_data_brussels = df_passenger_data_brussels.withColumn(\"2005M04\", df_passenger_data_brussels[\"2005M04\"].cast(IntegerType()))\n",
    "df_passenger_data_brussels = df_passenger_data_brussels.withColumn(\"2006M03\", df_passenger_data_brussels[\"2006M03\"].cast(IntegerType()))\n",
    "df_passenger_data_brussels = df_passenger_data_brussels.withColumn(\"2006M04\", df_passenger_data_brussels[\"2006M04\"].cast(IntegerType()))\n",
    "df_passenger_data_brussels = df_passenger_data_brussels.withColumn(\"2007M03\", df_passenger_data_brussels[\"2007M03\"].cast(IntegerType()))\n",
    "df_passenger_data_brussels = df_passenger_data_brussels.withColumn(\"2007M04\", df_passenger_data_brussels[\"2007M04\"].cast(IntegerType()))\n",
    "df_passenger_data_brussels = df_passenger_data_brussels.withColumn(\"2008M03\", df_passenger_data_brussels[\"2008M03\"].cast(IntegerType()))\n",
    "df_passenger_data_brussels = df_passenger_data_brussels.withColumn(\"2008M04\", df_passenger_data_brussels[\"2008M04\"].cast(IntegerType()))\n",
    "df_passenger_data_brussels = df_passenger_data_brussels.withColumn(\"2009M03\", df_passenger_data_brussels[\"2009M03\"].cast(IntegerType()))\n",
    "df_passenger_data_brussels = df_passenger_data_brussels.withColumn(\"2009M04\", df_passenger_data_brussels[\"2009M04\"].cast(IntegerType()))\n",
    "df_passenger_data_brussels = df_passenger_data_brussels.withColumn(\"2010M03\", df_passenger_data_brussels[\"2010M03\"].cast(IntegerType()))\n",
    "df_passenger_data_brussels = df_passenger_data_brussels.withColumn(\"2010M04\", df_passenger_data_brussels[\"2010M04\"].cast(IntegerType()))\n",
    "df_passenger_data_brussels = df_passenger_data_brussels.withColumn(\"2011M03\", df_passenger_data_brussels[\"2011M03\"].cast(IntegerType()))\n",
    "df_passenger_data_brussels = df_passenger_data_brussels.withColumn(\"2011M04\", df_passenger_data_brussels[\"2011M04\"].cast(IntegerType()))\n",
    "df_passenger_data_brussels = df_passenger_data_brussels.withColumn(\"2012M03\", df_passenger_data_brussels[\"2012M03\"].cast(IntegerType()))\n",
    "df_passenger_data_brussels = df_passenger_data_brussels.withColumn(\"2012M04\", df_passenger_data_brussels[\"2012M04\"].cast(IntegerType()))\n",
    "df_passenger_data_brussels = df_passenger_data_brussels.withColumn(\"2013M03\", df_passenger_data_brussels[\"2013M03\"].cast(IntegerType()))\n",
    "df_passenger_data_brussels = df_passenger_data_brussels.withColumn(\"2013M04\", df_passenger_data_brussels[\"2013M04\"].cast(IntegerType()))\n",
    "df_passenger_data_brussels = df_passenger_data_brussels.withColumn(\"2014M03\", df_passenger_data_brussels[\"2014M03\"].cast(IntegerType()))\n",
    "df_passenger_data_brussels = df_passenger_data_brussels.withColumn(\"2014M04\", df_passenger_data_brussels[\"2014M04\"].cast(IntegerType()))\n",
    "df_passenger_data_brussels = df_passenger_data_brussels.withColumn(\"2015M03\", df_passenger_data_brussels[\"2015M03\"].cast(IntegerType()))\n",
    "df_passenger_data_brussels = df_passenger_data_brussels.withColumn(\"2015M04\", df_passenger_data_brussels[\"2015M04\"].cast(IntegerType()))\n",
    "df_passenger_data_brussels = df_passenger_data_brussels.withColumn(\"2016M03\", df_passenger_data_brussels[\"2016M03\"].cast(IntegerType()))\n",
    "df_passenger_data_brussels = df_passenger_data_brussels.withColumn(\"2016M04\", df_passenger_data_brussels[\"2016M04\"].cast(IntegerType()))\n",
    "df_passenger_data_brussels = df_passenger_data_brussels.withColumn(\"2017M03\", df_passenger_data_brussels[\"2017M03\"].cast(IntegerType()))\n",
    "df_passenger_data_brussels = df_passenger_data_brussels.withColumn(\"2017M04\", df_passenger_data_brussels[\"2017M04\"].cast(IntegerType()))\n",
    "df_passenger_data_brussels = df_passenger_data_brussels.withColumn(\"2018M03\", df_passenger_data_brussels[\"2018M03\"].cast(IntegerType()))\n",
    "df_passenger_data_brussels = df_passenger_data_brussels.withColumn(\"2018M04\", df_passenger_data_brussels[\"2018M04\"].cast(IntegerType()))\n",
    "\n"
   ]
  },
  {
   "cell_type": "code",
   "execution_count": null,
   "metadata": {},
   "outputs": [],
   "source": []
  },
  {
   "cell_type": "code",
   "execution_count": 19,
   "metadata": {},
   "outputs": [],
   "source": [
    "\n",
    "from pyspark.sql import functions as F\n",
    "#Summing up all data by year\n",
    "df_passenger_data_2004 = df_passenger_data_brussels.groupBy().agg(F.sum('2004M03').alias(\"2004M03\"))\n",
    "df_passenger_data_1 = df_passenger_data_brussels.groupBy().agg(F.sum('2004M04').alias(\"2004M04\"))\n",
    "df_passenger_data_2004 = df_passenger_data_2004.unionAll(df_passenger_data_1)\n",
    "df_passenger_data_2004 = df_passenger_data_2004.groupBy().agg(F.sum('2004M03').alias(\"2004\"))\n",
    "\n",
    "df_passenger_data_2005 = df_passenger_data_brussels.groupBy().agg(F.sum('2005M03').alias(\"2005M03\"))\n",
    "df_passenger_data_1 = df_passenger_data_brussels.groupBy().agg(F.sum('2005M04').alias(\"2005M04\"))\n",
    "df_passenger_data_2005.df_passenger_data_2005 = df_passenger_data_2005.unionAll(df_passenger_data_1)\n",
    "df_passenger_data_2005 = df_passenger_data_2005.groupBy().agg(F.sum('2005M03').alias(\"2005\"))\n",
    "\n",
    "df_passenger_data_2006 = df_passenger_data_brussels.groupBy().agg(F.sum('2006M03').alias(\"2006M03\"))\n",
    "df_passenger_data_1 = df_passenger_data_brussels.groupBy().agg(F.sum('2006M04').alias(\"2006M04\"))\n",
    "df_passenger_data_2006.df_passenger_data_2005 = df_passenger_data_2006.unionAll(df_passenger_data_1)\n",
    "df_passenger_data_2006 = df_passenger_data_2006.groupBy().agg(F.sum('2006M03').alias(\"2006\"))\n",
    "\n",
    "df_passenger_data_2007 = df_passenger_data_brussels.groupBy().agg(F.sum('2007M03').alias(\"2007M03\"))\n",
    "df_passenger_data_1 = df_passenger_data_brussels.groupBy().agg(F.sum('2007M04').alias(\"2007M04\"))\n",
    "df_passenger_data_2007.df_passenger_data_2005 = df_passenger_data_2007.unionAll(df_passenger_data_1)\n",
    "df_passenger_data_2007 = df_passenger_data_2007.groupBy().agg(F.sum('2007M03').alias(\"2007\"))\n",
    "\n",
    "df_passenger_data_2008 = df_passenger_data_brussels.groupBy().agg(F.sum('2008M03').alias(\"2008M03\"))\n",
    "df_passenger_data_1 = df_passenger_data_brussels.groupBy().agg(F.sum('2008M04').alias(\"2008M04\"))\n",
    "df_passenger_data_2008.df_passenger_data_2005 = df_passenger_data_2008.unionAll(df_passenger_data_1)\n",
    "df_passenger_data_2008 = df_passenger_data_2008.groupBy().agg(F.sum('2008M03').alias(\"2008\"))\n",
    "\n",
    "df_passenger_data_2009 = df_passenger_data_brussels.groupBy().agg(F.sum('2009M03').alias(\"2009M03\"))\n",
    "df_passenger_data_1 = df_passenger_data_brussels.groupBy().agg(F.sum('2009M04').alias(\"2009M04\"))\n",
    "df_passenger_data_2009.df_passenger_data_2005 = df_passenger_data_2009.unionAll(df_passenger_data_1)\n",
    "df_passenger_data_2009 = df_passenger_data_2009.groupBy().agg(F.sum('2009M03').alias(\"2009\"))\n",
    "\n",
    "df_passenger_data_2010 = df_passenger_data_brussels.groupBy().agg(F.sum('2010M03').alias(\"2010M03\"))\n",
    "df_passenger_data_1 = df_passenger_data_brussels.groupBy().agg(F.sum('2010M04').alias(\"2010M04\"))\n",
    "df_passenger_data_2010.df_passenger_data_2005 = df_passenger_data_2010.unionAll(df_passenger_data_1)\n",
    "df_passenger_data_2010 = df_passenger_data_2010.groupBy().agg(F.sum('2010M03').alias(\"2010\"))\n",
    "\n",
    "df_passenger_data_2011 = df_passenger_data_brussels.groupBy().agg(F.sum('2011M03').alias(\"2011M03\"))\n",
    "df_passenger_data_1 = df_passenger_data_brussels.groupBy().agg(F.sum('2011M04').alias(\"2011M04\"))\n",
    "df_passenger_data_2011.df_passenger_data_2005 = df_passenger_data_2011.unionAll(df_passenger_data_1)\n",
    "df_passenger_data_2011 = df_passenger_data_2011.groupBy().agg(F.sum('2011M03').alias(\"2011\"))\n",
    "\n",
    "df_passenger_data_2012 = df_passenger_data_brussels.groupBy().agg(F.sum('2012M03').alias(\"2012M03\"))\n",
    "df_passenger_data_1 = df_passenger_data_brussels.groupBy().agg(F.sum('2012M04').alias(\"2012M04\"))\n",
    "df_passenger_data_2012.df_passenger_data_2005 = df_passenger_data_2012.unionAll(df_passenger_data_1)\n",
    "df_passenger_data_2012 = df_passenger_data_2012.groupBy().agg(F.sum('2012M03').alias(\"2012\"))\n",
    "\n",
    "df_passenger_data_2013 = df_passenger_data_brussels.groupBy().agg(F.sum('2013M03').alias(\"2013M03\"))\n",
    "df_passenger_data_1 = df_passenger_data_brussels.groupBy().agg(F.sum('2013M04').alias(\"2013M04\"))\n",
    "df_passenger_data_2013.df_passenger_data_2005 = df_passenger_data_2013.unionAll(df_passenger_data_1)\n",
    "df_passenger_data_2013 = df_passenger_data_2013.groupBy().agg(F.sum('2013M03').alias(\"2013\"))\n",
    "\n",
    "df_passenger_data_2014 = df_passenger_data_brussels.groupBy().agg(F.sum('2014M03').alias(\"2014M03\"))\n",
    "df_passenger_data_1 = df_passenger_data_brussels.groupBy().agg(F.sum('2014M04').alias(\"2014M04\"))\n",
    "df_passenger_data_2014.df_passenger_data_2005 = df_passenger_data_2014.unionAll(df_passenger_data_1)\n",
    "df_passenger_data_2014 = df_passenger_data_2014.groupBy().agg(F.sum('2014M03').alias(\"2014\"))\n",
    "\n",
    "df_passenger_data_2015 = df_passenger_data_brussels.groupBy().agg(F.sum('2015M03').alias(\"2015M03\"))\n",
    "df_passenger_data_1 = df_passenger_data_brussels.groupBy().agg(F.sum('2015M04').alias(\"2015M04\"))\n",
    "df_passenger_data_2015.df_passenger_data_2005 = df_passenger_data_2015.unionAll(df_passenger_data_1)\n",
    "df_passenger_data_2015 = df_passenger_data_2015.groupBy().agg(F.sum('2015M03').alias(\"2015\"))\n",
    "\n",
    "df_passenger_data_2016 = df_passenger_data_brussels.groupBy().agg(F.sum('2016M03').alias(\"2016M03\"))\n",
    "df_passenger_data_1 = df_passenger_data_brussels.groupBy().agg(F.sum('2016M04').alias(\"2016M04\"))\n",
    "df_passenger_data_2016.df_passenger_data_2005 = df_passenger_data_2016.unionAll(df_passenger_data_1)\n",
    "df_passenger_data_2016 = df_passenger_data_2016.groupBy().agg(F.sum('2016M03').alias(\"2016\"))\n",
    "\n",
    "df_passenger_data_2017 = df_passenger_data_brussels.groupBy().agg(F.sum('2017M03').alias(\"2017M03\"))\n",
    "df_passenger_data_1 = df_passenger_data_brussels.groupBy().agg(F.sum('2017M04').alias(\"2017M04\"))\n",
    "df_passenger_data_2017.df_passenger_data_2005 = df_passenger_data_2017.unionAll(df_passenger_data_1)\n",
    "df_passenger_data_2017 = df_passenger_data_2017.groupBy().agg(F.sum('2017M03').alias(\"2017\"))\n",
    "\n",
    "df_passenger_data_2018 = df_passenger_data_brussels.groupBy().agg(F.sum('2018M03').alias(\"2018M03\"))\n",
    "df_passenger_data_1 = df_passenger_data_brussels.groupBy().agg(F.sum('2018M04').alias(\"2018M04\"))\n",
    "df_passenger_data_2018.df_passenger_data_2005 = df_passenger_data_2018.unionAll(df_passenger_data_1)\n",
    "df_passenger_data_2018 = df_passenger_data_2018.groupBy().agg(F.sum('2018M03').alias(\"2018\"))"
   ]
  },
  {
   "cell_type": "code",
   "execution_count": 60,
   "metadata": {},
   "outputs": [
    {
     "name": "stdout",
     "output_type": "stream",
     "text": [
      "+----+----------+\n",
      "|Year|Passengers|\n",
      "+----+----------+\n",
      "|2004|    980458|\n",
      "|2005|    472637|\n",
      "|2006|    483522|\n",
      "|2007|    503269|\n",
      "|2008|    536988|\n",
      "|2009|    469472|\n",
      "|2010|    458935|\n",
      "|2011|    501139|\n",
      "|2012|    514781|\n",
      "|2013|    528224|\n",
      "|2014|    605136|\n",
      "|2015|    640122|\n",
      "|2016|    439874|\n",
      "|2017|    685673|\n",
      "|2018|    691397|\n",
      "+----+----------+\n",
      "\n"
     ]
    }
   ],
   "source": [
    "#Dataframe samenstellen met uiteindelijke data\n",
    "field = [StructField('Years',IntegerType(), True),StructField('Passengers', IntegerType(), True)]\n",
    "\n",
    "schema = StructType(field)\n",
    "columns = ['Year', 'Passengers']\n",
    "vals = [(df_passenger_data_2004.schema.names[0], df_passenger_data_2004.collect()[0][0]),\n",
    "       (df_passenger_data_2005.schema.names[0], df_passenger_data_2005.collect()[0][0]),\n",
    "       (df_passenger_data_2006.schema.names[0], df_passenger_data_2006.collect()[0][0]),\n",
    "       (df_passenger_data_2007.schema.names[0], df_passenger_data_2007.collect()[0][0]),\n",
    "       (df_passenger_data_2008.schema.names[0], df_passenger_data_2008.collect()[0][0]),\n",
    "       (df_passenger_data_2009.schema.names[0], df_passenger_data_2009.collect()[0][0]),\n",
    "       (df_passenger_data_2010.schema.names[0], df_passenger_data_2010.collect()[0][0]),\n",
    "       (df_passenger_data_2011.schema.names[0], df_passenger_data_2011.collect()[0][0]),\n",
    "       (df_passenger_data_2012.schema.names[0], df_passenger_data_2012.collect()[0][0]),\n",
    "       (df_passenger_data_2013.schema.names[0], df_passenger_data_2013.collect()[0][0]),\n",
    "       (df_passenger_data_2014.schema.names[0], df_passenger_data_2014.collect()[0][0]),\n",
    "       (df_passenger_data_2015.schema.names[0], df_passenger_data_2015.collect()[0][0]),\n",
    "       (df_passenger_data_2016.schema.names[0], df_passenger_data_2016.collect()[0][0]),\n",
    "       (df_passenger_data_2017.schema.names[0], df_passenger_data_2017.collect()[0][0]),\n",
    "       (df_passenger_data_2018.schema.names[0], df_passenger_data_2018.collect()[0][0])]\n",
    "\n",
    "df_passengers_by_year = sqlContext.createDataFrame(vals, columns)\n",
    "\n",
    "df_passengers_by_year.show()"
   ]
  },
  {
   "cell_type": "code",
   "execution_count": 61,
   "metadata": {},
   "outputs": [
    {
     "data": {
      "image/png": "[encoded data removed]",
      "text/plain": [
       "<Figure size 576x576 with 1 Axes>"
      ]
     },
     "metadata": {},
     "output_type": "display_data"
    }
   ],
   "source": [
    "%matplotlib inline\n",
    "import matplotlib.pyplot as plt\n",
    "import matplotlib.dates as plt_dates\n",
    "from datetime import datetime\n",
    "\n",
    "y_axis = []\n",
    "x_axis = []\n",
    "\n",
    "for row in df_passengers_by_year.collect():\n",
    "     #Toekennen aan x as\n",
    "    x_axis.append(int(row.Year))\n",
    "    #Toekennen aan y as\n",
    "    y_axis.append(int(row.Passengers))\n",
    "    \n",
    "#Maken grafiek\n",
    "#fig1 = plt.figure(figsize=(7, 7))\n",
    "#fig1.suptitle('Passengers departing from airport Brussels 2004-2018', fontsize=14)\n",
    "#ax = fig1.add_subplot(111)\n",
    "#ax.set_xlabel('Year')\n",
    "#ax.set_ylabel('Passengers')\n",
    "#ax.bar(x_axis, y_axis, fc='red', align='center')\n",
    "#ax.xaxis.set_major_locator(plt.MaxNLocator(5))\n",
    "#ax.yaxis.set_major_locator(plt.MaxNLocator(5))\n",
    "\n",
    "#plt.annotate('Terrorist attack', xy=(2016, 439874), xytext=(2014.42, 750000),\n",
    "#            arrowprops=dict(facecolor='black', shrink=0.05),\n",
    "#            )\n",
    "#plt.show()\n",
    "\n",
    "figl = plt.figure(figsize=(8,8))\n",
    "fig1.suptitle('Passengers departing from airport Brussels 2004-2018', fontsize=14)\n",
    "ax = figl.add_subplot(211)\n",
    "ax.set_xlabel('Year')\n",
    "ax.set_ylabel('Passengers')\n",
    "\n",
    "plt.plot(df_passengers_by_year.select(\"Year\").rdd.flatMap(lambda x: x).collect(), df_passengers_by_year.select(\"Passengers\").rdd.flatMap(lambda x: x).collect())\n",
    "plt.show()\n",
    "df_passengers_by_year = df_passengers_by_year.join(grouped_query.withColumnRenamed(\"iyear\", \"Year\"),on=['Year'],how='outer')\n"
   ]
  },
  {
   "cell_type": "code",
   "execution_count": 66,
   "metadata": {},
   "outputs": [
    {
     "ename": "ValueError",
     "evalue": "setting an array element with a sequence.",
     "output_type": "error",
     "traceback": [
      "\u001b[0;31m---------------------------------------------------------------------------\u001b[0m",
      "\u001b[0;31mValueError\u001b[0m                                Traceback (most recent call last)",
      "\u001b[0;32m<ipython-input-66-ffa5abe3f207>\u001b[0m in \u001b[0;36m<module>\u001b[0;34m()\u001b[0m\n\u001b[1;32m     12\u001b[0m \u001b[0max1\u001b[0m\u001b[0;34m.\u001b[0m\u001b[0mset_xlabel\u001b[0m\u001b[0;34m(\u001b[0m\u001b[0;34m'Year'\u001b[0m\u001b[0;34m)\u001b[0m\u001b[0;34m\u001b[0m\u001b[0m\n\u001b[1;32m     13\u001b[0m \u001b[0max1\u001b[0m\u001b[0;34m.\u001b[0m\u001b[0mset_ylabel\u001b[0m\u001b[0;34m(\u001b[0m\u001b[0;34m'exp'\u001b[0m\u001b[0;34m,\u001b[0m \u001b[0mcolor\u001b[0m\u001b[0;34m=\u001b[0m\u001b[0mcolor\u001b[0m\u001b[0;34m)\u001b[0m\u001b[0;34m\u001b[0m\u001b[0m\n\u001b[0;32m---> 14\u001b[0;31m \u001b[0max1\u001b[0m\u001b[0;34m.\u001b[0m\u001b[0mplot\u001b[0m\u001b[0;34m(\u001b[0m\u001b[0mt\u001b[0m\u001b[0;34m,\u001b[0m \u001b[0mdf_passengers_by_year\u001b[0m\u001b[0;34m.\u001b[0m\u001b[0mselect\u001b[0m\u001b[0;34m(\u001b[0m\u001b[0;34m\"nkill\"\u001b[0m\u001b[0;34m)\u001b[0m\u001b[0;34m,\u001b[0m \u001b[0mcolor\u001b[0m\u001b[0;34m=\u001b[0m\u001b[0mcolor\u001b[0m\u001b[0;34m)\u001b[0m\u001b[0;34m\u001b[0m\u001b[0m\n\u001b[0m\u001b[1;32m     15\u001b[0m \u001b[0max1\u001b[0m\u001b[0;34m.\u001b[0m\u001b[0mtick_params\u001b[0m\u001b[0;34m(\u001b[0m\u001b[0maxis\u001b[0m\u001b[0;34m=\u001b[0m\u001b[0;34m'y'\u001b[0m\u001b[0;34m,\u001b[0m \u001b[0mlabelcolor\u001b[0m\u001b[0;34m=\u001b[0m\u001b[0mcolor\u001b[0m\u001b[0;34m)\u001b[0m\u001b[0;34m\u001b[0m\u001b[0m\n\u001b[1;32m     16\u001b[0m \u001b[0;34m\u001b[0m\u001b[0m\n",
      "\u001b[0;32m/home/ben/.local/lib/python3.6/site-packages/matplotlib/__init__.py\u001b[0m in \u001b[0;36minner\u001b[0;34m(ax, data, *args, **kwargs)\u001b[0m\n\u001b[1;32m   1783\u001b[0m                         \u001b[0;34m\"the Matplotlib list!)\"\u001b[0m \u001b[0;34m%\u001b[0m \u001b[0;34m(\u001b[0m\u001b[0mlabel_namer\u001b[0m\u001b[0;34m,\u001b[0m \u001b[0mfunc\u001b[0m\u001b[0;34m.\u001b[0m\u001b[0m__name__\u001b[0m\u001b[0;34m)\u001b[0m\u001b[0;34m,\u001b[0m\u001b[0;34m\u001b[0m\u001b[0m\n\u001b[1;32m   1784\u001b[0m                         RuntimeWarning, stacklevel=2)\n\u001b[0;32m-> 1785\u001b[0;31m             \u001b[0;32mreturn\u001b[0m \u001b[0mfunc\u001b[0m\u001b[0;34m(\u001b[0m\u001b[0max\u001b[0m\u001b[0;34m,\u001b[0m \u001b[0;34m*\u001b[0m\u001b[0margs\u001b[0m\u001b[0;34m,\u001b[0m \u001b[0;34m**\u001b[0m\u001b[0mkwargs\u001b[0m\u001b[0;34m)\u001b[0m\u001b[0;34m\u001b[0m\u001b[0m\n\u001b[0m\u001b[1;32m   1786\u001b[0m \u001b[0;34m\u001b[0m\u001b[0m\n\u001b[1;32m   1787\u001b[0m         inner.__doc__ = _add_data_doc(inner.__doc__,\n",
      "\u001b[0;32m/home/ben/.local/lib/python3.6/site-packages/matplotlib/axes/_axes.py\u001b[0m in \u001b[0;36mplot\u001b[0;34m(self, scalex, scaley, *args, **kwargs)\u001b[0m\n\u001b[1;32m   1603\u001b[0m \u001b[0;34m\u001b[0m\u001b[0m\n\u001b[1;32m   1604\u001b[0m         \u001b[0;32mfor\u001b[0m \u001b[0mline\u001b[0m \u001b[0;32min\u001b[0m \u001b[0mself\u001b[0m\u001b[0;34m.\u001b[0m\u001b[0m_get_lines\u001b[0m\u001b[0;34m(\u001b[0m\u001b[0;34m*\u001b[0m\u001b[0margs\u001b[0m\u001b[0;34m,\u001b[0m \u001b[0;34m**\u001b[0m\u001b[0mkwargs\u001b[0m\u001b[0;34m)\u001b[0m\u001b[0;34m:\u001b[0m\u001b[0;34m\u001b[0m\u001b[0m\n\u001b[0;32m-> 1605\u001b[0;31m             \u001b[0mself\u001b[0m\u001b[0;34m.\u001b[0m\u001b[0madd_line\u001b[0m\u001b[0;34m(\u001b[0m\u001b[0mline\u001b[0m\u001b[0;34m)\u001b[0m\u001b[0;34m\u001b[0m\u001b[0m\n\u001b[0m\u001b[1;32m   1606\u001b[0m             \u001b[0mlines\u001b[0m\u001b[0;34m.\u001b[0m\u001b[0mappend\u001b[0m\u001b[0;34m(\u001b[0m\u001b[0mline\u001b[0m\u001b[0;34m)\u001b[0m\u001b[0;34m\u001b[0m\u001b[0m\n\u001b[1;32m   1607\u001b[0m \u001b[0;34m\u001b[0m\u001b[0m\n",
      "\u001b[0;32m/home/ben/.local/lib/python3.6/site-packages/matplotlib/axes/_base.py\u001b[0m in \u001b[0;36madd_line\u001b[0;34m(self, line)\u001b[0m\n\u001b[1;32m   1883\u001b[0m             \u001b[0mline\u001b[0m\u001b[0;34m.\u001b[0m\u001b[0mset_clip_path\u001b[0m\u001b[0;34m(\u001b[0m\u001b[0mself\u001b[0m\u001b[0;34m.\u001b[0m\u001b[0mpatch\u001b[0m\u001b[0;34m)\u001b[0m\u001b[0;34m\u001b[0m\u001b[0m\n\u001b[1;32m   1884\u001b[0m \u001b[0;34m\u001b[0m\u001b[0m\n\u001b[0;32m-> 1885\u001b[0;31m         \u001b[0mself\u001b[0m\u001b[0;34m.\u001b[0m\u001b[0m_update_line_limits\u001b[0m\u001b[0;34m(\u001b[0m\u001b[0mline\u001b[0m\u001b[0;34m)\u001b[0m\u001b[0;34m\u001b[0m\u001b[0m\n\u001b[0m\u001b[1;32m   1886\u001b[0m         \u001b[0;32mif\u001b[0m \u001b[0;32mnot\u001b[0m \u001b[0mline\u001b[0m\u001b[0;34m.\u001b[0m\u001b[0mget_label\u001b[0m\u001b[0;34m(\u001b[0m\u001b[0;34m)\u001b[0m\u001b[0;34m:\u001b[0m\u001b[0;34m\u001b[0m\u001b[0m\n\u001b[1;32m   1887\u001b[0m             \u001b[0mline\u001b[0m\u001b[0;34m.\u001b[0m\u001b[0mset_label\u001b[0m\u001b[0;34m(\u001b[0m\u001b[0;34m'_line%d'\u001b[0m \u001b[0;34m%\u001b[0m \u001b[0mlen\u001b[0m\u001b[0;34m(\u001b[0m\u001b[0mself\u001b[0m\u001b[0;34m.\u001b[0m\u001b[0mlines\u001b[0m\u001b[0;34m)\u001b[0m\u001b[0;34m)\u001b[0m\u001b[0;34m\u001b[0m\u001b[0m\n",
      "\u001b[0;32m/home/ben/.local/lib/python3.6/site-packages/matplotlib/axes/_base.py\u001b[0m in \u001b[0;36m_update_line_limits\u001b[0;34m(self, line)\u001b[0m\n\u001b[1;32m   1905\u001b[0m         \u001b[0mFigures\u001b[0m \u001b[0mout\u001b[0m \u001b[0mthe\u001b[0m \u001b[0mdata\u001b[0m \u001b[0mlimit\u001b[0m \u001b[0mof\u001b[0m \u001b[0mthe\u001b[0m \u001b[0mgiven\u001b[0m \u001b[0mline\u001b[0m\u001b[0;34m,\u001b[0m \u001b[0mupdating\u001b[0m \u001b[0mself\u001b[0m\u001b[0;34m.\u001b[0m\u001b[0mdataLim\u001b[0m\u001b[0;34m.\u001b[0m\u001b[0;34m\u001b[0m\u001b[0m\n\u001b[1;32m   1906\u001b[0m         \"\"\"\n\u001b[0;32m-> 1907\u001b[0;31m         \u001b[0mpath\u001b[0m \u001b[0;34m=\u001b[0m \u001b[0mline\u001b[0m\u001b[0;34m.\u001b[0m\u001b[0mget_path\u001b[0m\u001b[0;34m(\u001b[0m\u001b[0;34m)\u001b[0m\u001b[0;34m\u001b[0m\u001b[0m\n\u001b[0m\u001b[1;32m   1908\u001b[0m         \u001b[0;32mif\u001b[0m \u001b[0mpath\u001b[0m\u001b[0;34m.\u001b[0m\u001b[0mvertices\u001b[0m\u001b[0;34m.\u001b[0m\u001b[0msize\u001b[0m \u001b[0;34m==\u001b[0m \u001b[0;36m0\u001b[0m\u001b[0;34m:\u001b[0m\u001b[0;34m\u001b[0m\u001b[0m\n\u001b[1;32m   1909\u001b[0m             \u001b[0;32mreturn\u001b[0m\u001b[0;34m\u001b[0m\u001b[0m\n",
      "\u001b[0;32m/home/ben/.local/lib/python3.6/site-packages/matplotlib/lines.py\u001b[0m in \u001b[0;36mget_path\u001b[0;34m(self)\u001b[0m\n\u001b[1;32m    943\u001b[0m         \"\"\"\n\u001b[1;32m    944\u001b[0m         \u001b[0;32mif\u001b[0m \u001b[0mself\u001b[0m\u001b[0;34m.\u001b[0m\u001b[0m_invalidy\u001b[0m \u001b[0;32mor\u001b[0m \u001b[0mself\u001b[0m\u001b[0;34m.\u001b[0m\u001b[0m_invalidx\u001b[0m\u001b[0;34m:\u001b[0m\u001b[0;34m\u001b[0m\u001b[0m\n\u001b[0;32m--> 945\u001b[0;31m             \u001b[0mself\u001b[0m\u001b[0;34m.\u001b[0m\u001b[0mrecache\u001b[0m\u001b[0;34m(\u001b[0m\u001b[0;34m)\u001b[0m\u001b[0;34m\u001b[0m\u001b[0m\n\u001b[0m\u001b[1;32m    946\u001b[0m         \u001b[0;32mreturn\u001b[0m \u001b[0mself\u001b[0m\u001b[0;34m.\u001b[0m\u001b[0m_path\u001b[0m\u001b[0;34m\u001b[0m\u001b[0m\n\u001b[1;32m    947\u001b[0m \u001b[0;34m\u001b[0m\u001b[0m\n",
      "\u001b[0;32m/home/ben/.local/lib/python3.6/site-packages/matplotlib/lines.py\u001b[0m in \u001b[0;36mrecache\u001b[0;34m(self, always)\u001b[0m\n\u001b[1;32m    643\u001b[0m         \u001b[0;32mif\u001b[0m \u001b[0malways\u001b[0m \u001b[0;32mor\u001b[0m \u001b[0mself\u001b[0m\u001b[0;34m.\u001b[0m\u001b[0m_invalidy\u001b[0m\u001b[0;34m:\u001b[0m\u001b[0;34m\u001b[0m\u001b[0m\n\u001b[1;32m    644\u001b[0m             \u001b[0myconv\u001b[0m \u001b[0;34m=\u001b[0m \u001b[0mself\u001b[0m\u001b[0;34m.\u001b[0m\u001b[0mconvert_yunits\u001b[0m\u001b[0;34m(\u001b[0m\u001b[0mself\u001b[0m\u001b[0;34m.\u001b[0m\u001b[0m_yorig\u001b[0m\u001b[0;34m)\u001b[0m\u001b[0;34m\u001b[0m\u001b[0m\n\u001b[0;32m--> 645\u001b[0;31m             \u001b[0my\u001b[0m \u001b[0;34m=\u001b[0m \u001b[0m_to_unmasked_float_array\u001b[0m\u001b[0;34m(\u001b[0m\u001b[0myconv\u001b[0m\u001b[0;34m)\u001b[0m\u001b[0;34m.\u001b[0m\u001b[0mravel\u001b[0m\u001b[0;34m(\u001b[0m\u001b[0;34m)\u001b[0m\u001b[0;34m\u001b[0m\u001b[0m\n\u001b[0m\u001b[1;32m    646\u001b[0m         \u001b[0;32melse\u001b[0m\u001b[0;34m:\u001b[0m\u001b[0;34m\u001b[0m\u001b[0m\n\u001b[1;32m    647\u001b[0m             \u001b[0my\u001b[0m \u001b[0;34m=\u001b[0m \u001b[0mself\u001b[0m\u001b[0;34m.\u001b[0m\u001b[0m_y\u001b[0m\u001b[0;34m\u001b[0m\u001b[0m\n",
      "\u001b[0;32m/home/ben/.local/lib/python3.6/site-packages/matplotlib/cbook/__init__.py\u001b[0m in \u001b[0;36m_to_unmasked_float_array\u001b[0;34m(x)\u001b[0m\n\u001b[1;32m   1363\u001b[0m         \u001b[0;32mreturn\u001b[0m \u001b[0mnp\u001b[0m\u001b[0;34m.\u001b[0m\u001b[0mma\u001b[0m\u001b[0;34m.\u001b[0m\u001b[0masarray\u001b[0m\u001b[0;34m(\u001b[0m\u001b[0mx\u001b[0m\u001b[0;34m,\u001b[0m \u001b[0mfloat\u001b[0m\u001b[0;34m)\u001b[0m\u001b[0;34m.\u001b[0m\u001b[0mfilled\u001b[0m\u001b[0;34m(\u001b[0m\u001b[0mnp\u001b[0m\u001b[0;34m.\u001b[0m\u001b[0mnan\u001b[0m\u001b[0;34m)\u001b[0m\u001b[0;34m\u001b[0m\u001b[0m\n\u001b[1;32m   1364\u001b[0m     \u001b[0;32melse\u001b[0m\u001b[0;34m:\u001b[0m\u001b[0;34m\u001b[0m\u001b[0m\n\u001b[0;32m-> 1365\u001b[0;31m         \u001b[0;32mreturn\u001b[0m \u001b[0mnp\u001b[0m\u001b[0;34m.\u001b[0m\u001b[0masarray\u001b[0m\u001b[0;34m(\u001b[0m\u001b[0mx\u001b[0m\u001b[0;34m,\u001b[0m \u001b[0mfloat\u001b[0m\u001b[0;34m)\u001b[0m\u001b[0;34m\u001b[0m\u001b[0m\n\u001b[0m\u001b[1;32m   1366\u001b[0m \u001b[0;34m\u001b[0m\u001b[0m\n\u001b[1;32m   1367\u001b[0m \u001b[0;34m\u001b[0m\u001b[0m\n",
      "\u001b[0;32m/home/ben/.local/lib/python3.6/site-packages/numpy/core/numeric.py\u001b[0m in \u001b[0;36masarray\u001b[0;34m(a, dtype, order)\u001b[0m\n\u001b[1;32m    499\u001b[0m \u001b[0;34m\u001b[0m\u001b[0m\n\u001b[1;32m    500\u001b[0m     \"\"\"\n\u001b[0;32m--> 501\u001b[0;31m     \u001b[0;32mreturn\u001b[0m \u001b[0marray\u001b[0m\u001b[0;34m(\u001b[0m\u001b[0ma\u001b[0m\u001b[0;34m,\u001b[0m \u001b[0mdtype\u001b[0m\u001b[0;34m,\u001b[0m \u001b[0mcopy\u001b[0m\u001b[0;34m=\u001b[0m\u001b[0;32mFalse\u001b[0m\u001b[0;34m,\u001b[0m \u001b[0morder\u001b[0m\u001b[0;34m=\u001b[0m\u001b[0morder\u001b[0m\u001b[0;34m)\u001b[0m\u001b[0;34m\u001b[0m\u001b[0m\n\u001b[0m\u001b[1;32m    502\u001b[0m \u001b[0;34m\u001b[0m\u001b[0m\n\u001b[1;32m    503\u001b[0m \u001b[0;34m\u001b[0m\u001b[0m\n",
      "\u001b[0;31mValueError\u001b[0m: setting an array element with a sequence."
     ]
    },
    {
     "data": {
      "image/png": "[encoded data removed]",
      "text/plain": [
       "<Figure size 432x288 with 1 Axes>"
      ]
     },
     "metadata": {},
     "output_type": "display_data"
    }
   ],
   "source": [
    "import numpy as np\n",
    "import matplotlib.pyplot as plt\n",
    "\n",
    "# Create some mock data\n",
    "t = np.arange(2004, 2005, 2006)\n",
    "#data1 = np.exp(t)\n",
    "#data2 = np.sin(2 * np.pi * t)\n",
    "\n",
    "fig, ax1 = plt.subplots()\n",
    "\n",
    "color = 'tab:red'\n",
    "ax1.set_xlabel('Year')\n",
    "ax1.set_ylabel('exp', color=color)\n",
    "ax1.plot(t, df_passengers_by_year.select(\"nkill\"), color=color)\n",
    "ax1.tick_params(axis='y', labelcolor=color)\n",
    "\n",
    "ax2 = ax1.twinx()  # instantiate a second axes that shares the same x-axis\n",
    "\n",
    "color = 'tab:blue'\n",
    "ax2.set_ylabel('sin', color=color)  # we already handled the x-label with ax1\n",
    "ax2.plot(t, df_passengers_by_year.select(\"Passengers\"), color=color)\n",
    "ax2.tick_params(axis='y', labelcolor=color)\n",
    "\n",
    "fig.tight_layout()  # otherwise the right y-label is slightly clipped\n",
    "plt.show()\n",
    "\n"
   ]
  },
  {
   "cell_type": "code",
   "execution_count": 57,
   "metadata": {},
   "outputs": [
    {
     "data": {
      "text/plain": [
       "[Row(Year='2016'),\n",
       " Row(Year='2012'),\n",
       " Row(Year='2017'),\n",
       " Row(Year='2014'),\n",
       " Row(Year='2013'),\n",
       " Row(Year='2005'),\n",
       " Row(Year='2009'),\n",
       " Row(Year='2018'),\n",
       " Row(Year='2006'),\n",
       " Row(Year='2004'),\n",
       " Row(Year='2011'),\n",
       " Row(Year='2008'),\n",
       " Row(Year='2007'),\n",
       " Row(Year='2015'),\n",
       " Row(Year='2010')]"
      ]
     },
     "execution_count": 57,
     "metadata": {},
     "output_type": "execute_result"
    }
   ],
   "source": [
    "df_passengers_by_year.select(\"Year\").collect()"
   ]
  },
  {
   "cell_type": "code",
   "execution_count": null,
   "metadata": {},
   "outputs": [],
   "source": []
  }
 ],
 "metadata": {
  "kernelspec": {
   "display_name": "Python 3",
   "language": "python",
   "name": "python3"
  },
  "language_info": {
   "codemirror_mode": {
    "name": "ipython",
    "version": 3
   },
   "file_extension": ".py",
   "mimetype": "text/x-python",
   "name": "python",
   "nbconvert_exporter": "python",
   "pygments_lexer": "ipython3",
   "version": "3.6.6"
  }
 },
 "nbformat": 4,
 "nbformat_minor": 2
}
