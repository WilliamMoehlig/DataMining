{
 "cells": [
  {
   "cell_type": "code",
   "execution_count": 1,
   "metadata": {},
   "outputs": [],
   "source": [
    "#import findspark, pyspark\n",
    "from pyspark.sql import SQLContext, SparkSession\n",
    "from pyspark.sql.types import *\n",
    "from datetime import datetime\n",
    "from functools import reduce\n",
    "from pyspark.sql.functions import col\n",
    "\n",
    "#sc = pyspark.SparkContext.getOrCreate()\n",
    "sqlContext = SQLContext(sc)\n",
    "\n",
    "file_attack = 'gtd_14to17_0718dist'\n",
    "file_airport = 'airports-extended'\n",
    "file_largest_airport = 'largest-global-airports-passenger-traffic'\n",
    "file_passengers = 'avia_par_be'"
   ]
  },
  {
   "cell_type": "markdown",
   "metadata": {},
   "source": [
    "# Fetch Data"
   ]
  },
  {
   "cell_type": "code",
   "execution_count": 2,
   "metadata": {},
   "outputs": [],
   "source": [
    "#data_path = 'D:/DataMining/taba/'\n",
    "data_path = '../data/Datasets/'\n",
    "\n",
    "attack_data = sc.textFile(data_path + 'gtd-data/' + file_attack + '.csv')\n",
    "airport_data = sc.textFile(data_path + file_airport + '.csv')\n",
    "passenger_data_brussels = sc.textFile(data_path + file_passengers + '.csv')"
   ]
  },
  {
   "cell_type": "markdown",
   "metadata": {},
   "source": [
    "# Prepare Attack Data"
   ]
  },
  {
   "cell_type": "code",
   "execution_count": 3,
   "metadata": {},
   "outputs": [],
   "source": [
    "# Define columns for dataframe\n",
    "new_columns = attack_data.first()\n",
    "new_columns = new_columns.split(\";\")\n",
    "attack_data = attack_data.filter(lambda l: l != new_columns)\n",
    "df_terror_data = attack_data.map(lambda x: x.split(';')).toDF()\n",
    "old_columns = df_terror_data.schema.names"
   ]
  },
  {
   "cell_type": "code",
   "execution_count": 4,
   "metadata": {},
   "outputs": [],
   "source": [
    "# apply new column names\n",
    "df_terror_data = reduce(lambda data, idx: data.withColumnRenamed(old_columns[idx], new_columns[idx]), range(len(old_columns)), df_terror_data)"
   ]
  },
  {
   "cell_type": "markdown",
   "metadata": {},
   "source": [
    "# Query Attack Data"
   ]
  },
  {
   "cell_type": "code",
   "execution_count": 5,
   "metadata": {},
   "outputs": [],
   "source": [
    "#query_result = df_terror_data.filter(col(\"country_txt\") == \"Belgium\").select('iyear', 'imonth', 'iday','country_txt', 'summary')\n",
    "query_result = df_terror_data.filter(col(\"country_txt\") == \"Belgium\").select('iyear', 'imonth', 'iday','country_txt', 'summary', 'city', 'nkill')\n"
   ]
  },
  {
   "cell_type": "markdown",
   "metadata": {},
   "source": [
    "## Data waar enkel data instaat die impact zou hebben op reizigers 2016"
   ]
  },
  {
   "cell_type": "code",
   "execution_count": 6,
   "metadata": {},
   "outputs": [
    {
     "name": "stdout",
     "output_type": "stream",
     "text": [
      "+-----+------+----+-----------+--------------------+---------+-----+\n",
      "|iyear|imonth|iday|country_txt|             summary|     city|nkill|\n",
      "+-----+------+----+-----------+--------------------+---------+-----+\n",
      "| 2016|     3|  22|    Belgium|03/22/2016: Two s...| Zaventem|   18|\n",
      "| 2016|     3|  22|    Belgium|03/22/2016: A sui...| Brussels|   17|\n",
      "| 2016|     8|   6|    Belgium|08/06/2016: An as...|Charleroi|    1|\n",
      "+-----+------+----+-----------+--------------------+---------+-----+\n",
      "\n"
     ]
    }
   ],
   "source": [
    "query_brussel= query_result.filter(col(\"iyear\") == \"2016\").select('iyear', 'imonth', 'iday','country_txt', 'summary', 'city', 'nkill')\n",
    "query_brussel = query_brussel.filter(col(\"nkill\") > 0)\n",
    "query_brussel.show()"
   ]
  },
  {
   "cell_type": "markdown",
   "metadata": {},
   "source": [
    "# Prepare airport data"
   ]
  },
  {
   "cell_type": "code",
   "execution_count": 7,
   "metadata": {},
   "outputs": [],
   "source": [
    "fields = []\n",
    "fields.append(StructField('airport_id', IntegerType(), True)) \n",
    "fields.append(StructField('airport_name', StringType(), True))\n",
    "fields.append(StructField('city', StringType(), True))\n",
    "fields.append(StructField('country', StringType(), True))\n",
    "fields.append(StructField('IATA', StringType(), True)) # kind of airport identifier\n",
    "fields.append(StructField('ICAO', StringType(), True)) # different kind of airport identifier\n",
    "fields.append(StructField('latitude', FloatType(), True))\n",
    "fields.append(StructField('longitude', FloatType(), True))\n",
    "fields.append(StructField('unknown1', IntegerType(), True))\n",
    "fields.append(StructField('unknown2', StringType(), True))\n",
    "fields.append(StructField('unknown3', StringType(), True))\n",
    "fields.append(StructField('continent_city', StringType(), True))\n",
    "fields.append(StructField('idk_column', StringType(), True))\n",
    "fields.append(StructField('source', StringType(), True))\n",
    "schema = StructType(fields)\n",
    "\n",
    "clean_data = (airport_data\n",
    "              .map(lambda line: line.split(';'))\n",
    "              .map(lambda line: [int(line[0]),line[1],line[2],line[3],line[4],line[5],float(line[6]),float(line[7]),int(line[8]),line[9],line[10],line[11],line[12],line[13]])\n",
    "             )\n",
    "df_airport_data = sqlContext.createDataFrame(clean_data, schema)"
   ]
  },
  {
   "cell_type": "markdown",
   "metadata": {},
   "source": [
    "# Query airport data"
   ]
  },
  {
   "cell_type": "code",
   "execution_count": 8,
   "metadata": {},
   "outputs": [
    {
     "name": "stdout",
     "output_type": "stream",
     "text": [
      "+--------------------------------------+-----------------+---------------+\n",
      "|airport_name                          |city             |continent_city |\n",
      "+--------------------------------------+-----------------+---------------+\n",
      "|Antwerp International Airport (Deurne)|Antwerp          |Europe/Brussels|\n",
      "|Beauvechain Air Base                  |Beauvechain      |Europe/Brussels|\n",
      "|Kleine Brogel Air Base                |Kleine Brogel    |Europe/Brussels|\n",
      "|Brussels Airport                      |Brussels         |Europe/Brussels|\n",
      "|Jehonville Air Base                   |Bertrix          |Europe/Brussels|\n",
      "|Brussels South Charleroi Airport      |Charleroi        |Europe/Brussels|\n",
      "|Chièvres Air Base                     |Chievres         |Europe/Brussels|\n",
      "|Koksijde Air Base                     |Koksijde         |Europe/Brussels|\n",
      "|Florennes Air Base                    |Florennes        |Europe/Brussels|\n",
      "|Wevelgem Airport                      |Kortrijk-vevelgem|Europe/Brussels|\n",
      "|Liège Airport                         |Liege            |Europe/Brussels|\n",
      "|Ostend-Bruges International Airport   |Ostend           |Europe/Brussels|\n",
      "|Zutendaal Air Base                    |Zutendaal        |Europe/Brussels|\n",
      "|Limburg Regional Airport              |Sint-truiden     |Europe/Brussels|\n",
      "|Saint Hubert Air Base                 |St.-hubert       |Europe/Brussels|\n",
      "|Ursel Air Base                        |Ursel            |Europe/Brussels|\n",
      "|Weelde Air Base                       |Weelde           |Europe/Brussels|\n",
      "|Oostmalle Air Base                    |Zoersel          |Europe/Brussels|\n",
      "|Brussels Gare du Midi                 |Brussels         |Europe/Brussels|\n",
      "|Engels heliport                       |Ebenhofen        |Europe/Brussels|\n",
      "|Westkapelle heliport                  |Knokke           |Europe/Brussels|\n",
      "|Gent Sint-Pieters                     |Gent             |Europe/Brussels|\n",
      "|Brugge                                |Bruges           |Europe/Brussels|\n",
      "|Brugge                                |Bruges           |Europe/Brussels|\n",
      "|Schaffen Diest                        |Schaffen         |Europe/Brussels|\n",
      "|HOEVENEN                              |HOEVENEN         |Europe/Brussels|\n",
      "|Centraal                              |Antwerp          |Europe/Brussels|\n",
      "|Liege-Guillemins Railway Station      |Liege            |Europe/Brussels|\n",
      "|Bruxelles-Central                     |Brussels         |Europe/Brussels|\n",
      "|Goetsenhoven Air Base                 |GOETSENHOVEN     |Europe/Brussels|\n",
      "|Spa (la Sauvenière) Airport           |Spa              |Europe/Brussels|\n",
      "|Suarlée Airport                       |Namur            |Europe/Brussels|\n",
      "|Kiewit Airfield Hasselt               |Hasselt          |Europe/Brussels|\n",
      "|Brussels Gare Centrale                |Brussels         |Europe/Brussels|\n",
      "|Eupen - Rail                          |Eupen            |Europe/Brussels|\n",
      "|Brussels Nord                         |Brussels         |Europe/Brussels|\n",
      "|Brugge Railway Station                |Bruges           |Europe/Brussels|\n",
      "|Gare de Coo                           |Coo              |Europe/Brussels|\n",
      "|Knokke Station                        |Knokke           |Europe/Brussels|\n",
      "|Kortrijk Station                      |Kortrijk         |Europe/Brussels|\n",
      "|Ieper Station                         |Ypres            |Europe/Brussels|\n",
      "|Gare de Dinant                        |Dinant           |Europe/Brussels|\n",
      "|Waterloo Station                      |Waterloo         |Europe/Brussels|\n",
      "+--------------------------------------+-----------------+---------------+\n",
      "\n"
     ]
    }
   ],
   "source": [
    "(df_airport_data\n",
    " .select(df_airport_data.airport_name, df_airport_data.city,df_airport_data.continent_city)\n",
    " .filter(df_airport_data.continent_city == 'Europe/Brussels')\n",
    " .show(df_airport_data.count(),False))"
   ]
  },
  {
   "cell_type": "markdown",
   "metadata": {},
   "source": [
    "# Prepare passenger data"
   ]
  },
  {
   "cell_type": "markdown",
   "metadata": {},
   "source": [
    "## Cleaning"
   ]
  },
  {
   "cell_type": "code",
   "execution_count": 9,
   "metadata": {},
   "outputs": [
    {
     "name": "stdout",
     "output_type": "stream",
     "text": [
      "[['1', 'London Heathrow Airport', 'Hillingdon, Greater London, United Kingdom', '66689466', '4%', 'LHR', 'EGLL'], ['2', 'Dubai International Airport', 'Garhoud, Dubai, United Arab Emirates', '65872250', '15%', 'DXB', 'OMDB']]\n"
     ]
    }
   ],
   "source": [
    "international_passengers_file =  'international-passengers-'\n",
    "international_passengers_2013 = sc.textFile(data_path + international_passengers_file + '2013' + '.csv')\n",
    "international_passengers_2014 = sc.textFile(data_path + international_passengers_file + '2014' + '.csv')\n",
    "\n",
    "total_passengers_file = 'total-passengers-'\n",
    "total_passengers_2013 = sc.textFile(data_path + total_passengers_file + '2013' + '.csv')\n",
    "total_passengers_2014 = sc.textFile(data_path + total_passengers_file + '2014' + '.csv')\n",
    "\n",
    "all_passenger_datasets_except2015 = [international_passengers_2013,international_passengers_2014,total_passengers_2013, total_passengers_2014]\n",
    "\n",
    "counter = sc.accumulator(0)\n",
    "def clean_passenger_data(rdd):\n",
    "    global counter\n",
    "    \n",
    "    header = rdd.first()\n",
    "    rdd = rdd.filter(lambda l: l != header)\n",
    "    rdd = rdd.map(lambda l: l.split(\";\"))\n",
    "\n",
    "    new_columns = rdd.map(lambda l: l[3].split(\"/\"))\n",
    "\n",
    "    rdd = rdd.map(lambda l: l[0:3] + l[4:])\n",
    "\n",
    "    rdd = rdd.zip(new_columns)\n",
    "\n",
    "    rdd = rdd.map(lambda l: l[0] + l[1])\n",
    "    \n",
    "    all_passenger_datasets_except2015[counter.value] = rdd\n",
    "    \n",
    "    counter +=  1\n",
    "    \n",
    "for dataset in all_passenger_datasets_except2015:\n",
    "    clean_passenger_data(dataset)\n",
    "    \n",
    "print(all_passenger_datasets_except2015[0].take(2))"
   ]
  },
  {
   "cell_type": "markdown",
   "metadata": {},
   "source": [
    "## creating dataframe"
   ]
  },
  {
   "cell_type": "markdown",
   "metadata": {},
   "source": [
    "### make the dataframes for the other datasets"
   ]
  },
  {
   "cell_type": "code",
   "execution_count": 10,
   "metadata": {},
   "outputs": [
    {
     "name": "stdout",
     "output_type": "stream",
     "text": [
      "+----+--------------------+--------------------+----------------+------+----+----+\n",
      "|rank|        airport_name|            location|total_passengers|change|IATA|ICAO|\n",
      "+----+--------------------+--------------------+----------------+------+----+----+\n",
      "|   1|London Heathrow A...|Hillingdon, Great...|        66689466|    4%| LHR|EGLL|\n",
      "|   2|Dubai Internation...|Garhoud, Dubai, U...|        65872250|   15%| DXB|OMDB|\n",
      "+----+--------------------+--------------------+----------------+------+----+----+\n",
      "only showing top 2 rows\n",
      "\n",
      "+++++++++++++++++++++++++++++++++\n",
      "\n",
      "+----+--------------------+--------------------+----------------+------+----+----+\n",
      "|rank|        airport_name|            location|total_passengers|change|IATA|ICAO|\n",
      "+----+--------------------+--------------------+----------------+------+----+----+\n",
      "|   1|Dubai Internation...|Garhoud, Dubai, U...|        69954392|  6.2%| DXB|OMDB|\n",
      "|   2|London Heathrow A...|Hillingdon, Great...|        68091095|  1.9%| LHR|EGLL|\n",
      "+----+--------------------+--------------------+----------------+------+----+----+\n",
      "only showing top 2 rows\n",
      "\n",
      "+++++++++++++++++++++++++++++++++\n",
      "\n",
      "+----+--------------------+--------------------+----------------+------+----+----+\n",
      "|rank|        airport_name|            location|total_passengers|change|IATA|ICAO|\n",
      "+----+--------------------+--------------------+----------------+------+----+----+\n",
      "|   1|Hartsfield–Jackso...|Atlanta, Georgia,...|        94430785|    1%| ATL|KATL|\n",
      "|   2|Beijing Capital I...|Chaoyang, Beijing...|        83712355|    2%| PEK|ZBAA|\n",
      "+----+--------------------+--------------------+----------------+------+----+----+\n",
      "only showing top 2 rows\n",
      "\n",
      "+++++++++++++++++++++++++++++++++\n",
      "\n",
      "+----+--------------------+--------------------+----------------+------+----+----+\n",
      "|rank|        airport_name|            location|total_passengers|change|IATA|ICAO|\n",
      "+----+--------------------+--------------------+----------------+------+----+----+\n",
      "|   1|Hartsfield–Jackso...|    Atlanta, Georgia|        96178899|  1.9%| ATL|KATL|\n",
      "|   2|Beijing Capital I...|Chaoyang-Shunyi, ...|        86130390|  2.9%| PEK|ZBAA|\n",
      "+----+--------------------+--------------------+----------------+------+----+----+\n",
      "only showing top 2 rows\n",
      "\n",
      "+++++++++++++++++++++++++++++++++\n",
      "\n"
     ]
    }
   ],
   "source": [
    "fields = []\n",
    "fields.append(StructField('rank', StringType(), True))\n",
    "fields.append(StructField('airport_name', StringType(), True))\n",
    "fields.append(StructField('location', StringType(), True))\n",
    "fields.append(StructField('total_passengers', StringType(), True))\n",
    "fields.append(StructField('change', StringType(), True))\n",
    "fields.append(StructField('IATA', StringType(), True))\n",
    "fields.append(StructField('ICAO', StringType(), True))\n",
    "schema_passengers_data = StructType(fields)\n",
    "\n",
    "\n",
    "df_international_passengers_2013 = sqlContext.createDataFrame(all_passenger_datasets_except2015[0], schema_passengers_data)\n",
    "df_international_passengers_2014 = sqlContext.createDataFrame(all_passenger_datasets_except2015[1], schema_passengers_data)\n",
    "df_total_passengers_2013 = sqlContext.createDataFrame(all_passenger_datasets_except2015[2], schema_passengers_data)\n",
    "df_total_passengers_2014 = sqlContext.createDataFrame(all_passenger_datasets_except2015[3], schema_passengers_data)\n",
    "\n",
    "datasets = [df_international_passengers_2013,df_international_passengers_2014,df_total_passengers_2013,df_total_passengers_2014]\n",
    "for df in datasets:\n",
    "    df.show(2)\n",
    "    print(\"+++++++++++++++++++++++++++++++++\")\n",
    "    print()"
   ]
  },
  {
   "cell_type": "markdown",
   "metadata": {},
   "source": [
    "### fix the data from 2015 missing ICAO column"
   ]
  },
  {
   "cell_type": "code",
   "execution_count": 11,
   "metadata": {},
   "outputs": [],
   "source": [
    "fields = []\n",
    "fields.append(StructField('rank', StringType(), True))\n",
    "fields.append(StructField('airport_name', StringType(), True))\n",
    "fields.append(StructField('location', StringType(), True))\n",
    "fields.append(StructField('country', StringType(), True))\n",
    "fields.append(StructField('total_passengers', StringType(), True))\n",
    "fields.append(StructField('change', StringType(), True))\n",
    "fields.append(StructField('IATA', StringType(), True))\n",
    "schema_total_passengers_2015 = StructType(fields)\n",
    "\n",
    "fields = []\n",
    "fields.append(StructField('rank', StringType(), True))\n",
    "fields.append(StructField('airport_name', StringType(), True))\n",
    "fields.append(StructField('location', StringType(), True))\n",
    "fields.append(StructField('total_passengers', StringType(), True))\n",
    "fields.append(StructField('change', StringType(), True))\n",
    "fields.append(StructField('IATA', StringType(), True))\n",
    "schema_international_passengers_2015 = StructType(fields)"
   ]
  },
  {
   "cell_type": "code",
   "execution_count": 12,
   "metadata": {},
   "outputs": [
    {
     "name": "stdout",
     "output_type": "stream",
     "text": [
      "total passenger data 2015\n",
      "+----+----+--------------------+---------+-------+----------------+------+----+\n",
      "|IATA|rank|        airport_name| location|country|total_passengers|change|ICAO|\n",
      "+----+----+--------------------+---------+-------+----------------+------+----+\n",
      "| FRA|  12|Flughafen Frankfu...|Frankfurt|Germany|        61032022|   2.5|EDDF|\n",
      "| IST|  11|Atatürk Internati...| Istanbul| Turkey|        61346229|   8.2|LTBA|\n",
      "+----+----+--------------------+---------+-------+----------------+------+----+\n",
      "only showing top 2 rows\n",
      "\n",
      "\n",
      "++++++++++++++++++++++++++++++\n",
      "\n",
      "international passenger data 2015\n",
      "+----+----+--------------------+-----------------+----------------+------+----+\n",
      "|IATA|rank|        airport_name|         location|total_passengers|change|ICAO|\n",
      "+----+----+--------------------+-----------------+----------------+------+----+\n",
      "| PMI|  36|Aeropuerto de Pal...|Palma De Mallorca|        18107070|   0.6|LEPA|\n",
      "| HEL|  48|Helsinki-Vantaa A...|         Helsinki|        13826868|   2.9|EFHK|\n",
      "+----+----+--------------------+-----------------+----------------+------+----+\n",
      "only showing top 2 rows\n",
      "\n"
     ]
    }
   ],
   "source": [
    "total_passengers_2015 = sc.textFile(data_path + total_passengers_file + '2015' + '.csv')\n",
    "international_passengers_2015 = sc.textFile(data_path + international_passengers_file + '2015' + '.csv')\n",
    "\n",
    "\n",
    "# remove header\n",
    "header = total_passengers_2015.first()\n",
    "total_passengers_2015 = total_passengers_2015.filter(lambda l: l != header)\n",
    "# create dataframe\n",
    "df_total_passengers_2015 = sqlContext.createDataFrame(total_passengers_2015.map(lambda l: l.split(\";\")),schema_total_passengers_2015)\n",
    "# add missing column by join using previous data (df_airport_data)\n",
    "df_total_passengers_2015 = df_total_passengers_2015.join(df_airport_data.select(df_airport_data.IATA, df_airport_data.ICAO),\"IATA\")\n",
    "\n",
    "# repeat for second dataset from 2015\n",
    "international_passengers_2015 = sc.textFile(data_path + international_passengers_file + '2015' + '.csv')\n",
    "header = international_passengers_2015.first()\n",
    "international_passengers_2015 = international_passengers_2015.filter(lambda l: l != header)\n",
    "temp = international_passengers_2015.map(lambda l: l.split(\";\"))\n",
    "df_international_passengers_2015 = sqlContext.createDataFrame(international_passengers_2015.map(lambda l: l.split(\";\")),schema_international_passengers_2015)\n",
    "df_international_passengers_2015 = df_international_passengers_2015.join(df_airport_data.select(df_airport_data.IATA, df_airport_data.ICAO),\"IATA\")\n",
    "\n",
    "# print results\n",
    "print(\"total passenger data 2015\")\n",
    "df_total_passengers_2015.show(2)\n",
    "print()\n",
    "print(\"++++++++++++++++++++++++++++++\")\n",
    "print()\n",
    "print(\"international passenger data 2015\")\n",
    "df_international_passengers_2015.show(2)"
   ]
  },
  {
   "cell_type": "markdown",
   "metadata": {},
   "source": [
    "# Prepare passenger data Brussels Airport"
   ]
  },
  {
   "cell_type": "code",
   "execution_count": 13,
   "metadata": {},
   "outputs": [
    {
     "name": "stdout",
     "output_type": "stream",
     "text": [
      "+----------------+-------+-------+-------+-------+-------+-------+-------+-------+-------+-------+-------+-------+-------+-------+-------+-------+-------+-------+-------+-------+-------+-------+-------+-------+-------+-------+-------+-------+-------+-------+\n",
      "|destination ICAO|2004M03|2004M04|2005M03|2005M04|2006M03|2006M04|2007M03|2007M04|2008M03|2008M04|2009M03|2009M04|2010M03|2010M04|2011M03|2011M04|2012M03|2012M04|2013M03|2013M04|2014M03|2014M04|2015M03|2015M04|2016M03|2016M04|2017M03|2017M04|2018M03|2018M04|\n",
      "+----------------+-------+-------+-------+-------+-------+-------+-------+-------+-------+-------+-------+-------+-------+-------+-------+-------+-------+-------+-------+-------+-------+-------+-------+-------+-------+-------+-------+-------+-------+-------+\n",
      "|            LOWW|  29916|  31346|  27747|  29958|  32884|  31902|  35712|  40232|  43480|  42864|  37655|  37727|  32659|  26410|  35922|  34845|  35000|  34440|  33190|  35530|  35638|  41863|  34789|  39449|  24226|  23667|  35897|  40901|  42131|  47875|\n",
      "|            LSGG|  30095|  24975|  31498|  26380|  33297|  25938|  34815|  26141|  45937|  41149|  42818|  38047|  47694|  30482|  53313|  42769|  51512|  47054|  55627|  47128|  56207|  51004|  56695|  50443|  43760|  32612|  61271|  49433|  62195|  54601|\n",
      "+----------------+-------+-------+-------+-------+-------+-------+-------+-------+-------+-------+-------+-------+-------+-------+-------+-------+-------+-------+-------+-------+-------+-------+-------+-------+-------+-------+-------+-------+-------+-------+\n",
      "only showing top 2 rows\n",
      "\n"
     ]
    }
   ],
   "source": [
    "passenger_data_brussels = passenger_data_brussels.map(lambda l: l.split(\";\"))\n",
    "\n",
    "header = passenger_data_brussels.first()\n",
    "passenger_data_brussels = passenger_data_brussels.filter(lambda l: l != header)\n",
    "df_passenger_data_brussels = passenger_data_brussels.toDF(header)\n",
    "\n",
    "df_passenger_data_brussels.show(2)"
   ]
  },
  {
   "cell_type": "markdown",
   "metadata": {},
   "source": [
    "## Joining airport data on destinations"
   ]
  },
  {
   "cell_type": "code",
   "execution_count": 14,
   "metadata": {},
   "outputs": [],
   "source": [
    "df_passenger_data_brussels = df_passenger_data_brussels.withColumnRenamed(\"destination ICAO\",\"ICAO\")\n",
    "df_passenger_data_brussels_with_airport = df_passenger_data_brussels.join(df_airport_data.select(df_airport_data.airport_name, df_airport_data.longitude, df_airport_data.latitude, df_airport_data.ICAO),on=['ICAO'],how='inner')"
   ]
  },
  {
   "cell_type": "code",
   "execution_count": 15,
   "metadata": {},
   "outputs": [],
   "source": [
    "df_passenger_data_brussels_with_airport.select(df_passenger_data_brussels.columns[1:])\n",
    "\n",
    "from functools import reduce\n",
    "\n",
    "def superSum(*cols):\n",
    "    return reduce(lambda a, b: a + b, cols)\n",
    "\n",
    "df_total = df_passenger_data_brussels_with_airport.select(df_passenger_data_brussels.columns[1:])\n",
    "df_passenger_data_brussels_with_airport = df_passenger_data_brussels_with_airport.withColumn('total_passengers', superSum(*[df_total[x] for x in df_total.columns]))"
   ]
  },
  {
   "cell_type": "markdown",
   "metadata": {},
   "source": [
    "## Most popular destinations march/april 2004-2018 from Brussels airport"
   ]
  },
  {
   "cell_type": "code",
   "execution_count": 16,
   "metadata": {},
   "outputs": [
    {
     "data": {
      "text/html": [
       "<div style=\"width:100%;\"><div style=\"position:relative;width:100%;height:0;padding-bottom:60%;\"><iframe src=\"data:text/html;charset=utf-8;base64,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\" style=\"position:absolute;width:100%;height:100%;left:0;top:0;border:none !important;\" allowfullscreen webkitallowfullscreen mozallowfullscreen></iframe></div></div>"
      ],
      "text/plain": [
       "<folium.folium.Map at 0x7fc8ce4d6470>"
      ]
     },
     "execution_count": 16,
     "metadata": {},
     "output_type": "execute_result"
    }
   ],
   "source": [
    "import folium\n",
    "#basis map maken\n",
    "df_brussels_airport = df_airport_data.filter(col(\"airport_name\") == \"Brussels Airport\")\n",
    "ba_lat = df_brussels_airport.select(\"latitude\").collect()[0][0]\n",
    "ba_lon = df_brussels_airport.select(\"longitude\").collect()[0][0]\n",
    "ba_loc = [ba_lat, ba_lon]\n",
    "ba_name = df_brussels_airport.select(\"airport_name\").collect()[0][0]\n",
    "first_map = folium.Map(location=[ba_lat, ba_lon], zoom_start=4)\n",
    "sum_zaventem = 0\n",
    "avg_destination = df_passenger_data_brussels_with_airport.agg({\"total_passengers\": \"avg\"}).collect()[0][0]\n",
    "\n",
    "#markers toevoegen\n",
    "for dest in df_passenger_data_brussels_with_airport.rdd.collect():\n",
    "    try:\n",
    "        if(int(dest['total_passengers']) > int(avg_destination)):\n",
    "            c='orange'\n",
    "        else:\n",
    "            c='green'\n",
    "        p = dest['airport_name'] + \" passengers: \" + f\"{int(dest['total_passengers']) - 1:,}\".replace(',','.')\n",
    "        loc = [ dest['latitude'], dest['longitude'] ]\n",
    "        #parse_html is belangrijk door vreemde tekens in namen\n",
    "        folium.Marker( location=[ dest['latitude'], dest['longitude'] ], popup=folium.Popup(p,parse_html=True), icon=folium.Icon(color=c,icon='plane') ).add_to( first_map )\n",
    "        folium.PolyLine(locations=[ba_loc,loc], color=c).add_to(first_map)\n",
    "        sum_zaventem += dest['total_passengers']\n",
    "        \n",
    "    except:\n",
    "        pass\n",
    "\n",
    "ba_name = ba_name + \" passengers: \"  + f\"{int(sum_zaventem) - 1:,}\".replace(',','.')\n",
    "folium.Marker( location=[ ba_lat, ba_lon ], popup=ba_name, icon=folium.Icon(color='red',icon='plane') ).add_to( first_map )\n",
    "\n",
    "#weergeven map\n",
    "first_map"
   ]
  },
  {
   "cell_type": "markdown",
   "metadata": {},
   "source": [
    "## Data cleanen om grafiek te tonen"
   ]
  },
  {
   "cell_type": "code",
   "execution_count": 17,
   "metadata": {},
   "outputs": [],
   "source": [
    "from pyspark.sql.functions import collect_list\n",
    "from pyspark.sql.types import IntegerType\n",
    "from pyspark.sql import functions as F\n",
    "query_result = query_result.withColumn(\"nkill\", query_result[\"nkill\"].cast(IntegerType()))\n",
    "grouped_query = query_result.groupby('iyear').agg(F.sum('nkill').alias(\"nkill\"))"
   ]
  },
  {
   "cell_type": "markdown",
   "metadata": {},
   "source": [
    "## People killed in Belgium by terrorist attacks 2014-2018"
   ]
  },
  {
   "cell_type": "code",
   "execution_count": 18,
   "metadata": {},
   "outputs": [
    {
     "data": {
      "image/png": "[encoded data removed]",
      "text/plain": [
       "<Figure size 504x504 with 1 Axes>"
      ]
     },
     "metadata": {
      "needs_background": "light"
     },
     "output_type": "display_data"
    }
   ],
   "source": [
    "%matplotlib inline\n",
    "import matplotlib.pyplot as plt\n",
    "import matplotlib.dates as plt_dates\n",
    "from datetime import datetime\n",
    "\n",
    "y_axis = []\n",
    "x_axis = []\n",
    "\n",
    "for row in grouped_query.rdd.collect():\n",
    "     #Toekennen aan x as\n",
    "    x_axis.append(int(row.iyear))\n",
    "    #Toekennen aan y as\n",
    "    y_axis.append(int(row.nkill))\n",
    "    \n",
    "#Maken grafiek\n",
    "fig1 = plt.figure(figsize=(7, 7))\n",
    "fig1.suptitle('People killed in Belgium by terrorist attacks 2014-2018', fontsize=14)\n",
    "ax = fig1.add_subplot(111)\n",
    "ax.set_xlabel('year')\n",
    "ax.set_ylabel('deaths')\n",
    "ax.bar(x_axis, y_axis, fc='red', align='center')\n",
    "ax.xaxis.set_major_locator(plt.MaxNLocator(5))\n",
    "ax.yaxis.set_major_locator(plt.MaxNLocator(5))\n",
    "plt.show()"
   ]
  },
  {
   "cell_type": "markdown",
   "metadata": {},
   "source": [
    "# Passengers travelling from Belgium 2004 - 2018"
   ]
  },
  {
   "cell_type": "code",
   "execution_count": 19,
   "metadata": {},
   "outputs": [],
   "source": [
    "#Drop redundant data\n",
    "df_passenger_data_brussels = df_passenger_data_brussels.drop('destination ICAO')\n",
    "\n",
    "#Parse all data to int\n",
    "for col_name in df_passenger_data_brussels.columns:\n",
    "    df_passenger_data_brussels = df_passenger_data_brussels.withColumn(col_name, df_passenger_data_brussels[col_name].cast(IntegerType()))"
   ]
  },
  {
   "cell_type": "code",
   "execution_count": 20,
   "metadata": {},
   "outputs": [],
   "source": [
    "from pyspark.sql import functions as F\n",
    "field = [StructField('Years',IntegerType(), True),StructField('Passengers', IntegerType(), True)]\n",
    "\n",
    "schema = StructType(field)\n",
    "columns = ['Year', 'Passengers']\n",
    "#Summing up all data by year in formatted list\n",
    "l = []\n",
    "for X in range(4, 19):\n",
    "    year = str(2000 + X)\n",
    "    df_dummy1 = df_passenger_data_brussels.groupBy().agg(F.sum(year + \"M03\").alias(year + \"M03\"))\n",
    "    df_dummy1 = df_dummy1.unionAll(df_passenger_data_brussels.groupBy().agg(F.sum(year + \"M04\").alias(year + \"M04\")))\n",
    "    l = l + [([year, df_dummy1.groupBy().agg(F.sum(year + \"M03\").alias(year)).collect()[0][0]])]\n",
    "\n",
    "df_passengers_by_year = sqlContext.createDataFrame(l, columns)"
   ]
  },
  {
   "cell_type": "code",
   "execution_count": 21,
   "metadata": {},
   "outputs": [
    {
     "data": {
      "image/png": "[encoded data removed]",
      "text/plain": [
       "<Figure size 576x576 with 1 Axes>"
      ]
     },
     "metadata": {
      "needs_background": "light"
     },
     "output_type": "display_data"
    }
   ],
   "source": [
    "%matplotlib inline\n",
    "import matplotlib.pyplot as plt\n",
    "import matplotlib.dates as plt_dates\n",
    "from datetime import datetime\n",
    "\n",
    "y_axis = []\n",
    "x_axis = []\n",
    "\n",
    "for row in df_passengers_by_year.collect():\n",
    "     #Toekennen aan x as\n",
    "    x_axis.append(int(row.Year))\n",
    "    #Toekennen aan y as\n",
    "    y_axis.append(int(row.Passengers))\n",
    "    \n",
    "\n",
    "figl = plt.figure(figsize=(8,8))\n",
    "fig1.suptitle('Passengers departing from airport Brussels 2004-2018', fontsize=14)\n",
    "ax = figl.add_subplot(211)\n",
    "ax.set_xlabel('Year')\n",
    "ax.set_ylabel('Passengers')\n",
    "\n",
    "plt.plot(df_passengers_by_year.select(\"Year\").rdd.flatMap(lambda x: x).collect(), df_passengers_by_year.select(\"Passengers\").rdd.flatMap(lambda x: x).collect())\n",
    "plt.show()\n",
    "df_passengers_by_year = df_passengers_by_year.join(grouped_query.withColumnRenamed(\"iyear\", \"Year\"),on=['Year'],how='outer')\n"
   ]
  }
 ],
 "metadata": {
  "kernelspec": {
   "display_name": "Python 3",
   "language": "python",
   "name": "python3"
  },
  "language_info": {
   "codemirror_mode": {
    "name": "ipython",
    "version": 3
   },
   "file_extension": ".py",
   "mimetype": "text/x-python",
   "name": "python",
   "nbconvert_exporter": "python",
   "pygments_lexer": "ipython3",
   "version": "3.6.6"
  }
 },
 "nbformat": 4,
 "nbformat_minor": 2
}
