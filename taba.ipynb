{
 "cells": [
  {
   "cell_type": "code",
   "execution_count": 1,
   "metadata": {},
   "outputs": [],
   "source": [
    "import findspark, pyspark\n",
    "from pyspark.sql import SQLContext, SparkSession\n",
    "from pyspark.sql.types import *\n",
    "from datetime import datetime\n",
    "from functools import reduce\n",
    "from pyspark.sql.functions import col\n",
    "\n",
    "sc = pyspark.SparkContext.getOrCreate()\n",
    "sqlContext = SQLContext(sc)\n",
    "\n",
    "file_attack = 'gtd_14to17_0718dist'\n",
    "file_airport = 'airports-extended'\n",
    "file_largest_airport = 'largest-global-airports-passenger-traffic'\n",
    "file_passengers = 'avia_par_be'"
   ]
  },
  {
   "cell_type": "markdown",
   "metadata": {},
   "source": [
    "# Fetch Data"
   ]
  },
  {
   "cell_type": "code",
   "execution_count": 2,
   "metadata": {
    "collapsed": true
   },
   "outputs": [],
   "source": [
    "data_path = 'D:/DataMining/taba/'\n",
    "#data_path = '../data/Datasets/'\n",
    "\n",
    "attack_data = sc.textFile(data_path + 'gtd-data/' + file_attack + '.csv')\n",
    "airport_data = sc.textFile(data_path + file_airport + '.csv')\n",
    "passenger_data_brussels = sc.textFile(data_path + file_passengers + '.csv')"
   ]
  },
  {
   "cell_type": "markdown",
   "metadata": {},
   "source": [
    "# Prepare Attack Data"
   ]
  },
  {
   "cell_type": "code",
   "execution_count": 3,
   "metadata": {},
   "outputs": [],
   "source": [
    "# Define columns for dataframe\n",
    "new_columns = attack_data.first()\n",
    "new_columns = new_columns.split(\";\")\n",
    "attack_data = attack_data.filter(lambda l: l != new_columns)\n",
    "df_terror_data = attack_data.map(lambda x: x.split(';')).toDF()\n",
    "old_columns = df_terror_data.schema.names"
   ]
  },
  {
   "cell_type": "code",
   "execution_count": 4,
   "metadata": {
    "collapsed": true
   },
   "outputs": [],
   "source": [
    "# apply new column names\n",
    "df_terror_data = reduce(lambda data, idx: data.withColumnRenamed(old_columns[idx], new_columns[idx]), range(len(old_columns)), df_terror_data)"
   ]
  },
  {
   "cell_type": "markdown",
   "metadata": {},
   "source": [
    "# Query Attack Data"
   ]
  },
  {
   "cell_type": "code",
   "execution_count": 5,
   "metadata": {
    "collapsed": true
   },
   "outputs": [],
   "source": [
    "#query_result = df_terror_data.filter(col(\"country_txt\") == \"Belgium\").select('iyear', 'imonth', 'iday','country_txt', 'summary')\n",
    "query_result = df_terror_data.filter(col(\"country_txt\") == \"Belgium\").select('iyear', 'imonth', 'iday','country_txt', 'summary', 'city', 'nkill')\n"
   ]
  },
  {
   "cell_type": "markdown",
   "metadata": {},
   "source": [
    "## Data waar enkel data instaat die impact zou hebben op reizigers 2016"
   ]
  },
  {
   "cell_type": "code",
   "execution_count": 6,
   "metadata": {},
   "outputs": [
    {
     "name": "stdout",
     "output_type": "stream",
     "text": [
      "+-----+------+----+-----------+--------------------+---------+-----+\n",
      "|iyear|imonth|iday|country_txt|             summary|     city|nkill|\n",
      "+-----+------+----+-----------+--------------------+---------+-----+\n",
      "| 2016|     3|  22|    Belgium|03/22/2016: Two s...| Zaventem|   18|\n",
      "| 2016|     3|  22|    Belgium|03/22/2016: A sui...| Brussels|   17|\n",
      "| 2016|     8|   6|    Belgium|08/06/2016: An as...|Charleroi|    1|\n",
      "+-----+------+----+-----------+--------------------+---------+-----+\n",
      "\n"
     ]
    }
   ],
   "source": [
    "query_brussel= query_result.filter(col(\"iyear\") == \"2016\").select('iyear', 'imonth', 'iday','country_txt', 'summary', 'city', 'nkill')\n",
    "query_brussel = query_brussel.filter(col(\"nkill\") > 0)\n",
    "query_brussel.show()"
   ]
  },
  {
   "cell_type": "markdown",
   "metadata": {},
   "source": [
    "# Prepare airport data"
   ]
  },
  {
   "cell_type": "code",
   "execution_count": 7,
   "metadata": {
    "collapsed": true
   },
   "outputs": [],
   "source": [
    "fields = []\n",
    "fields.append(StructField('airport_id', IntegerType(), True)) \n",
    "fields.append(StructField('airport_name', StringType(), True))\n",
    "fields.append(StructField('city', StringType(), True))\n",
    "fields.append(StructField('country', StringType(), True))\n",
    "fields.append(StructField('IATA', StringType(), True)) # kind of airport identifier\n",
    "fields.append(StructField('ICAO', StringType(), True)) # different kind of airport identifier\n",
    "fields.append(StructField('latitude', FloatType(), True))\n",
    "fields.append(StructField('longitude', FloatType(), True))\n",
    "fields.append(StructField('unknown1', IntegerType(), True))\n",
    "fields.append(StructField('unknown2', StringType(), True))\n",
    "fields.append(StructField('unknown3', StringType(), True))\n",
    "fields.append(StructField('continent_city', StringType(), True))\n",
    "fields.append(StructField('idk_column', StringType(), True))\n",
    "fields.append(StructField('source', StringType(), True))\n",
    "schema = StructType(fields)\n",
    "\n",
    "clean_data = (airport_data\n",
    "              .map(lambda line: line.split(';'))\n",
    "              .map(lambda line: [int(line[0]),line[1],line[2],line[3],line[4],line[5],float(line[6]),float(line[7]),int(line[8]),line[9],line[10],line[11],line[12],line[13]])\n",
    "             )\n",
    "df_airport_data = sqlContext.createDataFrame(clean_data, schema)"
   ]
  },
  {
   "cell_type": "markdown",
   "metadata": {},
   "source": [
    "## Delete stations & airports without ICAO number"
   ]
  },
  {
   "cell_type": "code",
   "execution_count": 8,
   "metadata": {
    "collapsed": true
   },
   "outputs": [],
   "source": [
    "df_airport_data = df_airport_data.filter((col(\"idk_column\") == \"airport\"))\n",
    "df_airport_data = df_airport_data.filter((col(\"ICAO\") != \"\\\\N\"))"
   ]
  },
  {
   "cell_type": "markdown",
   "metadata": {},
   "source": [
    "# Query airport data"
   ]
  },
  {
   "cell_type": "code",
   "execution_count": 9,
   "metadata": {},
   "outputs": [
    {
     "name": "stdout",
     "output_type": "stream",
     "text": [
      "+--------------------------------------+-----------------+---------------+\n",
      "|airport_name                          |city             |continent_city |\n",
      "+--------------------------------------+-----------------+---------------+\n",
      "|Antwerp International Airport (Deurne)|Antwerp          |Europe/Brussels|\n",
      "|Beauvechain Air Base                  |Beauvechain      |Europe/Brussels|\n",
      "|Kleine Brogel Air Base                |Kleine Brogel    |Europe/Brussels|\n",
      "|Brussels Airport                      |Brussels         |Europe/Brussels|\n",
      "|Jehonville Air Base                   |Bertrix          |Europe/Brussels|\n",
      "|Brussels South Charleroi Airport      |Charleroi        |Europe/Brussels|\n",
      "|Chièvres Air Base                     |Chievres         |Europe/Brussels|\n",
      "|Koksijde Air Base                     |Koksijde         |Europe/Brussels|\n",
      "|Florennes Air Base                    |Florennes        |Europe/Brussels|\n",
      "|Wevelgem Airport                      |Kortrijk-vevelgem|Europe/Brussels|\n",
      "|Liège Airport                         |Liege            |Europe/Brussels|\n",
      "|Ostend-Bruges International Airport   |Ostend           |Europe/Brussels|\n",
      "|Zutendaal Air Base                    |Zutendaal        |Europe/Brussels|\n",
      "|Limburg Regional Airport              |Sint-truiden     |Europe/Brussels|\n",
      "|Saint Hubert Air Base                 |St.-hubert       |Europe/Brussels|\n",
      "|Ursel Air Base                        |Ursel            |Europe/Brussels|\n",
      "|Weelde Air Base                       |Weelde           |Europe/Brussels|\n",
      "|Oostmalle Air Base                    |Zoersel          |Europe/Brussels|\n",
      "|Engels heliport                       |Ebenhofen        |Europe/Brussels|\n",
      "|Westkapelle heliport                  |Knokke           |Europe/Brussels|\n",
      "|Goetsenhoven Air Base                 |GOETSENHOVEN     |Europe/Brussels|\n",
      "|Spa (la Sauvenière) Airport           |Spa              |Europe/Brussels|\n",
      "|Suarlée Airport                       |Namur            |Europe/Brussels|\n",
      "|Kiewit Airfield Hasselt               |Hasselt          |Europe/Brussels|\n",
      "+--------------------------------------+-----------------+---------------+\n",
      "\n"
     ]
    }
   ],
   "source": [
    "(df_airport_data\n",
    " .select(df_airport_data.airport_name, df_airport_data.city,df_airport_data.continent_city)\n",
    " .filter(df_airport_data.continent_city == 'Europe/Brussels')\n",
    " .show(df_airport_data.count(),False))"
   ]
  },
  {
   "cell_type": "markdown",
   "metadata": {},
   "source": [
    "# Prepare passenger data"
   ]
  },
  {
   "cell_type": "markdown",
   "metadata": {},
   "source": [
    "## Cleaning"
   ]
  },
  {
   "cell_type": "code",
   "execution_count": 10,
   "metadata": {},
   "outputs": [
    {
     "name": "stdout",
     "output_type": "stream",
     "text": [
      "[['1', 'London Heathrow Airport', 'Hillingdon, Greater London, United Kingdom', '66689466', '4%', 'LHR', 'EGLL'], ['2', 'Dubai International Airport', 'Garhoud, Dubai, United Arab Emirates', '65872250', '15%', 'DXB', 'OMDB']]\n"
     ]
    }
   ],
   "source": [
    "international_passengers_file =  'international-passengers-'\n",
    "international_passengers_2013 = sc.textFile(data_path + international_passengers_file + '2013' + '.csv')\n",
    "international_passengers_2014 = sc.textFile(data_path + international_passengers_file + '2014' + '.csv')\n",
    "\n",
    "total_passengers_file = 'total-passengers-'\n",
    "total_passengers_2013 = sc.textFile(data_path + total_passengers_file + '2013' + '.csv')\n",
    "total_passengers_2014 = sc.textFile(data_path + total_passengers_file + '2014' + '.csv')\n",
    "\n",
    "all_passenger_datasets_except2015 = [international_passengers_2013,international_passengers_2014,total_passengers_2013, total_passengers_2014]\n",
    "\n",
    "counter = sc.accumulator(0)\n",
    "def clean_passenger_data(rdd):\n",
    "    global counter\n",
    "    \n",
    "    header = rdd.first()\n",
    "    rdd = rdd.filter(lambda l: l != header)\n",
    "    rdd = rdd.map(lambda l: l.split(\";\"))\n",
    "\n",
    "    new_columns = rdd.map(lambda l: l[3].split(\"/\"))\n",
    "\n",
    "    rdd = rdd.map(lambda l: l[0:3] + l[4:])\n",
    "\n",
    "    rdd = rdd.zip(new_columns)\n",
    "\n",
    "    rdd = rdd.map(lambda l: l[0] + l[1])\n",
    "    \n",
    "    all_passenger_datasets_except2015[counter.value] = rdd\n",
    "    \n",
    "    counter +=  1\n",
    "    \n",
    "for dataset in all_passenger_datasets_except2015:\n",
    "    clean_passenger_data(dataset)\n",
    "    \n",
    "print(all_passenger_datasets_except2015[0].take(2))"
   ]
  },
  {
   "cell_type": "markdown",
   "metadata": {},
   "source": [
    "## creating dataframe"
   ]
  },
  {
   "cell_type": "markdown",
   "metadata": {},
   "source": [
    "### make the dataframes for the other datasets"
   ]
  },
  {
   "cell_type": "code",
   "execution_count": 11,
   "metadata": {},
   "outputs": [
    {
     "name": "stdout",
     "output_type": "stream",
     "text": [
      "+----+--------------------+--------------------+----------------+------+----+----+\n",
      "|rank|        airport_name|            location|total_passengers|change|IATA|ICAO|\n",
      "+----+--------------------+--------------------+----------------+------+----+----+\n",
      "|   1|London Heathrow A...|Hillingdon, Great...|        66689466|    4%| LHR|EGLL|\n",
      "|   2|Dubai Internation...|Garhoud, Dubai, U...|        65872250|   15%| DXB|OMDB|\n",
      "+----+--------------------+--------------------+----------------+------+----+----+\n",
      "only showing top 2 rows\n",
      "\n",
      "+++++++++++++++++++++++++++++++++\n",
      "\n",
      "+----+--------------------+--------------------+----------------+------+----+----+\n",
      "|rank|        airport_name|            location|total_passengers|change|IATA|ICAO|\n",
      "+----+--------------------+--------------------+----------------+------+----+----+\n",
      "|   1|Dubai Internation...|Garhoud, Dubai, U...|        69954392|  6.2%| DXB|OMDB|\n",
      "|   2|London Heathrow A...|Hillingdon, Great...|        68091095|  1.9%| LHR|EGLL|\n",
      "+----+--------------------+--------------------+----------------+------+----+----+\n",
      "only showing top 2 rows\n",
      "\n",
      "+++++++++++++++++++++++++++++++++\n",
      "\n",
      "+----+--------------------+--------------------+----------------+------+----+----+\n",
      "|rank|        airport_name|            location|total_passengers|change|IATA|ICAO|\n",
      "+----+--------------------+--------------------+----------------+------+----+----+\n",
      "|   1|Hartsfield–Jackso...|Atlanta, Georgia,...|        94430785|    1%| ATL|KATL|\n",
      "|   2|Beijing Capital I...|Chaoyang, Beijing...|        83712355|    2%| PEK|ZBAA|\n",
      "+----+--------------------+--------------------+----------------+------+----+----+\n",
      "only showing top 2 rows\n",
      "\n",
      "+++++++++++++++++++++++++++++++++\n",
      "\n",
      "+----+--------------------+--------------------+----------------+--------+----+-------------+\n",
      "|rank|        airport_name|            location|total_passengers|  change|IATA|         ICAO|\n",
      "+----+--------------------+--------------------+----------------+--------+----+-------------+\n",
      "|   1|Hartsfield–Jackso...|    Atlanta, Georgia|        ATL/KATL|96178899|1.9%|United States|\n",
      "|   2|Beijing Capital I...|Chaoyang-Shunyi, ...|        PEK/ZBAA|86130390|2.9%|        China|\n",
      "+----+--------------------+--------------------+----------------+--------+----+-------------+\n",
      "only showing top 2 rows\n",
      "\n",
      "+++++++++++++++++++++++++++++++++\n",
      "\n"
     ]
    }
   ],
   "source": [
    "fields = []\n",
    "fields.append(StructField('rank', StringType(), True))\n",
    "fields.append(StructField('airport_name', StringType(), True))\n",
    "fields.append(StructField('location', StringType(), True))\n",
    "fields.append(StructField('total_passengers', StringType(), True))\n",
    "fields.append(StructField('change', StringType(), True))\n",
    "fields.append(StructField('IATA', StringType(), True))\n",
    "fields.append(StructField('ICAO', StringType(), True))\n",
    "schema_passengers_data = StructType(fields)\n",
    "\n",
    "\n",
    "df_international_passengers_2013 = sqlContext.createDataFrame(all_passenger_datasets_except2015[0], schema_passengers_data)\n",
    "df_international_passengers_2014 = sqlContext.createDataFrame(all_passenger_datasets_except2015[1], schema_passengers_data)\n",
    "df_total_passengers_2013 = sqlContext.createDataFrame(all_passenger_datasets_except2015[2], schema_passengers_data)\n",
    "df_total_passengers_2014 = sqlContext.createDataFrame(all_passenger_datasets_except2015[3], schema_passengers_data)\n",
    "\n",
    "datasets = [df_international_passengers_2013,df_international_passengers_2014,df_total_passengers_2013,df_total_passengers_2014]\n",
    "for df in datasets:\n",
    "    df.show(2)\n",
    "    print(\"+++++++++++++++++++++++++++++++++\")\n",
    "    print()"
   ]
  },
  {
   "cell_type": "markdown",
   "metadata": {},
   "source": [
    "### fix the data from 2015 missing ICAO column"
   ]
  },
  {
   "cell_type": "code",
   "execution_count": 12,
   "metadata": {
    "collapsed": true
   },
   "outputs": [],
   "source": [
    "fields = []\n",
    "fields.append(StructField('rank', StringType(), True))\n",
    "fields.append(StructField('airport_name', StringType(), True))\n",
    "fields.append(StructField('location', StringType(), True))\n",
    "fields.append(StructField('country', StringType(), True))\n",
    "fields.append(StructField('total_passengers', StringType(), True))\n",
    "fields.append(StructField('change', StringType(), True))\n",
    "fields.append(StructField('IATA', StringType(), True))\n",
    "schema_total_passengers_2015 = StructType(fields)\n",
    "\n",
    "fields = []\n",
    "fields.append(StructField('rank', StringType(), True))\n",
    "fields.append(StructField('airport_name', StringType(), True))\n",
    "fields.append(StructField('location', StringType(), True))\n",
    "fields.append(StructField('total_passengers', StringType(), True))\n",
    "fields.append(StructField('change', StringType(), True))\n",
    "fields.append(StructField('IATA', StringType(), True))\n",
    "schema_international_passengers_2015 = StructType(fields)"
   ]
  },
  {
   "cell_type": "code",
   "execution_count": 13,
   "metadata": {},
   "outputs": [
    {
     "name": "stdout",
     "output_type": "stream",
     "text": [
      "total passenger data 2015\n",
      "+----+----+--------------------+---------+-------+----------------+------+----+\n",
      "|IATA|rank|        airport_name| location|country|total_passengers|change|ICAO|\n",
      "+----+----+--------------------+---------+-------+----------------+------+----+\n",
      "| FRA|  12|Flughafen Frankfu...|Frankfurt|Germany|        61032022|   2.5|EDDF|\n",
      "| IST|  11|Atatürk Internati...| Istanbul| Turkey|        61346229|   8.2|LTBA|\n",
      "+----+----+--------------------+---------+-------+----------------+------+----+\n",
      "only showing top 2 rows\n",
      "\n",
      "\n",
      "++++++++++++++++++++++++++++++\n",
      "\n",
      "international passenger data 2015\n",
      "+----+----+--------------------+-----------------+----------------+------+----+\n",
      "|IATA|rank|        airport_name|         location|total_passengers|change|ICAO|\n",
      "+----+----+--------------------+-----------------+----------------+------+----+\n",
      "| PMI|  36|Aeropuerto de Pal...|Palma De Mallorca|        18107070|   0.6|LEPA|\n",
      "| HEL|  48|Helsinki-Vantaa A...|         Helsinki|        13826868|   2.9|EFHK|\n",
      "+----+----+--------------------+-----------------+----------------+------+----+\n",
      "only showing top 2 rows\n",
      "\n"
     ]
    }
   ],
   "source": [
    "total_passengers_2015 = sc.textFile(data_path + total_passengers_file + '2015' + '.csv')\n",
    "international_passengers_2015 = sc.textFile(data_path + international_passengers_file + '2015' + '.csv')\n",
    "\n",
    "\n",
    "# remove header\n",
    "header = total_passengers_2015.first()\n",
    "total_passengers_2015 = total_passengers_2015.filter(lambda l: l != header)\n",
    "# create dataframe\n",
    "df_total_passengers_2015 = sqlContext.createDataFrame(total_passengers_2015.map(lambda l: l.split(\";\")),schema_total_passengers_2015)\n",
    "# add missing column by join using previous data (df_airport_data)\n",
    "df_total_passengers_2015 = df_total_passengers_2015.join(df_airport_data.select(df_airport_data.IATA, df_airport_data.ICAO),\"IATA\")\n",
    "\n",
    "# repeat for second dataset from 2015\n",
    "international_passengers_2015 = sc.textFile(data_path + international_passengers_file + '2015' + '.csv')\n",
    "header = international_passengers_2015.first()\n",
    "international_passengers_2015 = international_passengers_2015.filter(lambda l: l != header)\n",
    "temp = international_passengers_2015.map(lambda l: l.split(\";\"))\n",
    "df_international_passengers_2015 = sqlContext.createDataFrame(international_passengers_2015.map(lambda l: l.split(\";\")),schema_international_passengers_2015)\n",
    "df_international_passengers_2015 = df_international_passengers_2015.join(df_airport_data.select(df_airport_data.IATA, df_airport_data.ICAO),\"IATA\")\n",
    "\n",
    "# print results\n",
    "print(\"total passenger data 2015\")\n",
    "df_total_passengers_2015.show(2)\n",
    "print()\n",
    "print(\"++++++++++++++++++++++++++++++\")\n",
    "print()\n",
    "print(\"international passenger data 2015\")\n",
    "df_international_passengers_2015.show(2)"
   ]
  },
  {
   "cell_type": "markdown",
   "metadata": {},
   "source": [
    "# Prepare passenger data Brussels Airport"
   ]
  },
  {
   "cell_type": "code",
   "execution_count": 14,
   "metadata": {},
   "outputs": [
    {
     "name": "stdout",
     "output_type": "stream",
     "text": [
      "+----------------+-------+-------+-------+-------+-------+-------+-------+-------+-------+-------+-------+-------+-------+-------+-------+-------+-------+-------+-------+-------+-------+-------+-------+-------+-------+-------+-------+-------+-------+-------+\n",
      "|destination ICAO|2004M03|2004M04|2005M03|2005M04|2006M03|2006M04|2007M03|2007M04|2008M03|2008M04|2009M03|2009M04|2010M03|2010M04|2011M03|2011M04|2012M03|2012M04|2013M03|2013M04|2014M03|2014M04|2015M03|2015M04|2016M03|2016M04|2017M03|2017M04|2018M03|2018M04|\n",
      "+----------------+-------+-------+-------+-------+-------+-------+-------+-------+-------+-------+-------+-------+-------+-------+-------+-------+-------+-------+-------+-------+-------+-------+-------+-------+-------+-------+-------+-------+-------+-------+\n",
      "|            LOWW|  29916|  31346|  27747|  29958|  32884|  31902|  35712|  40232|  43480|  42864|  37655|  37727|  32659|  26410|  35922|  34845|  35000|  34440|  33190|  35530|  35638|  41863|  34789|  39449|  24226|  23667|  35897|  40901|  42131|  47875|\n",
      "|            LSGG|  30095|  24975|  31498|  26380|  33297|  25938|  34815|  26141|  45937|  41149|  42818|  38047|  47694|  30482|  53313|  42769|  51512|  47054|  55627|  47128|  56207|  51004|  56695|  50443|  43760|  32612|  61271|  49433|  62195|  54601|\n",
      "+----------------+-------+-------+-------+-------+-------+-------+-------+-------+-------+-------+-------+-------+-------+-------+-------+-------+-------+-------+-------+-------+-------+-------+-------+-------+-------+-------+-------+-------+-------+-------+\n",
      "only showing top 2 rows\n",
      "\n"
     ]
    }
   ],
   "source": [
    "passenger_data_brussels = passenger_data_brussels.map(lambda l: l.split(\";\"))\n",
    "\n",
    "header = passenger_data_brussels.first()\n",
    "passenger_data_brussels = passenger_data_brussels.filter(lambda l: l != header)\n",
    "df_passenger_data_brussels = passenger_data_brussels.toDF(header)\n",
    "\n",
    "df_passenger_data_brussels.show(2)"
   ]
  },
  {
   "cell_type": "markdown",
   "metadata": {},
   "source": [
    "## Joining airport data on destinations"
   ]
  },
  {
   "cell_type": "code",
   "execution_count": 15,
   "metadata": {
    "collapsed": true
   },
   "outputs": [],
   "source": [
    "df_passenger_data_brussels = df_passenger_data_brussels.withColumnRenamed(\"destination ICAO\",\"ICAO\")\n",
    "df_passenger_data_brussels_with_airport = df_passenger_data_brussels.join(df_airport_data.select(df_airport_data.airport_name, df_airport_data.longitude, df_airport_data.latitude, df_airport_data.ICAO),on=['ICAO'],how='inner')"
   ]
  },
  {
   "cell_type": "code",
   "execution_count": 16,
   "metadata": {
    "collapsed": true
   },
   "outputs": [],
   "source": [
    "df_passenger_data_brussels_with_airport.select(df_passenger_data_brussels.columns[1:])\n",
    "\n",
    "from functools import reduce\n",
    "\n",
    "def superSum(*cols):\n",
    "    return reduce(lambda a, b: a + b, cols)\n",
    "\n",
    "df_total = df_passenger_data_brussels_with_airport.select(df_passenger_data_brussels.columns[1:])\n",
    "df_passenger_data_brussels_with_airport = df_passenger_data_brussels_with_airport.withColumn('total_passengers', superSum(*[df_total[x] for x in df_total.columns]))"
   ]
  },
  {
   "cell_type": "markdown",
   "metadata": {},
   "source": [
    "# Most popular destinations march/april 2004-2018 from Brussels airport"
   ]
  },
  {
   "cell_type": "code",
   "execution_count": 17,
   "metadata": {},
   "outputs": [
    {
     "data": {
      "text/html": [
       "<div style=\"width:100%;\"><div style=\"position:relative;width:100%;height:0;padding-bottom:60%;\"><iframe src=\"data:text/html;charset=utf-8;base64,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\" style=\"position:absolute;width:100%;height:100%;left:0;top:0;border:none !important;\" allowfullscreen webkitallowfullscreen mozallowfullscreen></iframe></div></div>"
      ],
      "text/plain": [
       "<folium.folium.Map at 0x132c82baac8>"
      ]
     },
     "execution_count": 17,
     "metadata": {},
     "output_type": "execute_result"
    }
   ],
   "source": [
    "import folium\n",
    "#basis map maken\n",
    "df_brussels_airport = df_airport_data.filter(col(\"airport_name\") == \"Brussels Airport\")\n",
    "ba_lat = df_brussels_airport.select(\"latitude\").collect()[0][0]\n",
    "ba_lon = df_brussels_airport.select(\"longitude\").collect()[0][0]\n",
    "ba_loc = [ba_lat, ba_lon]\n",
    "ba_name = df_brussels_airport.select(\"airport_name\").collect()[0][0]\n",
    "first_map = folium.Map(location=[ba_lat, ba_lon], zoom_start=4)\n",
    "sum_zaventem = 0\n",
    "avg_destination = df_passenger_data_brussels_with_airport.agg({\"total_passengers\": \"avg\"}).collect()[0][0]\n",
    "\n",
    "#markers toevoegen\n",
    "for dest in df_passenger_data_brussels_with_airport.rdd.collect():\n",
    "    try:\n",
    "        if(int(dest['total_passengers']) > int(avg_destination)):\n",
    "            c='orange'\n",
    "        else:\n",
    "            c='green'\n",
    "        p = dest['airport_name'] + \" passengers: \" + f\"{int(dest['total_passengers']) - 1:,}\".replace(',','.')\n",
    "        loc = [ dest['latitude'], dest['longitude'] ]\n",
    "        #parse_html is belangrijk door vreemde tekens in namen\n",
    "        folium.Marker( location=[ dest['latitude'], dest['longitude'] ], popup=folium.Popup(p,parse_html=True), icon=folium.Icon(color=c,icon='plane') ).add_to( first_map )\n",
    "        folium.PolyLine(locations=[ba_loc,loc], color=c).add_to(first_map)\n",
    "        sum_zaventem += dest['total_passengers']\n",
    "        \n",
    "    except:\n",
    "        pass\n",
    "\n",
    "ba_name = ba_name + \" passengers: \"  + f\"{int(sum_zaventem) - 1:,}\".replace(',','.')\n",
    "folium.Marker( location=[ ba_lat, ba_lon ], popup=ba_name, icon=folium.Icon(color='red',icon='plane') ).add_to( first_map )\n",
    "\n",
    "#weergeven map\n",
    "first_map"
   ]
  },
  {
   "cell_type": "markdown",
   "metadata": {},
   "source": [
    "## Data cleanen om grafiek te tonen"
   ]
  },
  {
   "cell_type": "code",
   "execution_count": 18,
   "metadata": {
    "collapsed": true
   },
   "outputs": [],
   "source": [
    "from pyspark.sql.functions import collect_list\n",
    "from pyspark.sql.types import IntegerType\n",
    "from pyspark.sql import functions as F\n",
    "query_result = query_result.withColumn(\"nkill\", query_result[\"nkill\"].cast(IntegerType()))\n",
    "grouped_query = query_result.groupby('iyear').agg(F.sum('nkill').alias(\"nkill\"))"
   ]
  },
  {
   "cell_type": "markdown",
   "metadata": {},
   "source": [
    "# People killed in Belgium by terrorist attacks 2014-2018"
   ]
  },
  {
   "cell_type": "code",
   "execution_count": 19,
   "metadata": {},
   "outputs": [
    {
     "data": {
      "image/png": "[encoded data removed]",
      "text/plain": [
       "<matplotlib.figure.Figure at 0x132c7b2ab38>"
      ]
     },
     "metadata": {},
     "output_type": "display_data"
    }
   ],
   "source": [
    "%matplotlib inline\n",
    "import matplotlib.pyplot as plt\n",
    "import matplotlib.dates as plt_dates\n",
    "from datetime import datetime\n",
    "\n",
    "y_axis = []\n",
    "x_axis = []\n",
    "\n",
    "for row in grouped_query.rdd.collect():\n",
    "     #Toekennen aan x as\n",
    "    x_axis.append(int(row.iyear))\n",
    "    #Toekennen aan y as\n",
    "    y_axis.append(int(row.nkill))\n",
    "    \n",
    "#Maken grafiek\n",
    "fig1 = plt.figure(figsize=(7, 7))\n",
    "fig1.suptitle('People killed in Belgium by terrorist attacks 2014-2018', fontsize=14)\n",
    "ax = fig1.add_subplot(111)\n",
    "ax.set_xlabel('year')\n",
    "ax.set_ylabel('deaths')\n",
    "ax.bar(x_axis, y_axis, fc='red', align='center')\n",
    "ax.xaxis.set_major_locator(plt.MaxNLocator(5))\n",
    "ax.yaxis.set_major_locator(plt.MaxNLocator(5))\n",
    "plt.show()"
   ]
  },
  {
   "cell_type": "markdown",
   "metadata": {},
   "source": [
    "# Passengers travelling from Belgium march/april 2004 - 2018"
   ]
  },
  {
   "cell_type": "code",
   "execution_count": 20,
   "metadata": {
    "collapsed": true
   },
   "outputs": [],
   "source": [
    "#Drop redundant data\n",
    "df_passenger_data_brussels = df_passenger_data_brussels.drop('destination ICAO')\n",
    "\n",
    "#Parse all data to int\n",
    "for col_name in df_passenger_data_brussels.columns:\n",
    "    df_passenger_data_brussels = df_passenger_data_brussels.withColumn(col_name, df_passenger_data_brussels[col_name].cast(IntegerType()))"
   ]
  },
  {
   "cell_type": "code",
   "execution_count": 21,
   "metadata": {
    "collapsed": true
   },
   "outputs": [],
   "source": [
    "from pyspark.sql import functions as F\n",
    "field = [StructField('Years',IntegerType(), True),StructField('Passengers', IntegerType(), True)]\n",
    "\n",
    "schema = StructType(field)\n",
    "columns = ['Year', 'Passengers']\n",
    "#Summing up all data by year in formatted list\n",
    "l = []\n",
    "for X in range(4, 19):\n",
    "    year = str(2000 + X)\n",
    "    df_dummy1 = df_passenger_data_brussels.groupBy().agg(F.sum(year + \"M03\").alias(year + \"M03\"))\n",
    "    df_dummy1 = df_dummy1.unionAll(df_passenger_data_brussels.groupBy().agg(F.sum(year + \"M04\").alias(year + \"M04\")))\n",
    "    l = l + [([year, df_dummy1.groupBy().agg(F.sum(year + \"M03\").alias(year)).collect()[0][0]])]\n",
    "\n",
    "df_passengers_by_year = sqlContext.createDataFrame(l, columns)"
   ]
  },
  {
   "cell_type": "code",
   "execution_count": 22,
   "metadata": {},
   "outputs": [
    {
     "data": {
      "image/png": "[encoded data removed]",
      "text/plain": [
       "<matplotlib.figure.Figure at 0x132c64879b0>"
      ]
     },
     "metadata": {},
     "output_type": "display_data"
    }
   ],
   "source": [
    "%matplotlib inline\n",
    "import matplotlib.pyplot as plt\n",
    "import matplotlib.dates as plt_dates\n",
    "from datetime import datetime\n",
    "\n",
    "y_axis = []\n",
    "x_axis = []\n",
    "\n",
    "for row in df_passengers_by_year.collect():\n",
    "     #Toekennen aan x as\n",
    "    x_axis.append(int(row.Year))\n",
    "    #Toekennen aan y as\n",
    "    y_axis.append(int(row.Passengers))\n",
    "    \n",
    "\n",
    "figl = plt.figure(figsize=(8,8))\n",
    "fig1.suptitle('Passengers departing from airport Brussels 2004-2018', fontsize=14)\n",
    "ax = figl.add_subplot(211)\n",
    "ax.set_xlabel('Year')\n",
    "ax.set_ylabel('Passengers')\n",
    "\n",
    "plt.plot(df_passengers_by_year.select(\"Year\").rdd.flatMap(lambda x: x).collect(), df_passengers_by_year.select(\"Passengers\").rdd.flatMap(lambda x: x).collect())\n",
    "plt.show()\n",
    "df_passengers_by_year = df_passengers_by_year.join(grouped_query.withColumnRenamed(\"iyear\", \"Year\"),on=['Year'],how='outer')\n"
   ]
  }
 ],
 "metadata": {
  "kernelspec": {
   "display_name": "Python 3",
   "language": "python",
   "name": "python3"
  },
  "language_info": {
   "codemirror_mode": {
    "name": "ipython",
    "version": 3
   },
   "file_extension": ".py",
   "mimetype": "text/x-python",
   "name": "python",
   "nbconvert_exporter": "python",
   "pygments_lexer": "ipython3",
   "version": "3.6.1"
  }
 },
 "nbformat": 4,
 "nbformat_minor": 2
}
