{
 "cells": [
  {
   "cell_type": "code",
   "execution_count": 28,
   "metadata": {},
   "outputs": [],
   "source": [
    "#import findspark, pyspark\n",
    "from pyspark.sql import SQLContext, SparkSession\n",
    "from pyspark.sql.types import *\n",
    "from datetime import datetime\n",
    "from functools import reduce\n",
    "from pyspark.sql.functions import col\n",
    "\n",
    "#sc = pyspark.SparkContext.getOrCreate()\n",
    "sqlContext = SQLContext(sc)\n",
    "\n",
    "file_attack = 'gtd_14to17_0718dist'\n",
    "file_airport = 'airports-extended'\n",
    "file_largest_airport = 'largest-global-airports-passenger-traffic'\n",
    "file_passengers = 'avia_par_be'"
   ]
  },
  {
   "cell_type": "markdown",
   "metadata": {},
   "source": [
    "# Fetch Data"
   ]
  },
  {
   "cell_type": "code",
   "execution_count": 29,
   "metadata": {},
   "outputs": [],
   "source": [
    "#data_path = 'D:/DataMining/taba/'\n",
    "data_path = '../data/Datasets/'\n",
    "\n",
    "attack_data = sc.textFile(data_path + 'gtd-data/' + file_attack + '.csv')\n",
    "airport_data = sc.textFile(data_path + file_airport + '.csv')\n",
    "largest_airport_data = sc.textFile(data_path + file_largest_airport + '.xlsx')\n",
    "passenger_data = sc.textFile(data_path + file_passengers + '.xls')"
   ]
  },
  {
   "cell_type": "code",
   "execution_count": 30,
   "metadata": {},
   "outputs": [],
   "source": [
    "# ALT WAY DOES NOT WORK YET\n",
    "# df2 = sqlContext.read.format('com.databricks.spark.csv').options(header='true').load(data_path + 'gtd-data/' + file_attack + '.csv')\n",
    "# df2.select('iyear').show(1) does not work\n",
    "# https://www.analyticsvidhya.com/blog/2016/10/spark-dataframe-and-operations/\n",
    "# => fill null values in dataframe -> fillna()"
   ]
  },
  {
   "cell_type": "markdown",
   "metadata": {},
   "source": [
    "# Prepare Attack Data"
   ]
  },
  {
   "cell_type": "code",
   "execution_count": 31,
   "metadata": {},
   "outputs": [],
   "source": [
    "# Define columns for dataframe\n",
    "new_columns = attack_data.first()\n",
    "new_columns = new_columns.split(\";\")\n",
    "attack_data = attack_data.filter(lambda l: l != new_columns)\n",
    "df_terror_data = attack_data.map(lambda x: x.split(';')).toDF()\n",
    "old_columns = df_terror_data.schema.names"
   ]
  },
  {
   "cell_type": "code",
   "execution_count": 32,
   "metadata": {},
   "outputs": [],
   "source": [
    "# apply new column names\n",
    "df_terror_data = reduce(lambda data, idx: data.withColumnRenamed(old_columns[idx], new_columns[idx]), range(len(old_columns)), df_terror_data)"
   ]
  },
  {
   "cell_type": "markdown",
   "metadata": {},
   "source": [
    "# Query Attack Data"
   ]
  },
  {
   "cell_type": "code",
   "execution_count": 33,
   "metadata": {},
   "outputs": [
    {
     "name": "stdout",
     "output_type": "stream",
     "text": [
      "+------------+-----+------+----+----------+--------+----------+-------+-----------+------+--------------+---------+--------+---------+---------+-----------+--------+--------+--------------------+-----+-----+-----+---------+-----------+---------------+--------+-------+-------+-----------+---------------+-----------+---------------+-----------+---------------+---------+--------------------+------------+--------------------+--------------------+-------------+-------+-----------+---------+-------------+------------+----------------+-----+-------+-------+-----------+---------+-------------+------------+----------------+-----+-------+-------+-----------+--------------------+--------+------+---------+------+---------+--------------------+-----------+-----------+-----------+----------+------+--------+-------+---------+-------------+------+----------+--------------+------+----------+--------------+---------+---------+-------------+------------+--------------------+---------+-------------+------------+----------------+---------+-------------+------------+----------------+---------+-------------+------------+----------------+--------------------+-----+-------+--------+------+--------+--------+--------+----------+--------------+---------+-----------+---------+--------+----------+------+-----+------+-------------+------+---------+-----------+----------+------------+----------+--------------+------------------+---------+--------------------+--------------------+--------------------+--------------------+--------------------+-------+--------+--------+-------+-------+\n",
      "|     eventid|iyear|imonth|iday|approxdate|extended|resolution|country|country_txt|region|    region_txt|provstate|    city| latitude|longitude|specificity|vicinity|location|             summary|crit1|crit2|crit3|doubtterr|alternative|alternative_txt|multiple|success|suicide|attacktype1|attacktype1_txt|attacktype2|attacktype2_txt|attacktype3|attacktype3_txt|targtype1|       targtype1_txt|targsubtype1|    targsubtype1_txt|               corp1|      target1|natlty1|natlty1_txt|targtype2|targtype2_txt|targsubtype2|targsubtype2_txt|corp2|target2|natlty2|natlty2_txt|targtype3|targtype3_txt|targsubtype3|targsubtype3_txt|corp3|target3|natlty3|natlty3_txt|               gname|gsubname|gname2|gsubname2|gname3|gsubname3|              motive|guncertain1|guncertain2|guncertain3|individual|nperps|nperpcap|claimed|claimmode|claimmode_txt|claim2|claimmode2|claimmode2_txt|claim3|claimmode3|claimmode3_txt|compclaim|weaptype1|weaptype1_txt|weapsubtype1|    weapsubtype1_txt|weaptype2|weaptype2_txt|weapsubtype2|weapsubtype2_txt|weaptype3|weaptype3_txt|weapsubtype3|weapsubtype3_txt|weaptype4|weaptype4_txt|weapsubtype4|weapsubtype4_txt|          weapdetail|nkill|nkillus|nkillter|nwound|nwoundus|nwoundte|property|propextent|propextent_txt|propvalue|propcomment|ishostkid|nhostkid|nhostkidus|nhours|ndays|divert|kidhijcountry|ransom|ransomamt|ransomamtus|ransompaid|ransompaidus|ransomnote|hostkidoutcome|hostkidoutcome_txt|nreleased|            addnotes|              scite1|              scite2|              scite3|            dbsource|INT_LOG|INT_IDEO|INT_MISC|INT_ANY|related|\n",
      "+------------+-----+------+----+----------+--------+----------+-------+-----------+------+--------------+---------+--------+---------+---------+-----------+--------+--------+--------------------+-----+-----+-----+---------+-----------+---------------+--------+-------+-------+-----------+---------------+-----------+---------------+-----------+---------------+---------+--------------------+------------+--------------------+--------------------+-------------+-------+-----------+---------+-------------+------------+----------------+-----+-------+-------+-----------+---------+-------------+------------+----------------+-----+-------+-------+-----------+--------------------+--------+------+---------+------+---------+--------------------+-----------+-----------+-----------+----------+------+--------+-------+---------+-------------+------+----------+--------------+------+----------+--------------+---------+---------+-------------+------------+--------------------+---------+-------------+------------+----------------+---------+-------------+------------+----------------+---------+-------------+------------+----------------+--------------------+-----+-------+--------+------+--------+--------+--------+----------+--------------+---------+-----------+---------+--------+----------+------+-----+------+-------------+------+---------+-----------+----------+------------+----------+--------------+------------------+---------+--------------------+--------------------+--------------------+--------------------+--------------------+-------+--------+--------+-------+-------+\n",
      "|201405240153| 2014|     5|  24|          |       0|          |     21|    Belgium|     8|Western Europe| Brussels|Brussels|50.836426| 4.367415|          1|       0|        |05/24/2014: Assai...|    1|    1|    1|        0|           |               |       0|      1|      0|          2|  Armed Assault|           |               |           |               |       14|Private Citizens ...|          81|Museum/Cultural C...|Jewish Museum of ...|Jewish Museum|     21|    Belgium|         |             |            |                |     |       |       |           |         |             |            |                |     |       |       |           |Islamic State of ...|        |      |         |      |         |The specific moti...|          0|           |           |         0|     1|       1|      1|        6|        Video|      |          |              |      |          |              |         |        5|     Firearms|           2|Automatic or Semi...|        5|     Firearms|           3|         Handgun|         |             |            |                |         |             |            |                |A Kalashnikov rif...|    4|      0|       0|     0|       0|       0|       0|          |              |         |           |        0|        |          |      |     |      |             |      |         |           |          |            |          |              |                  |         |Casualty numbers ...|\"\"\"BBC News - Fra...|\"\"\"Three dead in ...|\"\"\"Jewish museum ...|START Primary Col...|      1|       1|       0|      1|       |\n",
      "+------------+-----+------+----+----------+--------+----------+-------+-----------+------+--------------+---------+--------+---------+---------+-----------+--------+--------+--------------------+-----+-----+-----+---------+-----------+---------------+--------+-------+-------+-----------+---------------+-----------+---------------+-----------+---------------+---------+--------------------+------------+--------------------+--------------------+-------------+-------+-----------+---------+-------------+------------+----------------+-----+-------+-------+-----------+---------+-------------+------------+----------------+-----+-------+-------+-----------+--------------------+--------+------+---------+------+---------+--------------------+-----------+-----------+-----------+----------+------+--------+-------+---------+-------------+------+----------+--------------+------+----------+--------------+---------+---------+-------------+------------+--------------------+---------+-------------+------------+----------------+---------+-------------+------------+----------------+---------+-------------+------------+----------------+--------------------+-----+-------+--------+------+--------+--------+--------+----------+--------------+---------+-----------+---------+--------+----------+------+-----+------+-------------+------+---------+-----------+----------+------------+----------+--------------+------------------+---------+--------------------+--------------------+--------------------+--------------------+--------------------+-------+--------+--------+-------+-------+\n",
      "only showing top 1 row\n",
      "\n"
     ]
    }
   ],
   "source": [
    "df_terror_data.filter(col(\"country_txt\") == \"Belgium\").show(1)"
   ]
  },
  {
   "cell_type": "code",
   "execution_count": null,
   "metadata": {},
   "outputs": [],
   "source": []
  }
 ],
 "metadata": {
  "kernelspec": {
   "display_name": "Python 3",
   "language": "python",
   "name": "python3"
  },
  "language_info": {
   "codemirror_mode": {
    "name": "ipython",
    "version": 3
   },
   "file_extension": ".py",
   "mimetype": "text/x-python",
   "name": "python",
   "nbconvert_exporter": "python",
   "pygments_lexer": "ipython3",
   "version": "3.6.6"
  }
 },
 "nbformat": 4,
 "nbformat_minor": 2
}
