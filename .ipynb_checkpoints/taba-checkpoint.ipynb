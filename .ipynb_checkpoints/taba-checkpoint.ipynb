{
 "cells": [
  {
   "cell_type": "code",
   "execution_count": 1,
   "metadata": {
    "collapsed": true
   },
   "outputs": [],
   "source": [
    "import findspark, pyspark\n",
    "from pyspark.sql import SQLContext, SparkSession\n",
    "from pyspark.sql.types import *\n",
    "from datetime import datetime\n",
    "from functools import reduce\n",
    "from pyspark.sql.functions import col\n",
    "\n",
    "sc = pyspark.SparkContext.getOrCreate()\n",
    "sqlContext = SQLContext(sc)\n",
    "\n",
    "file_attack = 'gtd_14to17_0718dist'\n",
    "file_airport = 'airports-extended'\n",
    "file_largest_airport = 'largest-global-airports-passenger-traffic'\n",
    "file_passengers = 'avia_par_be'"
   ]
  },
  {
   "cell_type": "code",
   "execution_count": 2,
   "metadata": {
    "collapsed": true
   },
   "outputs": [],
   "source": [
    "attack_data = sc.textFile('D:/DataMining/taba/gtd-data/' + file_attack + '.csv')\n",
    "airport_data = sc.textFile('D:/DataMining/taba/' + file_airport + '.csv')\n",
    "largest_airport_data = sc.textFile('D:/DataMining/taba/' + file_largest_airport + '.xlsx')\n",
    "passenger_data = sc.textFile('D:/DataMining/taba/' + file_passengers + '.xls')\n"
   ]
  },
  {
   "cell_type": "code",
   "execution_count": 3,
   "metadata": {
    "collapsed": true
   },
   "outputs": [],
   "source": [
    "new_columns = attack_data.first()\n",
    "new_columns = new_columns.split(\";\")"
   ]
  },
  {
   "cell_type": "code",
   "execution_count": 4,
   "metadata": {
    "collapsed": true
   },
   "outputs": [],
   "source": [
    "attack_data = attack_data.filter(lambda l: l != new_columns)\n",
    "df_terror_data = attack_data.map(lambda x: x.split(';')).toDF()\n",
    "old_columns = df_terror_data.schema.names\n",
    "\n",
    "\n"
   ]
  },
  {
   "cell_type": "code",
   "execution_count": 53,
   "metadata": {},
   "outputs": [],
   "source": [
    "\n",
    "df_terror_data = reduce(lambda data, idx: data.withColumnRenamed(old_columns[idx], new_columns[idx]), range(len(old_columns)), df_terror_data)\n",
    "query_result = df_terror_data.filter(col(\"country_txt\") == \"Belgium\").select('iyear', 'imonth', 'iday','country_txt', 'summary', 'city', 'nkill')\n",
    "\n",
    "\n",
    "\n"
   ]
  },
  {
   "cell_type": "code",
   "execution_count": 57,
   "metadata": {},
   "outputs": [],
   "source": [
    "%matplotlib inline\n",
    "import matplotlib.pyplot as plt\n",
    "\n",
    "x_axis = []\n",
    "y_axis = []\n",
    "\n",
    "for row in query_result.rdd.collect():\n",
    "    #Datums opkuisen\n",
    "    year = row.iyear\n",
    "    if int(row.imonth) < 10:\n",
    "        month = \"0\" + row.imonth\n",
    "    else:\n",
    "        month = row.imonth\n",
    "    if int(row.iday) < 10:\n",
    "        day = \"0\" + row.iday\n",
    "    else:\n",
    "        day = row.iday    \n",
    "        \n",
    "    date = year + \"-\" + month + \"-\" + day\n",
    "    #Toekennen aan x as\n",
    "    x_axis.append(date)\n",
    "    #Toekennen aan y as\n",
    "    y_axis.append(row.nkill)\n",
    "    \n",
    "#Maken grafiek\n",
    "#fig1 = plt.figure(figsize=(10, 10))\n",
    "#fig1.suptitle('People killed in Belgium by terrorist attacks 2014-2018', fontsize=14)\n",
    "#ax = fig1.add_subplot(111)\n",
    "#ax.set_xlabel('date')\n",
    "#ax.set_ylabel('deaths')\n",
    "#ax.bar(x_axis, y_axis, fc='darksalmon', align='center')\n",
    "#plt.show()"
   ]
  },
  {
   "cell_type": "code",
   "execution_count": 39,
   "metadata": {},
   "outputs": [
    {
     "name": "stdout",
     "output_type": "stream",
     "text": [
      "+-------------------------------------------------------------------------------------------------------------------------------------------------------------------------------------------------------------------------------------------------------------------------------------------------------------------------------------------------------------------------------------------------------------------------------------------------------------------------------------------------------------------------------------------------------------------------------------------------------------------------------------------------------------------------------------------------------------------------------------------------------+\n",
      "|summary                                                                                                                                                                                                                                                                                                                                                                                                                                                                                                                                                                                                                                                                                                                                                |\n",
      "+-------------------------------------------------------------------------------------------------------------------------------------------------------------------------------------------------------------------------------------------------------------------------------------------------------------------------------------------------------------------------------------------------------------------------------------------------------------------------------------------------------------------------------------------------------------------------------------------------------------------------------------------------------------------------------------------------------------------------------------------------------+\n",
      "|03/22/2016: Two suicide bombers with explosives-laden suitcases detonated at a check-in counter at Brussels Airport in Zaventem, Flemish Brabant, Belgium. In addition to the two bombers, at least 16 people were killed, including four United States citizens, in the blasts. A third explosive device was discovered and defused by security following the incident. This was one of two coordinated attacks targeting transportation infrastructure in Brussels on the same day. Additionally, at least 270 people were injured across both incidents. The Islamic State of Iraq and the Levant (ISIL) claimed responsibility and stated that the attacks were carried out in retaliation for Belgium's participation in a coalition against ISIL.|\n",
      "+-------------------------------------------------------------------------------------------------------------------------------------------------------------------------------------------------------------------------------------------------------------------------------------------------------------------------------------------------------------------------------------------------------------------------------------------------------------------------------------------------------------------------------------------------------------------------------------------------------------------------------------------------------------------------------------------------------------------------------------------------------+\n",
      "\n"
     ]
    }
   ],
   "source": [
    "#query_result = query_result.filter(col(\"city\")==\"Zaventem\")\n",
    "#Toont de bovenste 100 kollommen, false zorgt ervoor dat de volledige inhoud wordt getoond)\n",
    "#query_result.select('summary').show(100,False)"
   ]
  },
  {
   "cell_type": "code",
   "execution_count": null,
   "metadata": {
    "collapsed": true
   },
   "outputs": [],
   "source": []
  }
 ],
 "metadata": {
  "kernelspec": {
   "display_name": "Python 3",
   "language": "python",
   "name": "python3"
  },
  "language_info": {
   "codemirror_mode": {
    "name": "ipython",
    "version": 3
   },
   "file_extension": ".py",
   "mimetype": "text/x-python",
   "name": "python",
   "nbconvert_exporter": "python",
   "pygments_lexer": "ipython3",
   "version": "3.6.1"
  }
 },
 "nbformat": 4,
 "nbformat_minor": 2
}
