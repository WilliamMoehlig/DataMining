{
 "cells": [
  {
   "cell_type": "code",
   "execution_count": 1,
   "metadata": {
    "collapsed": true
   },
   "outputs": [],
   "source": [
    "import findspark, pyspark\n",
    "from pyspark.sql import SQLContext, SparkSession\n",
    "from pyspark.sql.types import *\n",
    "from datetime import datetime\n",
    "from functools import reduce\n",
    "from pyspark.sql.functions import col\n",
    "\n",
    "sc = pyspark.SparkContext.getOrCreate()\n",
    "sqlContext = SQLContext(sc)\n",
    "\n",
    "file_attack = 'gtd_14to17_0718dist'\n",
    "file_airport = 'airports-extended'\n",
    "file_largest_airport = 'largest-global-airports-passenger-traffic'\n",
    "file_passengers = 'avia_par_be'"
   ]
  },
  {
   "cell_type": "markdown",
   "metadata": {},
   "source": [
    "# Fetch Data"
   ]
  },
  {
   "cell_type": "code",
   "execution_count": 2,
   "metadata": {
    "collapsed": true
   },
   "outputs": [],
   "source": [
    "data_path = 'D:/DataMining/taba/'\n",
    "#data_path = '../data/Datasets/'\n",
    "\n",
    "attack_data = sc.textFile(data_path + 'gtd-data/' + file_attack + '.csv')\n",
    "airport_data = sc.textFile(data_path + file_airport + '.csv')\n",
    "passenger_data_brussels = sc.textFile(data_path + file_passengers + '.csv')"
   ]
  },
  {
   "cell_type": "markdown",
   "metadata": {},
   "source": [
    "# Prepare Attack Data"
   ]
  },
  {
   "cell_type": "code",
   "execution_count": 5,
   "metadata": {},
   "outputs": [],
   "source": [
    "# Define columns for dataframe\n",
    "new_columns = attack_data.first()\n",
    "new_columns = new_columns.split(\";\")\n",
    "attack_data = attack_data.filter(lambda l: l != new_columns)\n",
    "df_terror_data = attack_data.map(lambda x: x.split(';')).toDF()\n",
    "old_columns = df_terror_data.schema.names"
   ]
  },
  {
   "cell_type": "code",
   "execution_count": 6,
   "metadata": {
    "collapsed": true
   },
   "outputs": [],
   "source": [
    "# apply new column names\n",
    "df_terror_data = reduce(lambda data, idx: data.withColumnRenamed(old_columns[idx], new_columns[idx]), range(len(old_columns)), df_terror_data)"
   ]
  },
  {
   "cell_type": "markdown",
   "metadata": {},
   "source": [
    "# Query Attack Data"
   ]
  },
  {
   "cell_type": "code",
   "execution_count": 7,
   "metadata": {
    "collapsed": true
   },
   "outputs": [],
   "source": [
    "#query_result = df_terror_data.filter(col(\"country_txt\") == \"Belgium\").select('iyear', 'imonth', 'iday','country_txt', 'summary')\n",
    "query_result = df_terror_data.filter(col(\"country_txt\") == \"Belgium\").select('iyear', 'imonth', 'iday','country_txt', 'summary', 'city', 'nkill')\n"
   ]
  },
  {
   "cell_type": "markdown",
   "metadata": {},
   "source": [
    "## Data waar enkel data instaat die impact zou hebben op reizigers 2016"
   ]
  },
  {
   "cell_type": "code",
   "execution_count": 8,
   "metadata": {},
   "outputs": [
    {
     "name": "stdout",
     "output_type": "stream",
     "text": [
      "+-----+------+----+-----------+--------------------+---------+-----+\n",
      "|iyear|imonth|iday|country_txt|             summary|     city|nkill|\n",
      "+-----+------+----+-----------+--------------------+---------+-----+\n",
      "| 2016|     3|  22|    Belgium|03/22/2016: Two s...| Zaventem|   18|\n",
      "| 2016|     3|  22|    Belgium|03/22/2016: A sui...| Brussels|   17|\n",
      "| 2016|     8|   6|    Belgium|08/06/2016: An as...|Charleroi|    1|\n",
      "+-----+------+----+-----------+--------------------+---------+-----+\n",
      "\n"
     ]
    }
   ],
   "source": [
    "query_brussel= query_result.filter(col(\"iyear\") == \"2016\").select('iyear', 'imonth', 'iday','country_txt', 'summary', 'city', 'nkill')\n",
    "query_brussel = query_brussel.filter(col(\"nkill\") > 0)\n",
    "query_brussel.show()"
   ]
  },
  {
   "cell_type": "markdown",
   "metadata": {},
   "source": [
    "# Prepare airport data"
   ]
  },
  {
   "cell_type": "code",
   "execution_count": 9,
   "metadata": {
    "collapsed": true
   },
   "outputs": [],
   "source": [
    "fields = []\n",
    "fields.append(StructField('airport_id', IntegerType(), True)) \n",
    "fields.append(StructField('airport_name', StringType(), True))\n",
    "fields.append(StructField('city', StringType(), True))\n",
    "fields.append(StructField('country', StringType(), True))\n",
    "fields.append(StructField('IATA', StringType(), True)) # kind of airport identifier\n",
    "fields.append(StructField('ICAO', StringType(), True)) # different kind of airport identifier\n",
    "fields.append(StructField('latitude', FloatType(), True))\n",
    "fields.append(StructField('longitude', FloatType(), True))\n",
    "fields.append(StructField('unknown1', IntegerType(), True))\n",
    "fields.append(StructField('unknown2', StringType(), True))\n",
    "fields.append(StructField('unknown3', StringType(), True))\n",
    "fields.append(StructField('continent_city', StringType(), True))\n",
    "fields.append(StructField('idk_column', StringType(), True))\n",
    "fields.append(StructField('source', StringType(), True))\n",
    "schema = StructType(fields)\n",
    "\n",
    "clean_data = (airport_data\n",
    "              .map(lambda line: line.split(';'))\n",
    "              .map(lambda line: [int(line[0]),line[1],line[2],line[3],line[4],line[5],float(line[6]),float(line[7]),int(line[8]),line[9],line[10],line[11],line[12],line[13]])\n",
    "             )\n",
    "df_airport_data = sqlContext.createDataFrame(clean_data, schema)"
   ]
  },
  {
   "cell_type": "markdown",
   "metadata": {},
   "source": [
    "## Verwijderen van stations en andere uit airports dataset en van luchthavens zonder ICAO"
   ]
  },
  {
   "cell_type": "code",
   "execution_count": 10,
   "metadata": {},
   "outputs": [],
   "source": [
    "df_airport_data = df_airport_data.filter((col(\"idk_column\") == \"airport\"))\n",
    "df_airport_data = df_airport_data.filter((col(\"ICAO\") != \"\\\\N\"))\n"
   ]
  },
  {
   "cell_type": "markdown",
   "metadata": {},
   "source": [
    "# Query airport data"
   ]
  },
  {
   "cell_type": "code",
   "execution_count": 11,
   "metadata": {},
   "outputs": [
    {
     "name": "stdout",
     "output_type": "stream",
     "text": [
      "+--------------------------------------+-----------------+---------------+\n",
      "|airport_name                          |city             |continent_city |\n",
      "+--------------------------------------+-----------------+---------------+\n",
      "|Antwerp International Airport (Deurne)|Antwerp          |Europe/Brussels|\n",
      "|Beauvechain Air Base                  |Beauvechain      |Europe/Brussels|\n",
      "|Kleine Brogel Air Base                |Kleine Brogel    |Europe/Brussels|\n",
      "|Brussels Airport                      |Brussels         |Europe/Brussels|\n",
      "|Jehonville Air Base                   |Bertrix          |Europe/Brussels|\n",
      "|Brussels South Charleroi Airport      |Charleroi        |Europe/Brussels|\n",
      "|Chièvres Air Base                     |Chievres         |Europe/Brussels|\n",
      "|Koksijde Air Base                     |Koksijde         |Europe/Brussels|\n",
      "|Florennes Air Base                    |Florennes        |Europe/Brussels|\n",
      "|Wevelgem Airport                      |Kortrijk-vevelgem|Europe/Brussels|\n",
      "|Liège Airport                         |Liege            |Europe/Brussels|\n",
      "|Ostend-Bruges International Airport   |Ostend           |Europe/Brussels|\n",
      "|Zutendaal Air Base                    |Zutendaal        |Europe/Brussels|\n",
      "|Limburg Regional Airport              |Sint-truiden     |Europe/Brussels|\n",
      "|Saint Hubert Air Base                 |St.-hubert       |Europe/Brussels|\n",
      "|Ursel Air Base                        |Ursel            |Europe/Brussels|\n",
      "|Weelde Air Base                       |Weelde           |Europe/Brussels|\n",
      "|Oostmalle Air Base                    |Zoersel          |Europe/Brussels|\n",
      "|Engels heliport                       |Ebenhofen        |Europe/Brussels|\n",
      "|Westkapelle heliport                  |Knokke           |Europe/Brussels|\n",
      "|Goetsenhoven Air Base                 |GOETSENHOVEN     |Europe/Brussels|\n",
      "|Spa (la Sauvenière) Airport           |Spa              |Europe/Brussels|\n",
      "|Suarlée Airport                       |Namur            |Europe/Brussels|\n",
      "|Kiewit Airfield Hasselt               |Hasselt          |Europe/Brussels|\n",
      "+--------------------------------------+-----------------+---------------+\n",
      "\n"
     ]
    }
   ],
   "source": [
    "(df_airport_data\n",
    " .select(df_airport_data.airport_name, df_airport_data.city,df_airport_data.continent_city)\n",
    " .filter(df_airport_data.continent_city == 'Europe/Brussels')\n",
    " .show(df_airport_data.count(),False))"
   ]
  },
  {
   "cell_type": "markdown",
   "metadata": {},
   "source": [
    "# Prepare passenger data"
   ]
  },
  {
   "cell_type": "markdown",
   "metadata": {},
   "source": [
    "## Cleaning"
   ]
  },
  {
   "cell_type": "code",
   "execution_count": 12,
   "metadata": {},
   "outputs": [
    {
     "name": "stdout",
     "output_type": "stream",
     "text": [
      "[['1', 'London Heathrow Airport', 'Hillingdon, Greater London, United Kingdom', '66689466', '4%', 'LHR', 'EGLL'], ['2', 'Dubai International Airport', 'Garhoud, Dubai, United Arab Emirates', '65872250', '15%', 'DXB', 'OMDB']]\n"
     ]
    }
   ],
   "source": [
    "international_passengers_file =  'international-passengers-'\n",
    "international_passengers_2013 = sc.textFile(data_path + international_passengers_file + '2013' + '.csv')\n",
    "international_passengers_2014 = sc.textFile(data_path + international_passengers_file + '2014' + '.csv')\n",
    "\n",
    "total_passengers_file = 'total-passengers-'\n",
    "total_passengers_2013 = sc.textFile(data_path + total_passengers_file + '2013' + '.csv')\n",
    "total_passengers_2014 = sc.textFile(data_path + total_passengers_file + '2014' + '.csv')\n",
    "\n",
    "all_passenger_datasets_except2015 = [international_passengers_2013,international_passengers_2014,total_passengers_2013, total_passengers_2014]\n",
    "\n",
    "counter = sc.accumulator(0)\n",
    "def clean_passenger_data(rdd):\n",
    "    global counter\n",
    "    \n",
    "    header = rdd.first()\n",
    "    rdd = rdd.filter(lambda l: l != header)\n",
    "    rdd = rdd.map(lambda l: l.split(\";\"))\n",
    "\n",
    "    new_columns = rdd.map(lambda l: l[3].split(\"/\"))\n",
    "\n",
    "    rdd = rdd.map(lambda l: l[0:3] + l[4:])\n",
    "\n",
    "    rdd = rdd.zip(new_columns)\n",
    "\n",
    "    rdd = rdd.map(lambda l: l[0] + l[1])\n",
    "    \n",
    "    all_passenger_datasets_except2015[counter.value] = rdd\n",
    "    \n",
    "    counter +=  1\n",
    "    \n",
    "for dataset in all_passenger_datasets_except2015:\n",
    "    clean_passenger_data(dataset)\n",
    "    \n",
    "print(all_passenger_datasets_except2015[0].take(2))"
   ]
  },
  {
   "cell_type": "markdown",
   "metadata": {},
   "source": [
    "## creating dataframe"
   ]
  },
  {
   "cell_type": "markdown",
   "metadata": {},
   "source": [
    "### make the dataframes for the other datasets"
   ]
  },
  {
   "cell_type": "code",
   "execution_count": 13,
   "metadata": {},
   "outputs": [
    {
     "name": "stdout",
     "output_type": "stream",
     "text": [
      "+----+--------------------+--------------------+----------------+------+----+----+\n",
      "|rank|        airport_name|            location|total_passengers|change|IATA|ICAO|\n",
      "+----+--------------------+--------------------+----------------+------+----+----+\n",
      "|   1|London Heathrow A...|Hillingdon, Great...|        66689466|    4%| LHR|EGLL|\n",
      "|   2|Dubai Internation...|Garhoud, Dubai, U...|        65872250|   15%| DXB|OMDB|\n",
      "+----+--------------------+--------------------+----------------+------+----+----+\n",
      "only showing top 2 rows\n",
      "\n",
      "+++++++++++++++++++++++++++++++++\n",
      "\n",
      "+----+--------------------+--------------------+----------------+------+----+----+\n",
      "|rank|        airport_name|            location|total_passengers|change|IATA|ICAO|\n",
      "+----+--------------------+--------------------+----------------+------+----+----+\n",
      "|   1|Dubai Internation...|Garhoud, Dubai, U...|        69954392|  6.2%| DXB|OMDB|\n",
      "|   2|London Heathrow A...|Hillingdon, Great...|        68091095|  1.9%| LHR|EGLL|\n",
      "+----+--------------------+--------------------+----------------+------+----+----+\n",
      "only showing top 2 rows\n",
      "\n",
      "+++++++++++++++++++++++++++++++++\n",
      "\n",
      "+----+--------------------+--------------------+----------------+------+----+----+\n",
      "|rank|        airport_name|            location|total_passengers|change|IATA|ICAO|\n",
      "+----+--------------------+--------------------+----------------+------+----+----+\n",
      "|   1|Hartsfield–Jackso...|Atlanta, Georgia,...|        94430785|    1%| ATL|KATL|\n",
      "|   2|Beijing Capital I...|Chaoyang, Beijing...|        83712355|    2%| PEK|ZBAA|\n",
      "+----+--------------------+--------------------+----------------+------+----+----+\n",
      "only showing top 2 rows\n",
      "\n",
      "+++++++++++++++++++++++++++++++++\n",
      "\n",
      "+----+--------------------+--------------------+----------------+--------+----+-------------+\n",
      "|rank|        airport_name|            location|total_passengers|  change|IATA|         ICAO|\n",
      "+----+--------------------+--------------------+----------------+--------+----+-------------+\n",
      "|   1|Hartsfield–Jackso...|    Atlanta, Georgia|        ATL/KATL|96178899|1.9%|United States|\n",
      "|   2|Beijing Capital I...|Chaoyang-Shunyi, ...|        PEK/ZBAA|86130390|2.9%|        China|\n",
      "+----+--------------------+--------------------+----------------+--------+----+-------------+\n",
      "only showing top 2 rows\n",
      "\n",
      "+++++++++++++++++++++++++++++++++\n",
      "\n"
     ]
    }
   ],
   "source": [
    "fields = []\n",
    "fields.append(StructField('rank', StringType(), True))\n",
    "fields.append(StructField('airport_name', StringType(), True))\n",
    "fields.append(StructField('location', StringType(), True))\n",
    "fields.append(StructField('total_passengers', StringType(), True))\n",
    "fields.append(StructField('change', StringType(), True))\n",
    "fields.append(StructField('IATA', StringType(), True))\n",
    "fields.append(StructField('ICAO', StringType(), True))\n",
    "schema_passengers_data = StructType(fields)\n",
    "\n",
    "\n",
    "df_international_passengers_2013 = sqlContext.createDataFrame(all_passenger_datasets_except2015[0], schema_passengers_data)\n",
    "df_international_passengers_2014 = sqlContext.createDataFrame(all_passenger_datasets_except2015[1], schema_passengers_data)\n",
    "df_total_passengers_2013 = sqlContext.createDataFrame(all_passenger_datasets_except2015[2], schema_passengers_data)\n",
    "df_total_passengers_2014 = sqlContext.createDataFrame(all_passenger_datasets_except2015[3], schema_passengers_data)\n",
    "\n",
    "datasets = [df_international_passengers_2013,df_international_passengers_2014,df_total_passengers_2013,df_total_passengers_2014]\n",
    "for df in datasets:\n",
    "    df.show(2)\n",
    "    print(\"+++++++++++++++++++++++++++++++++\")\n",
    "    print()"
   ]
  },
  {
   "cell_type": "markdown",
   "metadata": {},
   "source": [
    "### fix the data from 2015 missing ICAO column"
   ]
  },
  {
   "cell_type": "code",
   "execution_count": 14,
   "metadata": {
    "collapsed": true
   },
   "outputs": [],
   "source": [
    "fields = []\n",
    "fields.append(StructField('rank', StringType(), True))\n",
    "fields.append(StructField('airport_name', StringType(), True))\n",
    "fields.append(StructField('location', StringType(), True))\n",
    "fields.append(StructField('country', StringType(), True))\n",
    "fields.append(StructField('total_passengers', StringType(), True))\n",
    "fields.append(StructField('change', StringType(), True))\n",
    "fields.append(StructField('IATA', StringType(), True))\n",
    "schema_total_passengers_2015 = StructType(fields)\n",
    "\n",
    "fields = []\n",
    "fields.append(StructField('rank', StringType(), True))\n",
    "fields.append(StructField('airport_name', StringType(), True))\n",
    "fields.append(StructField('location', StringType(), True))\n",
    "fields.append(StructField('total_passengers', StringType(), True))\n",
    "fields.append(StructField('change', StringType(), True))\n",
    "fields.append(StructField('IATA', StringType(), True))\n",
    "schema_international_passengers_2015 = StructType(fields)"
   ]
  },
  {
   "cell_type": "code",
   "execution_count": 15,
   "metadata": {},
   "outputs": [
    {
     "name": "stdout",
     "output_type": "stream",
     "text": [
      "total passenger data 2015\n",
      "+----+----+--------------------+---------+-------+----------------+------+----+\n",
      "|IATA|rank|        airport_name| location|country|total_passengers|change|ICAO|\n",
      "+----+----+--------------------+---------+-------+----------------+------+----+\n",
      "| FRA|  12|Flughafen Frankfu...|Frankfurt|Germany|        61032022|   2.5|EDDF|\n",
      "| IST|  11|Atatürk Internati...| Istanbul| Turkey|        61346229|   8.2|LTBA|\n",
      "+----+----+--------------------+---------+-------+----------------+------+----+\n",
      "only showing top 2 rows\n",
      "\n",
      "\n",
      "++++++++++++++++++++++++++++++\n",
      "\n",
      "international passenger data 2015\n",
      "+----+----+--------------------+-----------------+----------------+------+----+\n",
      "|IATA|rank|        airport_name|         location|total_passengers|change|ICAO|\n",
      "+----+----+--------------------+-----------------+----------------+------+----+\n",
      "| PMI|  36|Aeropuerto de Pal...|Palma De Mallorca|        18107070|   0.6|LEPA|\n",
      "| HEL|  48|Helsinki-Vantaa A...|         Helsinki|        13826868|   2.9|EFHK|\n",
      "+----+----+--------------------+-----------------+----------------+------+----+\n",
      "only showing top 2 rows\n",
      "\n"
     ]
    }
   ],
   "source": [
    "total_passengers_2015 = sc.textFile(data_path + total_passengers_file + '2015' + '.csv')\n",
    "international_passengers_2015 = sc.textFile(data_path + international_passengers_file + '2015' + '.csv')\n",
    "\n",
    "\n",
    "# remove header\n",
    "header = total_passengers_2015.first()\n",
    "total_passengers_2015 = total_passengers_2015.filter(lambda l: l != header)\n",
    "# create dataframe\n",
    "df_total_passengers_2015 = sqlContext.createDataFrame(total_passengers_2015.map(lambda l: l.split(\";\")),schema_total_passengers_2015)\n",
    "# add missing column by join using previous data (df_airport_data)\n",
    "df_total_passengers_2015 = df_total_passengers_2015.join(df_airport_data.select(df_airport_data.IATA, df_airport_data.ICAO),\"IATA\")\n",
    "\n",
    "# repeat for second dataset from 2015\n",
    "international_passengers_2015 = sc.textFile(data_path + international_passengers_file + '2015' + '.csv')\n",
    "header = international_passengers_2015.first()\n",
    "international_passengers_2015 = international_passengers_2015.filter(lambda l: l != header)\n",
    "temp = international_passengers_2015.map(lambda l: l.split(\";\"))\n",
    "df_international_passengers_2015 = sqlContext.createDataFrame(international_passengers_2015.map(lambda l: l.split(\";\")),schema_international_passengers_2015)\n",
    "df_international_passengers_2015 = df_international_passengers_2015.join(df_airport_data.select(df_airport_data.IATA, df_airport_data.ICAO),\"IATA\")\n",
    "\n",
    "# print results\n",
    "print(\"total passenger data 2015\")\n",
    "df_total_passengers_2015.show(2)\n",
    "print()\n",
    "print(\"++++++++++++++++++++++++++++++\")\n",
    "print()\n",
    "print(\"international passenger data 2015\")\n",
    "df_international_passengers_2015.show(2)"
   ]
  },
  {
   "cell_type": "markdown",
   "metadata": {},
   "source": [
    "# Prepare passenger data Brussels Airport"
   ]
  },
  {
   "cell_type": "code",
   "execution_count": 16,
   "metadata": {},
   "outputs": [
    {
     "name": "stdout",
     "output_type": "stream",
     "text": [
      "+----------------+-------+-------+-------+-------+-------+-------+-------+-------+-------+-------+-------+-------+-------+-------+-------+-------+-------+-------+-------+-------+-------+-------+-------+-------+-------+-------+-------+-------+-------+-------+\n",
      "|destination ICAO|2004M03|2004M04|2005M03|2005M04|2006M03|2006M04|2007M03|2007M04|2008M03|2008M04|2009M03|2009M04|2010M03|2010M04|2011M03|2011M04|2012M03|2012M04|2013M03|2013M04|2014M03|2014M04|2015M03|2015M04|2016M03|2016M04|2017M03|2017M04|2018M03|2018M04|\n",
      "+----------------+-------+-------+-------+-------+-------+-------+-------+-------+-------+-------+-------+-------+-------+-------+-------+-------+-------+-------+-------+-------+-------+-------+-------+-------+-------+-------+-------+-------+-------+-------+\n",
      "|            LOWW|  29916|  31346|  27747|  29958|  32884|  31902|  35712|  40232|  43480|  42864|  37655|  37727|  32659|  26410|  35922|  34845|  35000|  34440|  33190|  35530|  35638|  41863|  34789|  39449|  24226|  23667|  35897|  40901|  42131|  47875|\n",
      "|            LSGG|  30095|  24975|  31498|  26380|  33297|  25938|  34815|  26141|  45937|  41149|  42818|  38047|  47694|  30482|  53313|  42769|  51512|  47054|  55627|  47128|  56207|  51004|  56695|  50443|  43760|  32612|  61271|  49433|  62195|  54601|\n",
      "|            EDDF|  38955|  35909|  36727|  40171|  38703|  38485|  43385|  40410|  39721|  44866|  37908|  38718|  39610|  30217|  39904|  39941|  37098|  41623|  36606|  40579|  37155|  38209|  39730|  48836|  28646|  27860|  44091|  50428|  47555|  53228|\n",
      "|            EDDM|  24856|  22599|  22819|  26152|  26699|  29370|  33008|  31623|  31343|  33501|  31057|  29201|  31965|  21393|  32429|  31743|  33591|  27812|  33071|  31695|  33395|  28131|  30855|  29698|  24157|  15642|  34679|  31698|  36192|  33775|\n",
      "|            EKCH|  37115|  33198|  30886|  37328|  34858|  34079|  36554|  32937|  36457|  43283|  32972|  33123|  34605|  24796|  37479|  37446|  45079|  44789|  38419|  42391|  39797|  44080|  43637|  41942|  26949|  25219|  41326|  40005|  40803|  41383|\n",
      "|            LEBL|  41710|  49232|  50457|  55467|  50544|  59551|  45389|  51765|  43670|  47232|  35233|  44463|  34687|  31996|  39884|  45956|  41208|  50546|  39167|  47103|  64598|  80869|  71853|  79889|  46356|  52897|  73800|  87060|  76564|  85906|\n",
      "|            LEMD|  54936|  62827|  52426|  54946|  56799|  64330|  56377|  61100|  60995|  63229|  51926|  65549|  49673|  43350|  49393|  56912|  45763|  49223|  52479|  60407|  57687|  67294|  71619|  73660|  47532|  39611|  91650|  83687|  85250|  89228|\n",
      "|            LEMG|  20671|  32503|  19848|  29290|  20583|  36621|  20357|  32031|  24289|  27690|  17062|  26952|  17171|  19609|  20147|  28580|  20817|  27911|  20147|  26864|  26146|  42695|  30490|  46261|  20845|  27841|  41195|  53374|  40892|  53234|\n",
      "|            LFMN|  19233|  24741|  19248|  20298|  17006|  22283|  17703|  22389|  26471|  26201|  22595|  30017|  20598|  24305|  24947|  32035|  24851|  30204|  22429|  29488|  23669|  31759|  25841|  31659|  15634|  15619|  23838|  31847|  26873|  32262|\n",
      "|            LIRF|  40407|  50232|  42178|  41348|  38205|  43027|  39611|  45985|  40520|  45433|  37726|  47180|  35159|  34951|  44332|  50197|  38877|  47230|  36265|  47910|  56916|  69788|  63128|  77276|  41610|  50261|  63358|  70473|  59634|  71953|\n",
      "|            LPPT|  24948|  35429|  31816|  34725|  31384|  41629|  36572|  45651|  37515|  38880|  29248|  40816|  29276|  29266|  29443|  38510|  30739|  33249|  30551|  34376|  48755|  59493|  54413|  64791|  35463|  37954|  58836|  69833|  53991|  70407|\n",
      "|            LTAI|  11009|  27831|  17868|  34299|  15728|  33405|  17312|  40614|  26043|  36678|  14353|  41345|  14240|  32261|  17477|  53719|  17285|  41616|  24496|  51292|  17621|  52341|  14758|  43521|   7088|   7036|   5356|  19152|      0|      0|\n",
      "|            LTBA|  12159|  16819|  16760|  17416|  14148|  18152|  15771|  16591|  19626|  21960|  21249|  23924|  20475|  20650|  22627|  27195|  25605|  31750|  32832|  36136|  34218|  39641|  30837|  34980|  19860|  15711|  28678|  34314|  34662|  39687|\n",
      "|            EGLL|  74402|  72405|  66946|  70356|  66600|  63640|  64050|  58411|  52717|  51046|  48606|  45563|  42185|  31390|  44252|  40606|  45682|  46759|  49349|  49606|  47174|  50106|  46758|  53150|  33412|  27384|  52987|  58391|  55357|  57970|\n",
      "|            LHBP|      0|      0|   5413|   5844|   6084|   6584|   6653|   6487|   8204|   8016|   9064|   8870|   8938|   7214|   9590|  10383|  21674|  28886|  23596|  26699|  26160|  27129|  24719|  24855|  24336|  24661|  28711|  30788|  29298|  32506|\n",
      "+----------------+-------+-------+-------+-------+-------+-------+-------+-------+-------+-------+-------+-------+-------+-------+-------+-------+-------+-------+-------+-------+-------+-------+-------+-------+-------+-------+-------+-------+-------+-------+\n",
      "\n"
     ]
    }
   ],
   "source": [
    "passenger_data_brussel = passenger_data_brussels.map(lambda l: l.split(\";\"))\n",
    "header = passenger_data_brussel.first()\n",
    "passenger_data_brussel = passenger_data_brussel.filter(lambda l: l != header)\n",
    "df_passenger_data_brussels = passenger_data_brussel.toDF(header)\n",
    "\n",
    "df_passenger_data_brussels.show()"
   ]
  },
  {
   "cell_type": "markdown",
   "metadata": {},
   "source": [
    "## Joining airport data on destinations"
   ]
  },
  {
   "cell_type": "code",
   "execution_count": 17,
   "metadata": {},
   "outputs": [],
   "source": [
    "df_passenger_data_brussels = df_passenger_data_brussels.withColumnRenamed(\"destination ICAO\",\"ICAO\")\n",
    "df_passenger_data_brussels_with_airport = df_passenger_data_brussels.join(df_airport_data.select(df_airport_data.airport_name, df_airport_data.longitude, df_airport_data.latitude, df_airport_data.ICAO),on=['ICAO'],how='inner')"
   ]
  },
  {
   "cell_type": "code",
   "execution_count": 115,
   "metadata": {},
   "outputs": [],
   "source": [
    "df_passenger_data_brussels_with_airport.select(df_passenger_data_brussels.columns[1:])\n",
    "\n",
    "from functools import reduce\n",
    "\n",
    "def superSum(*cols):\n",
    "    return reduce(lambda a, b: a + b, cols)\n",
    "\n",
    "df_total = df_passenger_data_brussels_with_airport.select(df_passenger_data_brussels.columns[1:])\n",
    "df_passenger_data_brussels_with_airport = df_passenger_data_brussels_with_airport.withColumn('total_passengers', superSum(*[df_total[x] for x in df_total.columns]))\n",
    "\n",
    "\n"
   ]
  },
  {
   "cell_type": "markdown",
   "metadata": {},
   "source": [
    "## Most popular destinations march/april 2004-2018 from Brussels airport"
   ]
  },
  {
   "cell_type": "code",
   "execution_count": 141,
   "metadata": {},
   "outputs": [
    {
     "data": {
      "text/html": [
       "<div style=\"width:100%;\"><div style=\"position:relative;width:100%;height:0;padding-bottom:60%;\"><iframe src=\"data:text/html;charset=utf-8;base64,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\" style=\"position:absolute;width:100%;height:100%;left:0;top:0;border:none !important;\" allowfullscreen webkitallowfullscreen mozallowfullscreen></iframe></div></div>"
      ],
      "text/plain": [
       "<folium.folium.Map at 0x1e984c00c50>"
      ]
     },
     "execution_count": 141,
     "metadata": {},
     "output_type": "execute_result"
    }
   ],
   "source": [
    "import folium\n",
    "#basis map maken\n",
    "df_brussels_airport = df_airport_data.filter(col(\"airport_name\") == \"Brussels Airport\")\n",
    "ba_lat = df_brussels_airport.select(\"latitude\").collect()[0][0]\n",
    "ba_lon = df_brussels_airport.select(\"longitude\").collect()[0][0]\n",
    "ba_loc = [ba_lat, ba_lon]\n",
    "ba_name = df_brussels_airport.select(\"airport_name\").collect()[0][0]\n",
    "first_map = folium.Map(location=[ba_lat, ba_lon], zoom_start=4)\n",
    "sum_zaventem = 0\n",
    "avg_destination = df_passenger_data_brussels_with_airport.agg({\"total_passengers\": \"avg\"}).collect()[0][0]\n",
    "\n",
    "#markers toevoegen\n",
    "for dest in df_passenger_data_brussels_with_airport.rdd.collect():\n",
    "    try:\n",
    "        if(int(dest['total_passengers']) > int(avg_destination)):\n",
    "            c='orange'\n",
    "        else:\n",
    "            c='green'\n",
    "        p = dest['airport_name'] + \" passengers: \" + f\"{int(dest['total_passengers']) - 1:,}\".replace(',','.')\n",
    "        loc = [ dest['latitude'], dest['longitude'] ]\n",
    "        #parse_html is belangrijk door vreemde tekens in namen\n",
    "        folium.Marker( location=[ dest['latitude'], dest['longitude'] ], popup=folium.Popup(p,parse_html=True), icon=folium.Icon(color=c,icon='plane') ).add_to( first_map )\n",
    "        folium.PolyLine(locations=[ba_loc,loc], color=c).add_to(first_map)\n",
    "        sum_zaventem += dest['total_passengers']\n",
    "        \n",
    "    except:\n",
    "        pass\n",
    "\n",
    "ba_name = ba_name + \" passengers: \"  + f\"{int(sum_zaventem) - 1:,}\".replace(',','.')\n",
    "folium.Marker( location=[ ba_lat, ba_lon ], popup=ba_name, icon=folium.Icon(color='red',icon='plane') ).add_to( first_map )\n",
    "\n",
    "legend_html = \"\"\"\n",
    "     <div style=”position: fixed; \n",
    "     bottom: 50px; left: 50px; width: 100px; height: 90px; \n",
    "     border:2px solid grey; z-index:1000; font-size:12px;\n",
    "     “>&nbsp; Cool Legend <br>\n",
    "     &nbsp; <div style=\"color:red;\">East</div> &nbsp; <i class=”fa fa-map-marker fa-2x”\n",
    "                  style=”color:green”></i><br>\n",
    "     &nbsp; West &nbsp; <i class=”fa fa-map-marker fa-2x”\n",
    "                  style=”color:red”></i>\n",
    "      </div>\n",
    "     \"\"\"\n",
    "first_map.get_root().html.add_child(folium.Element(legend_html))\n",
    "\n",
    "#weergeven map\n",
    "first_map"
   ]
  },
  {
   "cell_type": "markdown",
   "metadata": {},
   "source": [
    "## Data cleanen om grafiek te tonen"
   ]
  },
  {
   "cell_type": "code",
   "execution_count": 19,
   "metadata": {
    "collapsed": true
   },
   "outputs": [],
   "source": [
    "from pyspark.sql.functions import collect_list\n",
    "from pyspark.sql.types import IntegerType\n",
    "from pyspark.sql import functions as F\n",
    "query_result = query_result.withColumn(\"nkill\", query_result[\"nkill\"].cast(IntegerType()))\n",
    "grouped_query = query_result.groupby('iyear').agg(F.sum('nkill').alias(\"nkill\"))"
   ]
  },
  {
   "cell_type": "markdown",
   "metadata": {},
   "source": [
    "## People killed in Belgium by terrorist attacks 2014-2018"
   ]
  },
  {
   "cell_type": "code",
   "execution_count": 20,
   "metadata": {},
   "outputs": [
    {
     "data": {
      "image/png": "[encoded data removed]",
      "text/plain": [
       "<matplotlib.figure.Figure at 0x1e9820a49b0>"
      ]
     },
     "metadata": {},
     "output_type": "display_data"
    }
   ],
   "source": [
    "%matplotlib inline\n",
    "import matplotlib.pyplot as plt\n",
    "import matplotlib.dates as plt_dates\n",
    "from datetime import datetime\n",
    "\n",
    "y_axis = []\n",
    "x_axis = []\n",
    "\n",
    "for row in grouped_query.rdd.collect():\n",
    "     #Toekennen aan x as\n",
    "    x_axis.append(int(row.iyear))\n",
    "    #Toekennen aan y as\n",
    "    y_axis.append(int(row.nkill))\n",
    "    \n",
    "#Maken grafiek\n",
    "fig1 = plt.figure(figsize=(7, 7))\n",
    "fig1.suptitle('People killed in Belgium by terrorist attacks 2014-2018', fontsize=14)\n",
    "ax = fig1.add_subplot(111)\n",
    "ax.set_xlabel('year')\n",
    "ax.set_ylabel('deaths')\n",
    "ax.bar(x_axis, y_axis, fc='red', align='center')\n",
    "ax.xaxis.set_major_locator(plt.MaxNLocator(5))\n",
    "ax.yaxis.set_major_locator(plt.MaxNLocator(5))\n",
    "plt.show()"
   ]
  },
  {
   "cell_type": "code",
   "execution_count": null,
   "metadata": {
    "collapsed": true
   },
   "outputs": [],
   "source": []
  },
  {
   "cell_type": "code",
   "execution_count": null,
   "metadata": {
    "collapsed": true
   },
   "outputs": [],
   "source": []
  }
 ],
 "metadata": {
  "kernelspec": {
   "display_name": "Python 3",
   "language": "python",
   "name": "python3"
  },
  "language_info": {
   "codemirror_mode": {
    "name": "ipython",
    "version": 3
   },
   "file_extension": ".py",
   "mimetype": "text/x-python",
   "name": "python",
   "nbconvert_exporter": "python",
   "pygments_lexer": "ipython3",
   "version": "3.6.1"
  }
 },
 "nbformat": 4,
 "nbformat_minor": 2
}
